{
  "nbformat": 4,
  "nbformat_minor": 0,
  "metadata": {
    "colab": {
      "provenance": []
    },
    "kernelspec": {
      "name": "python3",
      "display_name": "Python 3"
    },
    "language_info": {
      "name": "python"
    }
  },
  "cells": [
    {
      "cell_type": "markdown",
      "source": [
        "# Introducción a las redes neuronales"
      ],
      "metadata": {
        "id": "B1KbFretYC2F"
      }
    },
    {
      "cell_type": "markdown",
      "source": [
        "En este caso vamos a realizar una introducción a las redes neuronales, vamos a utilizar un un conjunto de datos de diabetes, estuadiamos la evolución de la enfermedad de pacientes con Diabetes Mellitus despues de un año. En este conjunto de datos vamos a caracterizar los siguientes elementos:\n",
        "\n",
        "- edad\n",
        "- sexo\n",
        "- índice de masa corporal\n",
        "- presión arterial promedio\n",
        "- seis mediciones de suero sanguíneo:\n",
        "\n",
        "  - Colesterol Total\n",
        "  - Baja densidad de liporoteinas\n",
        "  - Alta densidad de lipoproteinas\n",
        "  - Triglicéridos\n",
        "  - Concentración de Lamorigina\n",
        "  - Glucosa\n",
        "\n",
        "Se tienen información de 442 pacientes (m = 442). La respuesta de interés, Y, es una medida cuantitativa de la progresión de la enfermedad un año después del inicio del estudio. Los valores de Y varían entre 25 y 346\n",
        "\n",
        "Fuente de la información: diabetes data Artículo original: Least-Angle-Regression_2004.\n",
        "\n",
        "\n"
      ],
      "metadata": {
        "id": "1jeIPhGeYH39"
      }
    },
    {
      "cell_type": "code",
      "execution_count": 59,
      "metadata": {
        "id": "5c2dLsKuFa2X"
      },
      "outputs": [],
      "source": [
        "import pandas as pd\n",
        "import numpy as np\n",
        "import matplotlib.pyplot as plt"
      ]
    },
    {
      "cell_type": "code",
      "source": [
        "# Los datos se encuentran el el archivo diabetes.csv. Estos se cargan en el objeto df del tipo DataFrame\n",
        "\n",
        "df = pd.read_csv('diabetes.csv', sep ='\\t')\n",
        "\n",
        "# el objeto df contiene los 10 rasgos relevantes de los pacientes diabéticos,\n",
        "# así como el progreso (Y) de la enfermedad un año después de comenzado el estudio."
      ],
      "metadata": {
        "id": "iGzQbNQVaL7J"
      },
      "execution_count": 60,
      "outputs": []
    },
    {
      "cell_type": "code",
      "source": [
        "# Se despliegan las primeras 5 muestras (rasgos, objetivo)\n",
        "\n",
        "df.head()"
      ],
      "metadata": {
        "colab": {
          "base_uri": "https://localhost:8080/",
          "height": 206
        },
        "id": "aG74M0_YbQw7",
        "outputId": "65954aef-c0f2-4854-8822-d3e2716848b9"
      },
      "execution_count": 61,
      "outputs": [
        {
          "output_type": "execute_result",
          "data": {
            "text/plain": [
              "   AGE  SEX   BMI     BP   S1     S2    S3   S4      S5  S6    Y\n",
              "0   59    2  32.1  101.0  157   93.2  38.0  4.0  4.8598  87  151\n",
              "1   48    1  21.6   87.0  183  103.2  70.0  3.0  3.8918  69   75\n",
              "2   72    2  30.5   93.0  156   93.6  41.0  4.0  4.6728  85  141\n",
              "3   24    1  25.3   84.0  198  131.4  40.0  5.0  4.8903  89  206\n",
              "4   50    1  23.0  101.0  192  125.4  52.0  4.0  4.2905  80  135"
            ],
            "text/html": [
              "\n",
              "  <div id=\"df-1a6a050e-6c5b-484f-a0ea-2c3dcddbb947\" class=\"colab-df-container\">\n",
              "    <div>\n",
              "<style scoped>\n",
              "    .dataframe tbody tr th:only-of-type {\n",
              "        vertical-align: middle;\n",
              "    }\n",
              "\n",
              "    .dataframe tbody tr th {\n",
              "        vertical-align: top;\n",
              "    }\n",
              "\n",
              "    .dataframe thead th {\n",
              "        text-align: right;\n",
              "    }\n",
              "</style>\n",
              "<table border=\"1\" class=\"dataframe\">\n",
              "  <thead>\n",
              "    <tr style=\"text-align: right;\">\n",
              "      <th></th>\n",
              "      <th>AGE</th>\n",
              "      <th>SEX</th>\n",
              "      <th>BMI</th>\n",
              "      <th>BP</th>\n",
              "      <th>S1</th>\n",
              "      <th>S2</th>\n",
              "      <th>S3</th>\n",
              "      <th>S4</th>\n",
              "      <th>S5</th>\n",
              "      <th>S6</th>\n",
              "      <th>Y</th>\n",
              "    </tr>\n",
              "  </thead>\n",
              "  <tbody>\n",
              "    <tr>\n",
              "      <th>0</th>\n",
              "      <td>59</td>\n",
              "      <td>2</td>\n",
              "      <td>32.1</td>\n",
              "      <td>101.0</td>\n",
              "      <td>157</td>\n",
              "      <td>93.2</td>\n",
              "      <td>38.0</td>\n",
              "      <td>4.0</td>\n",
              "      <td>4.8598</td>\n",
              "      <td>87</td>\n",
              "      <td>151</td>\n",
              "    </tr>\n",
              "    <tr>\n",
              "      <th>1</th>\n",
              "      <td>48</td>\n",
              "      <td>1</td>\n",
              "      <td>21.6</td>\n",
              "      <td>87.0</td>\n",
              "      <td>183</td>\n",
              "      <td>103.2</td>\n",
              "      <td>70.0</td>\n",
              "      <td>3.0</td>\n",
              "      <td>3.8918</td>\n",
              "      <td>69</td>\n",
              "      <td>75</td>\n",
              "    </tr>\n",
              "    <tr>\n",
              "      <th>2</th>\n",
              "      <td>72</td>\n",
              "      <td>2</td>\n",
              "      <td>30.5</td>\n",
              "      <td>93.0</td>\n",
              "      <td>156</td>\n",
              "      <td>93.6</td>\n",
              "      <td>41.0</td>\n",
              "      <td>4.0</td>\n",
              "      <td>4.6728</td>\n",
              "      <td>85</td>\n",
              "      <td>141</td>\n",
              "    </tr>\n",
              "    <tr>\n",
              "      <th>3</th>\n",
              "      <td>24</td>\n",
              "      <td>1</td>\n",
              "      <td>25.3</td>\n",
              "      <td>84.0</td>\n",
              "      <td>198</td>\n",
              "      <td>131.4</td>\n",
              "      <td>40.0</td>\n",
              "      <td>5.0</td>\n",
              "      <td>4.8903</td>\n",
              "      <td>89</td>\n",
              "      <td>206</td>\n",
              "    </tr>\n",
              "    <tr>\n",
              "      <th>4</th>\n",
              "      <td>50</td>\n",
              "      <td>1</td>\n",
              "      <td>23.0</td>\n",
              "      <td>101.0</td>\n",
              "      <td>192</td>\n",
              "      <td>125.4</td>\n",
              "      <td>52.0</td>\n",
              "      <td>4.0</td>\n",
              "      <td>4.2905</td>\n",
              "      <td>80</td>\n",
              "      <td>135</td>\n",
              "    </tr>\n",
              "  </tbody>\n",
              "</table>\n",
              "</div>\n",
              "    <div class=\"colab-df-buttons\">\n",
              "\n",
              "  <div class=\"colab-df-container\">\n",
              "    <button class=\"colab-df-convert\" onclick=\"convertToInteractive('df-1a6a050e-6c5b-484f-a0ea-2c3dcddbb947')\"\n",
              "            title=\"Convert this dataframe to an interactive table.\"\n",
              "            style=\"display:none;\">\n",
              "\n",
              "  <svg xmlns=\"http://www.w3.org/2000/svg\" height=\"24px\" viewBox=\"0 -960 960 960\">\n",
              "    <path d=\"M120-120v-720h720v720H120Zm60-500h600v-160H180v160Zm220 220h160v-160H400v160Zm0 220h160v-160H400v160ZM180-400h160v-160H180v160Zm440 0h160v-160H620v160ZM180-180h160v-160H180v160Zm440 0h160v-160H620v160Z\"/>\n",
              "  </svg>\n",
              "    </button>\n",
              "\n",
              "  <style>\n",
              "    .colab-df-container {\n",
              "      display:flex;\n",
              "      gap: 12px;\n",
              "    }\n",
              "\n",
              "    .colab-df-convert {\n",
              "      background-color: #E8F0FE;\n",
              "      border: none;\n",
              "      border-radius: 50%;\n",
              "      cursor: pointer;\n",
              "      display: none;\n",
              "      fill: #1967D2;\n",
              "      height: 32px;\n",
              "      padding: 0 0 0 0;\n",
              "      width: 32px;\n",
              "    }\n",
              "\n",
              "    .colab-df-convert:hover {\n",
              "      background-color: #E2EBFA;\n",
              "      box-shadow: 0px 1px 2px rgba(60, 64, 67, 0.3), 0px 1px 3px 1px rgba(60, 64, 67, 0.15);\n",
              "      fill: #174EA6;\n",
              "    }\n",
              "\n",
              "    .colab-df-buttons div {\n",
              "      margin-bottom: 4px;\n",
              "    }\n",
              "\n",
              "    [theme=dark] .colab-df-convert {\n",
              "      background-color: #3B4455;\n",
              "      fill: #D2E3FC;\n",
              "    }\n",
              "\n",
              "    [theme=dark] .colab-df-convert:hover {\n",
              "      background-color: #434B5C;\n",
              "      box-shadow: 0px 1px 3px 1px rgba(0, 0, 0, 0.15);\n",
              "      filter: drop-shadow(0px 1px 2px rgba(0, 0, 0, 0.3));\n",
              "      fill: #FFFFFF;\n",
              "    }\n",
              "  </style>\n",
              "\n",
              "    <script>\n",
              "      const buttonEl =\n",
              "        document.querySelector('#df-1a6a050e-6c5b-484f-a0ea-2c3dcddbb947 button.colab-df-convert');\n",
              "      buttonEl.style.display =\n",
              "        google.colab.kernel.accessAllowed ? 'block' : 'none';\n",
              "\n",
              "      async function convertToInteractive(key) {\n",
              "        const element = document.querySelector('#df-1a6a050e-6c5b-484f-a0ea-2c3dcddbb947');\n",
              "        const dataTable =\n",
              "          await google.colab.kernel.invokeFunction('convertToInteractive',\n",
              "                                                    [key], {});\n",
              "        if (!dataTable) return;\n",
              "\n",
              "        const docLinkHtml = 'Like what you see? Visit the ' +\n",
              "          '<a target=\"_blank\" href=https://colab.research.google.com/notebooks/data_table.ipynb>data table notebook</a>'\n",
              "          + ' to learn more about interactive tables.';\n",
              "        element.innerHTML = '';\n",
              "        dataTable['output_type'] = 'display_data';\n",
              "        await google.colab.output.renderOutput(dataTable, element);\n",
              "        const docLink = document.createElement('div');\n",
              "        docLink.innerHTML = docLinkHtml;\n",
              "        element.appendChild(docLink);\n",
              "      }\n",
              "    </script>\n",
              "  </div>\n",
              "\n",
              "\n",
              "    <div id=\"df-eeb89645-7acc-4092-afcb-b54792f2c463\">\n",
              "      <button class=\"colab-df-quickchart\" onclick=\"quickchart('df-eeb89645-7acc-4092-afcb-b54792f2c463')\"\n",
              "                title=\"Suggest charts\"\n",
              "                style=\"display:none;\">\n",
              "\n",
              "<svg xmlns=\"http://www.w3.org/2000/svg\" height=\"24px\"viewBox=\"0 0 24 24\"\n",
              "     width=\"24px\">\n",
              "    <g>\n",
              "        <path d=\"M19 3H5c-1.1 0-2 .9-2 2v14c0 1.1.9 2 2 2h14c1.1 0 2-.9 2-2V5c0-1.1-.9-2-2-2zM9 17H7v-7h2v7zm4 0h-2V7h2v10zm4 0h-2v-4h2v4z\"/>\n",
              "    </g>\n",
              "</svg>\n",
              "      </button>\n",
              "\n",
              "<style>\n",
              "  .colab-df-quickchart {\n",
              "      --bg-color: #E8F0FE;\n",
              "      --fill-color: #1967D2;\n",
              "      --hover-bg-color: #E2EBFA;\n",
              "      --hover-fill-color: #174EA6;\n",
              "      --disabled-fill-color: #AAA;\n",
              "      --disabled-bg-color: #DDD;\n",
              "  }\n",
              "\n",
              "  [theme=dark] .colab-df-quickchart {\n",
              "      --bg-color: #3B4455;\n",
              "      --fill-color: #D2E3FC;\n",
              "      --hover-bg-color: #434B5C;\n",
              "      --hover-fill-color: #FFFFFF;\n",
              "      --disabled-bg-color: #3B4455;\n",
              "      --disabled-fill-color: #666;\n",
              "  }\n",
              "\n",
              "  .colab-df-quickchart {\n",
              "    background-color: var(--bg-color);\n",
              "    border: none;\n",
              "    border-radius: 50%;\n",
              "    cursor: pointer;\n",
              "    display: none;\n",
              "    fill: var(--fill-color);\n",
              "    height: 32px;\n",
              "    padding: 0;\n",
              "    width: 32px;\n",
              "  }\n",
              "\n",
              "  .colab-df-quickchart:hover {\n",
              "    background-color: var(--hover-bg-color);\n",
              "    box-shadow: 0 1px 2px rgba(60, 64, 67, 0.3), 0 1px 3px 1px rgba(60, 64, 67, 0.15);\n",
              "    fill: var(--button-hover-fill-color);\n",
              "  }\n",
              "\n",
              "  .colab-df-quickchart-complete:disabled,\n",
              "  .colab-df-quickchart-complete:disabled:hover {\n",
              "    background-color: var(--disabled-bg-color);\n",
              "    fill: var(--disabled-fill-color);\n",
              "    box-shadow: none;\n",
              "  }\n",
              "\n",
              "  .colab-df-spinner {\n",
              "    border: 2px solid var(--fill-color);\n",
              "    border-color: transparent;\n",
              "    border-bottom-color: var(--fill-color);\n",
              "    animation:\n",
              "      spin 1s steps(1) infinite;\n",
              "  }\n",
              "\n",
              "  @keyframes spin {\n",
              "    0% {\n",
              "      border-color: transparent;\n",
              "      border-bottom-color: var(--fill-color);\n",
              "      border-left-color: var(--fill-color);\n",
              "    }\n",
              "    20% {\n",
              "      border-color: transparent;\n",
              "      border-left-color: var(--fill-color);\n",
              "      border-top-color: var(--fill-color);\n",
              "    }\n",
              "    30% {\n",
              "      border-color: transparent;\n",
              "      border-left-color: var(--fill-color);\n",
              "      border-top-color: var(--fill-color);\n",
              "      border-right-color: var(--fill-color);\n",
              "    }\n",
              "    40% {\n",
              "      border-color: transparent;\n",
              "      border-right-color: var(--fill-color);\n",
              "      border-top-color: var(--fill-color);\n",
              "    }\n",
              "    60% {\n",
              "      border-color: transparent;\n",
              "      border-right-color: var(--fill-color);\n",
              "    }\n",
              "    80% {\n",
              "      border-color: transparent;\n",
              "      border-right-color: var(--fill-color);\n",
              "      border-bottom-color: var(--fill-color);\n",
              "    }\n",
              "    90% {\n",
              "      border-color: transparent;\n",
              "      border-bottom-color: var(--fill-color);\n",
              "    }\n",
              "  }\n",
              "</style>\n",
              "\n",
              "      <script>\n",
              "        async function quickchart(key) {\n",
              "          const quickchartButtonEl =\n",
              "            document.querySelector('#' + key + ' button');\n",
              "          quickchartButtonEl.disabled = true;  // To prevent multiple clicks.\n",
              "          quickchartButtonEl.classList.add('colab-df-spinner');\n",
              "          try {\n",
              "            const charts = await google.colab.kernel.invokeFunction(\n",
              "                'suggestCharts', [key], {});\n",
              "          } catch (error) {\n",
              "            console.error('Error during call to suggestCharts:', error);\n",
              "          }\n",
              "          quickchartButtonEl.classList.remove('colab-df-spinner');\n",
              "          quickchartButtonEl.classList.add('colab-df-quickchart-complete');\n",
              "        }\n",
              "        (() => {\n",
              "          let quickchartButtonEl =\n",
              "            document.querySelector('#df-eeb89645-7acc-4092-afcb-b54792f2c463 button');\n",
              "          quickchartButtonEl.style.display =\n",
              "            google.colab.kernel.accessAllowed ? 'block' : 'none';\n",
              "        })();\n",
              "      </script>\n",
              "    </div>\n",
              "\n",
              "    </div>\n",
              "  </div>\n"
            ],
            "application/vnd.google.colaboratory.intrinsic+json": {
              "type": "dataframe",
              "variable_name": "df",
              "summary": "{\n  \"name\": \"df\",\n  \"rows\": 442,\n  \"fields\": [\n    {\n      \"column\": \"AGE\",\n      \"properties\": {\n        \"dtype\": \"number\",\n        \"std\": 13,\n        \"min\": 19,\n        \"max\": 79,\n        \"num_unique_values\": 58,\n        \"samples\": [\n          59,\n          23,\n          54\n        ],\n        \"semantic_type\": \"\",\n        \"description\": \"\"\n      }\n    },\n    {\n      \"column\": \"SEX\",\n      \"properties\": {\n        \"dtype\": \"number\",\n        \"std\": 0,\n        \"min\": 1,\n        \"max\": 2,\n        \"num_unique_values\": 2,\n        \"samples\": [\n          1,\n          2\n        ],\n        \"semantic_type\": \"\",\n        \"description\": \"\"\n      }\n    },\n    {\n      \"column\": \"BMI\",\n      \"properties\": {\n        \"dtype\": \"number\",\n        \"std\": 4.4181215606157735,\n        \"min\": 18.0,\n        \"max\": 42.2,\n        \"num_unique_values\": 163,\n        \"samples\": [\n          27.2,\n          21.3\n        ],\n        \"semantic_type\": \"\",\n        \"description\": \"\"\n      }\n    },\n    {\n      \"column\": \"BP\",\n      \"properties\": {\n        \"dtype\": \"number\",\n        \"std\": 13.831283419783,\n        \"min\": 62.0,\n        \"max\": 133.0,\n        \"num_unique_values\": 100,\n        \"samples\": [\n          104.33,\n          102.0\n        ],\n        \"semantic_type\": \"\",\n        \"description\": \"\"\n      }\n    },\n    {\n      \"column\": \"S1\",\n      \"properties\": {\n        \"dtype\": \"number\",\n        \"std\": 34,\n        \"min\": 97,\n        \"max\": 301,\n        \"num_unique_values\": 141,\n        \"samples\": [\n          219,\n          250\n        ],\n        \"semantic_type\": \"\",\n        \"description\": \"\"\n      }\n    },\n    {\n      \"column\": \"S2\",\n      \"properties\": {\n        \"dtype\": \"number\",\n        \"std\": 30.413080969276532,\n        \"min\": 41.6,\n        \"max\": 242.4,\n        \"num_unique_values\": 302,\n        \"samples\": [\n          162.8,\n          160.2\n        ],\n        \"semantic_type\": \"\",\n        \"description\": \"\"\n      }\n    },\n    {\n      \"column\": \"S3\",\n      \"properties\": {\n        \"dtype\": \"number\",\n        \"std\": 12.934202154863332,\n        \"min\": 22.0,\n        \"max\": 99.0,\n        \"num_unique_values\": 63,\n        \"samples\": [\n          75.0,\n          93.0\n        ],\n        \"semantic_type\": \"\",\n        \"description\": \"\"\n      }\n    },\n    {\n      \"column\": \"S4\",\n      \"properties\": {\n        \"dtype\": \"number\",\n        \"std\": 1.2904498966082774,\n        \"min\": 2.0,\n        \"max\": 9.09,\n        \"num_unique_values\": 66,\n        \"samples\": [\n          6.42,\n          3.4\n        ],\n        \"semantic_type\": \"\",\n        \"description\": \"\"\n      }\n    },\n    {\n      \"column\": \"S5\",\n      \"properties\": {\n        \"dtype\": \"number\",\n        \"std\": 0.5223905610694908,\n        \"min\": 3.2581,\n        \"max\": 6.107,\n        \"num_unique_values\": 184,\n        \"samples\": [\n          3.8501,\n          4.4067\n        ],\n        \"semantic_type\": \"\",\n        \"description\": \"\"\n      }\n    },\n    {\n      \"column\": \"S6\",\n      \"properties\": {\n        \"dtype\": \"number\",\n        \"std\": 11,\n        \"min\": 58,\n        \"max\": 124,\n        \"num_unique_values\": 56,\n        \"samples\": [\n          87,\n          68\n        ],\n        \"semantic_type\": \"\",\n        \"description\": \"\"\n      }\n    },\n    {\n      \"column\": \"Y\",\n      \"properties\": {\n        \"dtype\": \"number\",\n        \"std\": 77,\n        \"min\": 25,\n        \"max\": 346,\n        \"num_unique_values\": 214,\n        \"samples\": [\n          310,\n          140\n        ],\n        \"semantic_type\": \"\",\n        \"description\": \"\"\n      }\n    }\n  ]\n}"
            }
          },
          "metadata": {},
          "execution_count": 61
        }
      ]
    },
    {
      "cell_type": "code",
      "source": [
        "df.tail()"
      ],
      "metadata": {
        "colab": {
          "base_uri": "https://localhost:8080/",
          "height": 206
        },
        "id": "aF_sPfnXKh1h",
        "outputId": "d8371c11-fd90-4101-b2fc-d3b2a56e970f"
      },
      "execution_count": 62,
      "outputs": [
        {
          "output_type": "execute_result",
          "data": {
            "text/plain": [
              "     AGE  SEX   BMI      BP   S1     S2    S3    S4      S5   S6    Y\n",
              "437   60    2  28.2  112.00  185  113.8  42.0  4.00  4.9836   93  178\n",
              "438   47    2  24.9   75.00  225  166.0  42.0  5.00  4.4427  102  104\n",
              "439   60    2  24.9   99.67  162  106.6  43.0  3.77  4.1271   95  132\n",
              "440   36    1  30.0   95.00  201  125.2  42.0  4.79  5.1299   85  220\n",
              "441   36    1  19.6   71.00  250  133.2  97.0  3.00  4.5951   92   57"
            ],
            "text/html": [
              "\n",
              "  <div id=\"df-46813fe7-02f8-4532-9b7a-eccfbbe98b23\" class=\"colab-df-container\">\n",
              "    <div>\n",
              "<style scoped>\n",
              "    .dataframe tbody tr th:only-of-type {\n",
              "        vertical-align: middle;\n",
              "    }\n",
              "\n",
              "    .dataframe tbody tr th {\n",
              "        vertical-align: top;\n",
              "    }\n",
              "\n",
              "    .dataframe thead th {\n",
              "        text-align: right;\n",
              "    }\n",
              "</style>\n",
              "<table border=\"1\" class=\"dataframe\">\n",
              "  <thead>\n",
              "    <tr style=\"text-align: right;\">\n",
              "      <th></th>\n",
              "      <th>AGE</th>\n",
              "      <th>SEX</th>\n",
              "      <th>BMI</th>\n",
              "      <th>BP</th>\n",
              "      <th>S1</th>\n",
              "      <th>S2</th>\n",
              "      <th>S3</th>\n",
              "      <th>S4</th>\n",
              "      <th>S5</th>\n",
              "      <th>S6</th>\n",
              "      <th>Y</th>\n",
              "    </tr>\n",
              "  </thead>\n",
              "  <tbody>\n",
              "    <tr>\n",
              "      <th>437</th>\n",
              "      <td>60</td>\n",
              "      <td>2</td>\n",
              "      <td>28.2</td>\n",
              "      <td>112.00</td>\n",
              "      <td>185</td>\n",
              "      <td>113.8</td>\n",
              "      <td>42.0</td>\n",
              "      <td>4.00</td>\n",
              "      <td>4.9836</td>\n",
              "      <td>93</td>\n",
              "      <td>178</td>\n",
              "    </tr>\n",
              "    <tr>\n",
              "      <th>438</th>\n",
              "      <td>47</td>\n",
              "      <td>2</td>\n",
              "      <td>24.9</td>\n",
              "      <td>75.00</td>\n",
              "      <td>225</td>\n",
              "      <td>166.0</td>\n",
              "      <td>42.0</td>\n",
              "      <td>5.00</td>\n",
              "      <td>4.4427</td>\n",
              "      <td>102</td>\n",
              "      <td>104</td>\n",
              "    </tr>\n",
              "    <tr>\n",
              "      <th>439</th>\n",
              "      <td>60</td>\n",
              "      <td>2</td>\n",
              "      <td>24.9</td>\n",
              "      <td>99.67</td>\n",
              "      <td>162</td>\n",
              "      <td>106.6</td>\n",
              "      <td>43.0</td>\n",
              "      <td>3.77</td>\n",
              "      <td>4.1271</td>\n",
              "      <td>95</td>\n",
              "      <td>132</td>\n",
              "    </tr>\n",
              "    <tr>\n",
              "      <th>440</th>\n",
              "      <td>36</td>\n",
              "      <td>1</td>\n",
              "      <td>30.0</td>\n",
              "      <td>95.00</td>\n",
              "      <td>201</td>\n",
              "      <td>125.2</td>\n",
              "      <td>42.0</td>\n",
              "      <td>4.79</td>\n",
              "      <td>5.1299</td>\n",
              "      <td>85</td>\n",
              "      <td>220</td>\n",
              "    </tr>\n",
              "    <tr>\n",
              "      <th>441</th>\n",
              "      <td>36</td>\n",
              "      <td>1</td>\n",
              "      <td>19.6</td>\n",
              "      <td>71.00</td>\n",
              "      <td>250</td>\n",
              "      <td>133.2</td>\n",
              "      <td>97.0</td>\n",
              "      <td>3.00</td>\n",
              "      <td>4.5951</td>\n",
              "      <td>92</td>\n",
              "      <td>57</td>\n",
              "    </tr>\n",
              "  </tbody>\n",
              "</table>\n",
              "</div>\n",
              "    <div class=\"colab-df-buttons\">\n",
              "\n",
              "  <div class=\"colab-df-container\">\n",
              "    <button class=\"colab-df-convert\" onclick=\"convertToInteractive('df-46813fe7-02f8-4532-9b7a-eccfbbe98b23')\"\n",
              "            title=\"Convert this dataframe to an interactive table.\"\n",
              "            style=\"display:none;\">\n",
              "\n",
              "  <svg xmlns=\"http://www.w3.org/2000/svg\" height=\"24px\" viewBox=\"0 -960 960 960\">\n",
              "    <path d=\"M120-120v-720h720v720H120Zm60-500h600v-160H180v160Zm220 220h160v-160H400v160Zm0 220h160v-160H400v160ZM180-400h160v-160H180v160Zm440 0h160v-160H620v160ZM180-180h160v-160H180v160Zm440 0h160v-160H620v160Z\"/>\n",
              "  </svg>\n",
              "    </button>\n",
              "\n",
              "  <style>\n",
              "    .colab-df-container {\n",
              "      display:flex;\n",
              "      gap: 12px;\n",
              "    }\n",
              "\n",
              "    .colab-df-convert {\n",
              "      background-color: #E8F0FE;\n",
              "      border: none;\n",
              "      border-radius: 50%;\n",
              "      cursor: pointer;\n",
              "      display: none;\n",
              "      fill: #1967D2;\n",
              "      height: 32px;\n",
              "      padding: 0 0 0 0;\n",
              "      width: 32px;\n",
              "    }\n",
              "\n",
              "    .colab-df-convert:hover {\n",
              "      background-color: #E2EBFA;\n",
              "      box-shadow: 0px 1px 2px rgba(60, 64, 67, 0.3), 0px 1px 3px 1px rgba(60, 64, 67, 0.15);\n",
              "      fill: #174EA6;\n",
              "    }\n",
              "\n",
              "    .colab-df-buttons div {\n",
              "      margin-bottom: 4px;\n",
              "    }\n",
              "\n",
              "    [theme=dark] .colab-df-convert {\n",
              "      background-color: #3B4455;\n",
              "      fill: #D2E3FC;\n",
              "    }\n",
              "\n",
              "    [theme=dark] .colab-df-convert:hover {\n",
              "      background-color: #434B5C;\n",
              "      box-shadow: 0px 1px 3px 1px rgba(0, 0, 0, 0.15);\n",
              "      filter: drop-shadow(0px 1px 2px rgba(0, 0, 0, 0.3));\n",
              "      fill: #FFFFFF;\n",
              "    }\n",
              "  </style>\n",
              "\n",
              "    <script>\n",
              "      const buttonEl =\n",
              "        document.querySelector('#df-46813fe7-02f8-4532-9b7a-eccfbbe98b23 button.colab-df-convert');\n",
              "      buttonEl.style.display =\n",
              "        google.colab.kernel.accessAllowed ? 'block' : 'none';\n",
              "\n",
              "      async function convertToInteractive(key) {\n",
              "        const element = document.querySelector('#df-46813fe7-02f8-4532-9b7a-eccfbbe98b23');\n",
              "        const dataTable =\n",
              "          await google.colab.kernel.invokeFunction('convertToInteractive',\n",
              "                                                    [key], {});\n",
              "        if (!dataTable) return;\n",
              "\n",
              "        const docLinkHtml = 'Like what you see? Visit the ' +\n",
              "          '<a target=\"_blank\" href=https://colab.research.google.com/notebooks/data_table.ipynb>data table notebook</a>'\n",
              "          + ' to learn more about interactive tables.';\n",
              "        element.innerHTML = '';\n",
              "        dataTable['output_type'] = 'display_data';\n",
              "        await google.colab.output.renderOutput(dataTable, element);\n",
              "        const docLink = document.createElement('div');\n",
              "        docLink.innerHTML = docLinkHtml;\n",
              "        element.appendChild(docLink);\n",
              "      }\n",
              "    </script>\n",
              "  </div>\n",
              "\n",
              "\n",
              "    <div id=\"df-48d8eab6-5f8d-438d-b41a-d6746851fca1\">\n",
              "      <button class=\"colab-df-quickchart\" onclick=\"quickchart('df-48d8eab6-5f8d-438d-b41a-d6746851fca1')\"\n",
              "                title=\"Suggest charts\"\n",
              "                style=\"display:none;\">\n",
              "\n",
              "<svg xmlns=\"http://www.w3.org/2000/svg\" height=\"24px\"viewBox=\"0 0 24 24\"\n",
              "     width=\"24px\">\n",
              "    <g>\n",
              "        <path d=\"M19 3H5c-1.1 0-2 .9-2 2v14c0 1.1.9 2 2 2h14c1.1 0 2-.9 2-2V5c0-1.1-.9-2-2-2zM9 17H7v-7h2v7zm4 0h-2V7h2v10zm4 0h-2v-4h2v4z\"/>\n",
              "    </g>\n",
              "</svg>\n",
              "      </button>\n",
              "\n",
              "<style>\n",
              "  .colab-df-quickchart {\n",
              "      --bg-color: #E8F0FE;\n",
              "      --fill-color: #1967D2;\n",
              "      --hover-bg-color: #E2EBFA;\n",
              "      --hover-fill-color: #174EA6;\n",
              "      --disabled-fill-color: #AAA;\n",
              "      --disabled-bg-color: #DDD;\n",
              "  }\n",
              "\n",
              "  [theme=dark] .colab-df-quickchart {\n",
              "      --bg-color: #3B4455;\n",
              "      --fill-color: #D2E3FC;\n",
              "      --hover-bg-color: #434B5C;\n",
              "      --hover-fill-color: #FFFFFF;\n",
              "      --disabled-bg-color: #3B4455;\n",
              "      --disabled-fill-color: #666;\n",
              "  }\n",
              "\n",
              "  .colab-df-quickchart {\n",
              "    background-color: var(--bg-color);\n",
              "    border: none;\n",
              "    border-radius: 50%;\n",
              "    cursor: pointer;\n",
              "    display: none;\n",
              "    fill: var(--fill-color);\n",
              "    height: 32px;\n",
              "    padding: 0;\n",
              "    width: 32px;\n",
              "  }\n",
              "\n",
              "  .colab-df-quickchart:hover {\n",
              "    background-color: var(--hover-bg-color);\n",
              "    box-shadow: 0 1px 2px rgba(60, 64, 67, 0.3), 0 1px 3px 1px rgba(60, 64, 67, 0.15);\n",
              "    fill: var(--button-hover-fill-color);\n",
              "  }\n",
              "\n",
              "  .colab-df-quickchart-complete:disabled,\n",
              "  .colab-df-quickchart-complete:disabled:hover {\n",
              "    background-color: var(--disabled-bg-color);\n",
              "    fill: var(--disabled-fill-color);\n",
              "    box-shadow: none;\n",
              "  }\n",
              "\n",
              "  .colab-df-spinner {\n",
              "    border: 2px solid var(--fill-color);\n",
              "    border-color: transparent;\n",
              "    border-bottom-color: var(--fill-color);\n",
              "    animation:\n",
              "      spin 1s steps(1) infinite;\n",
              "  }\n",
              "\n",
              "  @keyframes spin {\n",
              "    0% {\n",
              "      border-color: transparent;\n",
              "      border-bottom-color: var(--fill-color);\n",
              "      border-left-color: var(--fill-color);\n",
              "    }\n",
              "    20% {\n",
              "      border-color: transparent;\n",
              "      border-left-color: var(--fill-color);\n",
              "      border-top-color: var(--fill-color);\n",
              "    }\n",
              "    30% {\n",
              "      border-color: transparent;\n",
              "      border-left-color: var(--fill-color);\n",
              "      border-top-color: var(--fill-color);\n",
              "      border-right-color: var(--fill-color);\n",
              "    }\n",
              "    40% {\n",
              "      border-color: transparent;\n",
              "      border-right-color: var(--fill-color);\n",
              "      border-top-color: var(--fill-color);\n",
              "    }\n",
              "    60% {\n",
              "      border-color: transparent;\n",
              "      border-right-color: var(--fill-color);\n",
              "    }\n",
              "    80% {\n",
              "      border-color: transparent;\n",
              "      border-right-color: var(--fill-color);\n",
              "      border-bottom-color: var(--fill-color);\n",
              "    }\n",
              "    90% {\n",
              "      border-color: transparent;\n",
              "      border-bottom-color: var(--fill-color);\n",
              "    }\n",
              "  }\n",
              "</style>\n",
              "\n",
              "      <script>\n",
              "        async function quickchart(key) {\n",
              "          const quickchartButtonEl =\n",
              "            document.querySelector('#' + key + ' button');\n",
              "          quickchartButtonEl.disabled = true;  // To prevent multiple clicks.\n",
              "          quickchartButtonEl.classList.add('colab-df-spinner');\n",
              "          try {\n",
              "            const charts = await google.colab.kernel.invokeFunction(\n",
              "                'suggestCharts', [key], {});\n",
              "          } catch (error) {\n",
              "            console.error('Error during call to suggestCharts:', error);\n",
              "          }\n",
              "          quickchartButtonEl.classList.remove('colab-df-spinner');\n",
              "          quickchartButtonEl.classList.add('colab-df-quickchart-complete');\n",
              "        }\n",
              "        (() => {\n",
              "          let quickchartButtonEl =\n",
              "            document.querySelector('#df-48d8eab6-5f8d-438d-b41a-d6746851fca1 button');\n",
              "          quickchartButtonEl.style.display =\n",
              "            google.colab.kernel.accessAllowed ? 'block' : 'none';\n",
              "        })();\n",
              "      </script>\n",
              "    </div>\n",
              "\n",
              "    </div>\n",
              "  </div>\n"
            ],
            "application/vnd.google.colaboratory.intrinsic+json": {
              "type": "dataframe",
              "summary": "{\n  \"name\": \"df\",\n  \"rows\": 5,\n  \"fields\": [\n    {\n      \"column\": \"AGE\",\n      \"properties\": {\n        \"dtype\": \"number\",\n        \"std\": 12,\n        \"min\": 36,\n        \"max\": 60,\n        \"num_unique_values\": 3,\n        \"samples\": [\n          60,\n          47,\n          36\n        ],\n        \"semantic_type\": \"\",\n        \"description\": \"\"\n      }\n    },\n    {\n      \"column\": \"SEX\",\n      \"properties\": {\n        \"dtype\": \"number\",\n        \"std\": 0,\n        \"min\": 1,\n        \"max\": 2,\n        \"num_unique_values\": 2,\n        \"samples\": [\n          1,\n          2\n        ],\n        \"semantic_type\": \"\",\n        \"description\": \"\"\n      }\n    },\n    {\n      \"column\": \"BMI\",\n      \"properties\": {\n        \"dtype\": \"number\",\n        \"std\": 3.970768187643292,\n        \"min\": 19.6,\n        \"max\": 30.0,\n        \"num_unique_values\": 4,\n        \"samples\": [\n          24.9,\n          19.6\n        ],\n        \"semantic_type\": \"\",\n        \"description\": \"\"\n      }\n    },\n    {\n      \"column\": \"BP\",\n      \"properties\": {\n        \"dtype\": \"number\",\n        \"std\": 17.227036309243676,\n        \"min\": 71.0,\n        \"max\": 112.0,\n        \"num_unique_values\": 5,\n        \"samples\": [\n          75.0,\n          71.0\n        ],\n        \"semantic_type\": \"\",\n        \"description\": \"\"\n      }\n    },\n    {\n      \"column\": \"S1\",\n      \"properties\": {\n        \"dtype\": \"number\",\n        \"std\": 34,\n        \"min\": 162,\n        \"max\": 250,\n        \"num_unique_values\": 5,\n        \"samples\": [\n          225,\n          250\n        ],\n        \"semantic_type\": \"\",\n        \"description\": \"\"\n      }\n    },\n    {\n      \"column\": \"S2\",\n      \"properties\": {\n        \"dtype\": \"number\",\n        \"std\": 23.096926202419233,\n        \"min\": 106.6,\n        \"max\": 166.0,\n        \"num_unique_values\": 5,\n        \"samples\": [\n          166.0,\n          133.2\n        ],\n        \"semantic_type\": \"\",\n        \"description\": \"\"\n      }\n    },\n    {\n      \"column\": \"S3\",\n      \"properties\": {\n        \"dtype\": \"number\",\n        \"std\": 24.488772937817853,\n        \"min\": 42.0,\n        \"max\": 97.0,\n        \"num_unique_values\": 3,\n        \"samples\": [\n          42.0,\n          43.0\n        ],\n        \"semantic_type\": \"\",\n        \"description\": \"\"\n      }\n    },\n    {\n      \"column\": \"S4\",\n      \"properties\": {\n        \"dtype\": \"number\",\n        \"std\": 0.8084367631423004,\n        \"min\": 3.0,\n        \"max\": 5.0,\n        \"num_unique_values\": 5,\n        \"samples\": [\n          5.0,\n          3.0\n        ],\n        \"semantic_type\": \"\",\n        \"description\": \"\"\n      }\n    },\n    {\n      \"column\": \"S5\",\n      \"properties\": {\n        \"dtype\": \"number\",\n        \"std\": 0.4064613659377726,\n        \"min\": 4.1271,\n        \"max\": 5.1299,\n        \"num_unique_values\": 5,\n        \"samples\": [\n          4.4427,\n          4.5951\n        ],\n        \"semantic_type\": \"\",\n        \"description\": \"\"\n      }\n    },\n    {\n      \"column\": \"S6\",\n      \"properties\": {\n        \"dtype\": \"number\",\n        \"std\": 6,\n        \"min\": 85,\n        \"max\": 102,\n        \"num_unique_values\": 5,\n        \"samples\": [\n          102,\n          92\n        ],\n        \"semantic_type\": \"\",\n        \"description\": \"\"\n      }\n    },\n    {\n      \"column\": \"Y\",\n      \"properties\": {\n        \"dtype\": \"number\",\n        \"std\": 63,\n        \"min\": 57,\n        \"max\": 220,\n        \"num_unique_values\": 5,\n        \"samples\": [\n          104,\n          57\n        ],\n        \"semantic_type\": \"\",\n        \"description\": \"\"\n      }\n    }\n  ]\n}"
            }
          },
          "metadata": {},
          "execution_count": 62
        }
      ]
    },
    {
      "cell_type": "markdown",
      "source": [
        "Las abreviaciones de las caracteristicas son las siguientes:\n",
        "\n",
        "* AGE = Age\n",
        "* SEX = Sex\n",
        "* BMI = Body Mass Index (BMI)\n",
        "*  BP = Mean Arterial Pressure (MAP)\n",
        "*  S1 = Total Cholesterol (TC)\n",
        "*  S2 = Low Density lipoproteins (LDL)\n",
        "*  S3 = High Density lipoproteins (HDL)\n",
        "*  S4 = Triglyceride (TG, TCH)\n",
        "*  S5 = Serum Concentration of Lamorigine (LTG)\n",
        "*  S6 = Glucose (GLU)\n",
        "*   Y = Quantitative Measure of Diabetes Mellitus Disease Progression (QMDMDP) one year after the baseline."
      ],
      "metadata": {
        "id": "q0fgX2bTbYpB"
      }
    },
    {
      "cell_type": "code",
      "source": [
        "# información estadistíca\n",
        "df.describe()"
      ],
      "metadata": {
        "colab": {
          "base_uri": "https://localhost:8080/",
          "height": 300
        },
        "id": "D1wPGGCsbVte",
        "outputId": "e40500d9-e321-41c3-e0ff-fc70c0ca11db"
      },
      "execution_count": 63,
      "outputs": [
        {
          "output_type": "execute_result",
          "data": {
            "text/plain": [
              "              AGE         SEX         BMI          BP          S1          S2  \\\n",
              "count  442.000000  442.000000  442.000000  442.000000  442.000000  442.000000   \n",
              "mean    48.518100    1.468326   26.375792   94.647014  189.140271  115.439140   \n",
              "std     13.109028    0.499561    4.418122   13.831283   34.608052   30.413081   \n",
              "min     19.000000    1.000000   18.000000   62.000000   97.000000   41.600000   \n",
              "25%     38.250000    1.000000   23.200000   84.000000  164.250000   96.050000   \n",
              "50%     50.000000    1.000000   25.700000   93.000000  186.000000  113.000000   \n",
              "75%     59.000000    2.000000   29.275000  105.000000  209.750000  134.500000   \n",
              "max     79.000000    2.000000   42.200000  133.000000  301.000000  242.400000   \n",
              "\n",
              "               S3          S4          S5          S6           Y  \n",
              "count  442.000000  442.000000  442.000000  442.000000  442.000000  \n",
              "mean    49.788462    4.070249    4.641411   91.260181  152.133484  \n",
              "std     12.934202    1.290450    0.522391   11.496335   77.093005  \n",
              "min     22.000000    2.000000    3.258100   58.000000   25.000000  \n",
              "25%     40.250000    3.000000    4.276700   83.250000   87.000000  \n",
              "50%     48.000000    4.000000    4.620050   91.000000  140.500000  \n",
              "75%     57.750000    5.000000    4.997200   98.000000  211.500000  \n",
              "max     99.000000    9.090000    6.107000  124.000000  346.000000  "
            ],
            "text/html": [
              "\n",
              "  <div id=\"df-e966fd99-c6c4-449c-a916-500a2e20d2ef\" class=\"colab-df-container\">\n",
              "    <div>\n",
              "<style scoped>\n",
              "    .dataframe tbody tr th:only-of-type {\n",
              "        vertical-align: middle;\n",
              "    }\n",
              "\n",
              "    .dataframe tbody tr th {\n",
              "        vertical-align: top;\n",
              "    }\n",
              "\n",
              "    .dataframe thead th {\n",
              "        text-align: right;\n",
              "    }\n",
              "</style>\n",
              "<table border=\"1\" class=\"dataframe\">\n",
              "  <thead>\n",
              "    <tr style=\"text-align: right;\">\n",
              "      <th></th>\n",
              "      <th>AGE</th>\n",
              "      <th>SEX</th>\n",
              "      <th>BMI</th>\n",
              "      <th>BP</th>\n",
              "      <th>S1</th>\n",
              "      <th>S2</th>\n",
              "      <th>S3</th>\n",
              "      <th>S4</th>\n",
              "      <th>S5</th>\n",
              "      <th>S6</th>\n",
              "      <th>Y</th>\n",
              "    </tr>\n",
              "  </thead>\n",
              "  <tbody>\n",
              "    <tr>\n",
              "      <th>count</th>\n",
              "      <td>442.000000</td>\n",
              "      <td>442.000000</td>\n",
              "      <td>442.000000</td>\n",
              "      <td>442.000000</td>\n",
              "      <td>442.000000</td>\n",
              "      <td>442.000000</td>\n",
              "      <td>442.000000</td>\n",
              "      <td>442.000000</td>\n",
              "      <td>442.000000</td>\n",
              "      <td>442.000000</td>\n",
              "      <td>442.000000</td>\n",
              "    </tr>\n",
              "    <tr>\n",
              "      <th>mean</th>\n",
              "      <td>48.518100</td>\n",
              "      <td>1.468326</td>\n",
              "      <td>26.375792</td>\n",
              "      <td>94.647014</td>\n",
              "      <td>189.140271</td>\n",
              "      <td>115.439140</td>\n",
              "      <td>49.788462</td>\n",
              "      <td>4.070249</td>\n",
              "      <td>4.641411</td>\n",
              "      <td>91.260181</td>\n",
              "      <td>152.133484</td>\n",
              "    </tr>\n",
              "    <tr>\n",
              "      <th>std</th>\n",
              "      <td>13.109028</td>\n",
              "      <td>0.499561</td>\n",
              "      <td>4.418122</td>\n",
              "      <td>13.831283</td>\n",
              "      <td>34.608052</td>\n",
              "      <td>30.413081</td>\n",
              "      <td>12.934202</td>\n",
              "      <td>1.290450</td>\n",
              "      <td>0.522391</td>\n",
              "      <td>11.496335</td>\n",
              "      <td>77.093005</td>\n",
              "    </tr>\n",
              "    <tr>\n",
              "      <th>min</th>\n",
              "      <td>19.000000</td>\n",
              "      <td>1.000000</td>\n",
              "      <td>18.000000</td>\n",
              "      <td>62.000000</td>\n",
              "      <td>97.000000</td>\n",
              "      <td>41.600000</td>\n",
              "      <td>22.000000</td>\n",
              "      <td>2.000000</td>\n",
              "      <td>3.258100</td>\n",
              "      <td>58.000000</td>\n",
              "      <td>25.000000</td>\n",
              "    </tr>\n",
              "    <tr>\n",
              "      <th>25%</th>\n",
              "      <td>38.250000</td>\n",
              "      <td>1.000000</td>\n",
              "      <td>23.200000</td>\n",
              "      <td>84.000000</td>\n",
              "      <td>164.250000</td>\n",
              "      <td>96.050000</td>\n",
              "      <td>40.250000</td>\n",
              "      <td>3.000000</td>\n",
              "      <td>4.276700</td>\n",
              "      <td>83.250000</td>\n",
              "      <td>87.000000</td>\n",
              "    </tr>\n",
              "    <tr>\n",
              "      <th>50%</th>\n",
              "      <td>50.000000</td>\n",
              "      <td>1.000000</td>\n",
              "      <td>25.700000</td>\n",
              "      <td>93.000000</td>\n",
              "      <td>186.000000</td>\n",
              "      <td>113.000000</td>\n",
              "      <td>48.000000</td>\n",
              "      <td>4.000000</td>\n",
              "      <td>4.620050</td>\n",
              "      <td>91.000000</td>\n",
              "      <td>140.500000</td>\n",
              "    </tr>\n",
              "    <tr>\n",
              "      <th>75%</th>\n",
              "      <td>59.000000</td>\n",
              "      <td>2.000000</td>\n",
              "      <td>29.275000</td>\n",
              "      <td>105.000000</td>\n",
              "      <td>209.750000</td>\n",
              "      <td>134.500000</td>\n",
              "      <td>57.750000</td>\n",
              "      <td>5.000000</td>\n",
              "      <td>4.997200</td>\n",
              "      <td>98.000000</td>\n",
              "      <td>211.500000</td>\n",
              "    </tr>\n",
              "    <tr>\n",
              "      <th>max</th>\n",
              "      <td>79.000000</td>\n",
              "      <td>2.000000</td>\n",
              "      <td>42.200000</td>\n",
              "      <td>133.000000</td>\n",
              "      <td>301.000000</td>\n",
              "      <td>242.400000</td>\n",
              "      <td>99.000000</td>\n",
              "      <td>9.090000</td>\n",
              "      <td>6.107000</td>\n",
              "      <td>124.000000</td>\n",
              "      <td>346.000000</td>\n",
              "    </tr>\n",
              "  </tbody>\n",
              "</table>\n",
              "</div>\n",
              "    <div class=\"colab-df-buttons\">\n",
              "\n",
              "  <div class=\"colab-df-container\">\n",
              "    <button class=\"colab-df-convert\" onclick=\"convertToInteractive('df-e966fd99-c6c4-449c-a916-500a2e20d2ef')\"\n",
              "            title=\"Convert this dataframe to an interactive table.\"\n",
              "            style=\"display:none;\">\n",
              "\n",
              "  <svg xmlns=\"http://www.w3.org/2000/svg\" height=\"24px\" viewBox=\"0 -960 960 960\">\n",
              "    <path d=\"M120-120v-720h720v720H120Zm60-500h600v-160H180v160Zm220 220h160v-160H400v160Zm0 220h160v-160H400v160ZM180-400h160v-160H180v160Zm440 0h160v-160H620v160ZM180-180h160v-160H180v160Zm440 0h160v-160H620v160Z\"/>\n",
              "  </svg>\n",
              "    </button>\n",
              "\n",
              "  <style>\n",
              "    .colab-df-container {\n",
              "      display:flex;\n",
              "      gap: 12px;\n",
              "    }\n",
              "\n",
              "    .colab-df-convert {\n",
              "      background-color: #E8F0FE;\n",
              "      border: none;\n",
              "      border-radius: 50%;\n",
              "      cursor: pointer;\n",
              "      display: none;\n",
              "      fill: #1967D2;\n",
              "      height: 32px;\n",
              "      padding: 0 0 0 0;\n",
              "      width: 32px;\n",
              "    }\n",
              "\n",
              "    .colab-df-convert:hover {\n",
              "      background-color: #E2EBFA;\n",
              "      box-shadow: 0px 1px 2px rgba(60, 64, 67, 0.3), 0px 1px 3px 1px rgba(60, 64, 67, 0.15);\n",
              "      fill: #174EA6;\n",
              "    }\n",
              "\n",
              "    .colab-df-buttons div {\n",
              "      margin-bottom: 4px;\n",
              "    }\n",
              "\n",
              "    [theme=dark] .colab-df-convert {\n",
              "      background-color: #3B4455;\n",
              "      fill: #D2E3FC;\n",
              "    }\n",
              "\n",
              "    [theme=dark] .colab-df-convert:hover {\n",
              "      background-color: #434B5C;\n",
              "      box-shadow: 0px 1px 3px 1px rgba(0, 0, 0, 0.15);\n",
              "      filter: drop-shadow(0px 1px 2px rgba(0, 0, 0, 0.3));\n",
              "      fill: #FFFFFF;\n",
              "    }\n",
              "  </style>\n",
              "\n",
              "    <script>\n",
              "      const buttonEl =\n",
              "        document.querySelector('#df-e966fd99-c6c4-449c-a916-500a2e20d2ef button.colab-df-convert');\n",
              "      buttonEl.style.display =\n",
              "        google.colab.kernel.accessAllowed ? 'block' : 'none';\n",
              "\n",
              "      async function convertToInteractive(key) {\n",
              "        const element = document.querySelector('#df-e966fd99-c6c4-449c-a916-500a2e20d2ef');\n",
              "        const dataTable =\n",
              "          await google.colab.kernel.invokeFunction('convertToInteractive',\n",
              "                                                    [key], {});\n",
              "        if (!dataTable) return;\n",
              "\n",
              "        const docLinkHtml = 'Like what you see? Visit the ' +\n",
              "          '<a target=\"_blank\" href=https://colab.research.google.com/notebooks/data_table.ipynb>data table notebook</a>'\n",
              "          + ' to learn more about interactive tables.';\n",
              "        element.innerHTML = '';\n",
              "        dataTable['output_type'] = 'display_data';\n",
              "        await google.colab.output.renderOutput(dataTable, element);\n",
              "        const docLink = document.createElement('div');\n",
              "        docLink.innerHTML = docLinkHtml;\n",
              "        element.appendChild(docLink);\n",
              "      }\n",
              "    </script>\n",
              "  </div>\n",
              "\n",
              "\n",
              "    <div id=\"df-8431cce5-ac23-4c3b-abcf-9c46fca39821\">\n",
              "      <button class=\"colab-df-quickchart\" onclick=\"quickchart('df-8431cce5-ac23-4c3b-abcf-9c46fca39821')\"\n",
              "                title=\"Suggest charts\"\n",
              "                style=\"display:none;\">\n",
              "\n",
              "<svg xmlns=\"http://www.w3.org/2000/svg\" height=\"24px\"viewBox=\"0 0 24 24\"\n",
              "     width=\"24px\">\n",
              "    <g>\n",
              "        <path d=\"M19 3H5c-1.1 0-2 .9-2 2v14c0 1.1.9 2 2 2h14c1.1 0 2-.9 2-2V5c0-1.1-.9-2-2-2zM9 17H7v-7h2v7zm4 0h-2V7h2v10zm4 0h-2v-4h2v4z\"/>\n",
              "    </g>\n",
              "</svg>\n",
              "      </button>\n",
              "\n",
              "<style>\n",
              "  .colab-df-quickchart {\n",
              "      --bg-color: #E8F0FE;\n",
              "      --fill-color: #1967D2;\n",
              "      --hover-bg-color: #E2EBFA;\n",
              "      --hover-fill-color: #174EA6;\n",
              "      --disabled-fill-color: #AAA;\n",
              "      --disabled-bg-color: #DDD;\n",
              "  }\n",
              "\n",
              "  [theme=dark] .colab-df-quickchart {\n",
              "      --bg-color: #3B4455;\n",
              "      --fill-color: #D2E3FC;\n",
              "      --hover-bg-color: #434B5C;\n",
              "      --hover-fill-color: #FFFFFF;\n",
              "      --disabled-bg-color: #3B4455;\n",
              "      --disabled-fill-color: #666;\n",
              "  }\n",
              "\n",
              "  .colab-df-quickchart {\n",
              "    background-color: var(--bg-color);\n",
              "    border: none;\n",
              "    border-radius: 50%;\n",
              "    cursor: pointer;\n",
              "    display: none;\n",
              "    fill: var(--fill-color);\n",
              "    height: 32px;\n",
              "    padding: 0;\n",
              "    width: 32px;\n",
              "  }\n",
              "\n",
              "  .colab-df-quickchart:hover {\n",
              "    background-color: var(--hover-bg-color);\n",
              "    box-shadow: 0 1px 2px rgba(60, 64, 67, 0.3), 0 1px 3px 1px rgba(60, 64, 67, 0.15);\n",
              "    fill: var(--button-hover-fill-color);\n",
              "  }\n",
              "\n",
              "  .colab-df-quickchart-complete:disabled,\n",
              "  .colab-df-quickchart-complete:disabled:hover {\n",
              "    background-color: var(--disabled-bg-color);\n",
              "    fill: var(--disabled-fill-color);\n",
              "    box-shadow: none;\n",
              "  }\n",
              "\n",
              "  .colab-df-spinner {\n",
              "    border: 2px solid var(--fill-color);\n",
              "    border-color: transparent;\n",
              "    border-bottom-color: var(--fill-color);\n",
              "    animation:\n",
              "      spin 1s steps(1) infinite;\n",
              "  }\n",
              "\n",
              "  @keyframes spin {\n",
              "    0% {\n",
              "      border-color: transparent;\n",
              "      border-bottom-color: var(--fill-color);\n",
              "      border-left-color: var(--fill-color);\n",
              "    }\n",
              "    20% {\n",
              "      border-color: transparent;\n",
              "      border-left-color: var(--fill-color);\n",
              "      border-top-color: var(--fill-color);\n",
              "    }\n",
              "    30% {\n",
              "      border-color: transparent;\n",
              "      border-left-color: var(--fill-color);\n",
              "      border-top-color: var(--fill-color);\n",
              "      border-right-color: var(--fill-color);\n",
              "    }\n",
              "    40% {\n",
              "      border-color: transparent;\n",
              "      border-right-color: var(--fill-color);\n",
              "      border-top-color: var(--fill-color);\n",
              "    }\n",
              "    60% {\n",
              "      border-color: transparent;\n",
              "      border-right-color: var(--fill-color);\n",
              "    }\n",
              "    80% {\n",
              "      border-color: transparent;\n",
              "      border-right-color: var(--fill-color);\n",
              "      border-bottom-color: var(--fill-color);\n",
              "    }\n",
              "    90% {\n",
              "      border-color: transparent;\n",
              "      border-bottom-color: var(--fill-color);\n",
              "    }\n",
              "  }\n",
              "</style>\n",
              "\n",
              "      <script>\n",
              "        async function quickchart(key) {\n",
              "          const quickchartButtonEl =\n",
              "            document.querySelector('#' + key + ' button');\n",
              "          quickchartButtonEl.disabled = true;  // To prevent multiple clicks.\n",
              "          quickchartButtonEl.classList.add('colab-df-spinner');\n",
              "          try {\n",
              "            const charts = await google.colab.kernel.invokeFunction(\n",
              "                'suggestCharts', [key], {});\n",
              "          } catch (error) {\n",
              "            console.error('Error during call to suggestCharts:', error);\n",
              "          }\n",
              "          quickchartButtonEl.classList.remove('colab-df-spinner');\n",
              "          quickchartButtonEl.classList.add('colab-df-quickchart-complete');\n",
              "        }\n",
              "        (() => {\n",
              "          let quickchartButtonEl =\n",
              "            document.querySelector('#df-8431cce5-ac23-4c3b-abcf-9c46fca39821 button');\n",
              "          quickchartButtonEl.style.display =\n",
              "            google.colab.kernel.accessAllowed ? 'block' : 'none';\n",
              "        })();\n",
              "      </script>\n",
              "    </div>\n",
              "\n",
              "    </div>\n",
              "  </div>\n"
            ],
            "application/vnd.google.colaboratory.intrinsic+json": {
              "type": "dataframe",
              "summary": "{\n  \"name\": \"df\",\n  \"rows\": 8,\n  \"fields\": [\n    {\n      \"column\": \"AGE\",\n      \"properties\": {\n        \"dtype\": \"number\",\n        \"std\": 142.3445498514995,\n        \"min\": 13.109027822041087,\n        \"max\": 442.0,\n        \"num_unique_values\": 8,\n        \"samples\": [\n          48.51809954751131,\n          50.0,\n          442.0\n        ],\n        \"semantic_type\": \"\",\n        \"description\": \"\"\n      }\n    },\n    {\n      \"column\": \"SEX\",\n      \"properties\": {\n        \"dtype\": \"number\",\n        \"std\": 155.81853051275928,\n        \"min\": 0.49956117043535386,\n        \"max\": 442.0,\n        \"num_unique_values\": 5,\n        \"samples\": [\n          1.4683257918552035,\n          2.0,\n          0.49956117043535386\n        ],\n        \"semantic_type\": \"\",\n        \"description\": \"\"\n      }\n    },\n    {\n      \"column\": \"BMI\",\n      \"properties\": {\n        \"dtype\": \"number\",\n        \"std\": 148.10655803382107,\n        \"min\": 4.4181215606157735,\n        \"max\": 442.0,\n        \"num_unique_values\": 8,\n        \"samples\": [\n          26.37579185520362,\n          25.7,\n          442.0\n        ],\n        \"semantic_type\": \"\",\n        \"description\": \"\"\n      }\n    },\n    {\n      \"column\": \"BP\",\n      \"properties\": {\n        \"dtype\": \"number\",\n        \"std\": 131.37318993197263,\n        \"min\": 13.831283419783,\n        \"max\": 442.0,\n        \"num_unique_values\": 8,\n        \"samples\": [\n          94.64701357466062,\n          93.0,\n          442.0\n        ],\n        \"semantic_type\": \"\",\n        \"description\": \"\"\n      }\n    },\n    {\n      \"column\": \"S1\",\n      \"properties\": {\n        \"dtype\": \"number\",\n        \"std\": 124.41006930843278,\n        \"min\": 34.60805167504308,\n        \"max\": 442.0,\n        \"num_unique_values\": 8,\n        \"samples\": [\n          189.14027149321268,\n          186.0,\n          442.0\n        ],\n        \"semantic_type\": \"\",\n        \"description\": \"\"\n      }\n    },\n    {\n      \"column\": \"S2\",\n      \"properties\": {\n        \"dtype\": \"number\",\n        \"std\": 133.91788698198644,\n        \"min\": 30.413080969276532,\n        \"max\": 442.0,\n        \"num_unique_values\": 8,\n        \"samples\": [\n          115.43914027149322,\n          113.0,\n          442.0\n        ],\n        \"semantic_type\": \"\",\n        \"description\": \"\"\n      }\n    },\n    {\n      \"column\": \"S3\",\n      \"properties\": {\n        \"dtype\": \"number\",\n        \"std\": 141.98079637779475,\n        \"min\": 12.934202154863332,\n        \"max\": 442.0,\n        \"num_unique_values\": 8,\n        \"samples\": [\n          49.78846153846154,\n          48.0,\n          442.0\n        ],\n        \"semantic_type\": \"\",\n        \"description\": \"\"\n      }\n    },\n    {\n      \"column\": \"S4\",\n      \"properties\": {\n        \"dtype\": \"number\",\n        \"std\": 154.8517160708843,\n        \"min\": 1.2904498966082774,\n        \"max\": 442.0,\n        \"num_unique_values\": 8,\n        \"samples\": [\n          4.070248868778281,\n          4.0,\n          442.0\n        ],\n        \"semantic_type\": \"\",\n        \"description\": \"\"\n      }\n    },\n    {\n      \"column\": \"S5\",\n      \"properties\": {\n        \"dtype\": \"number\",\n        \"std\": 154.84375806952278,\n        \"min\": 0.5223905610694908,\n        \"max\": 442.0,\n        \"num_unique_values\": 8,\n        \"samples\": [\n          4.641410859728507,\n          4.62005,\n          442.0\n        ],\n        \"semantic_type\": \"\",\n        \"description\": \"\"\n      }\n    },\n    {\n      \"column\": \"S6\",\n      \"properties\": {\n        \"dtype\": \"number\",\n        \"std\": 132.35687501043222,\n        \"min\": 11.496334739334165,\n        \"max\": 442.0,\n        \"num_unique_values\": 8,\n        \"samples\": [\n          91.26018099547511,\n          91.0,\n          442.0\n        ],\n        \"semantic_type\": \"\",\n        \"description\": \"\"\n      }\n    },\n    {\n      \"column\": \"Y\",\n      \"properties\": {\n        \"dtype\": \"number\",\n        \"std\": 142.71872411929326,\n        \"min\": 25.0,\n        \"max\": 442.0,\n        \"num_unique_values\": 8,\n        \"samples\": [\n          152.13348416289594,\n          140.5,\n          442.0\n        ],\n        \"semantic_type\": \"\",\n        \"description\": \"\"\n      }\n    }\n  ]\n}"
            }
          },
          "metadata": {},
          "execution_count": 63
        }
      ]
    },
    {
      "cell_type": "markdown",
      "source": [
        "## Se crean los histogramas para cada uno de los rasgos que caracteriza a los pacientes con diabetes:"
      ],
      "metadata": {
        "id": "YfBqrq6OcPSK"
      }
    },
    {
      "cell_type": "code",
      "source": [
        "plt.figure(figsize=(20,8))\n",
        "\n",
        "ax1 = plt.subplot(2,4,1)\n",
        "ax2 = plt.subplot(2,4,2)\n",
        "ax3 = plt.subplot(2,4,3)\n",
        "ax4 = plt.subplot(2,4,4)\n",
        "\n",
        "ax1.hist(df.AGE, bins=100, color='green',edgecolor='purple', alpha=0.5)\n",
        "ax1.set_xlabel('Age (years)', size=15)\n",
        "ax1.set_ylabel('Frequency', size=15)\n",
        "\n",
        "ax2.hist(df.SEX, bins=2, color='orange',edgecolor='purple', alpha=0.5)\n",
        "ax2.set_xlabel('Sex', size=15)\n",
        "\n",
        "ax3.hist(df.BMI, bins=30, color='red',edgecolor='purple', alpha=0.5)\n",
        "ax3.set_xlabel('Body_mass_index', size=15)\n",
        "\n",
        "ax4.hist(df.BP, bins=30, color='blue',edgecolor='purple', alpha=0.5)\n",
        "ax4.set_xlabel('Mean_Arterial_Pressure', size=15);"
      ],
      "metadata": {
        "colab": {
          "base_uri": "https://localhost:8080/",
          "height": 304
        },
        "id": "zeMk1mjScIOx",
        "outputId": "349c14bc-eccb-499b-e22f-4a32793ea276"
      },
      "execution_count": 64,
      "outputs": [
        {
          "output_type": "display_data",
          "data": {
            "text/plain": [
              "<Figure size 2000x800 with 4 Axes>"
            ],
            "image/png": "[encoded data removed]"
          },
          "metadata": {}
        }
      ]
    },
    {
      "cell_type": "code",
      "source": [
        "plt.figure(figsize=(20,8))\n",
        "\n",
        "ax1 = plt.subplot(2,4,1)\n",
        "ax2 = plt.subplot(2,4,2)\n",
        "ax3 = plt.subplot(2,4,3)\n",
        "ax4 = plt.subplot(2,4,4)\n",
        "\n",
        "ax1.hist(df.S1, bins=30, color='green',edgecolor='purple', alpha=0.5)\n",
        "ax1.set_xlabel('Total Cholesterol', size=15)\n",
        "ax1.set_ylabel('Frequency', size=15)\n",
        "\n",
        "ax2.hist(df.S2, bins=30, color='orange',edgecolor='purple', alpha=0.5)\n",
        "ax2.set_xlabel('Low Density lipoproteins', size=15)\n",
        "\n",
        "ax3.hist(df.S3, bins=30, color='red',edgecolor='purple', alpha=0.5)\n",
        "ax3.set_xlabel('High Density lipoproteins', size=15)\n",
        "\n",
        "ax4.hist(df.S4, bins=30, color='blue',edgecolor='purple', alpha=0.5)\n",
        "ax4.set_xlabel('Triglyceride', size=15);"
      ],
      "metadata": {
        "colab": {
          "base_uri": "https://localhost:8080/",
          "height": 304
        },
        "id": "jwuljvDdcc-j",
        "outputId": "a87cdf19-5954-4471-aa49-09adeeaedcdf"
      },
      "execution_count": 65,
      "outputs": [
        {
          "output_type": "display_data",
          "data": {
            "text/plain": [
              "<Figure size 2000x800 with 4 Axes>"
            ],
            "image/png": "[encoded data removed]"
          },
          "metadata": {}
        }
      ]
    },
    {
      "cell_type": "code",
      "source": [
        "plt.figure(figsize=(15,8))\n",
        "\n",
        "ax1 = plt.subplot(2,3,1)\n",
        "ax2 = plt.subplot(2,3,2)\n",
        "ax3 = plt.subplot(2,3,3)\n",
        "\n",
        "ax1.hist(df.S5, bins=30, color='green',edgecolor='purple', alpha=0.5)\n",
        "ax1.set_xlabel('Serum Concentration of Lamorigine', size=15)\n",
        "ax1.set_ylabel('Frequency', size=15)\n",
        "\n",
        "ax2.hist(df.S6, bins=30, color='orange',edgecolor='purple', alpha=0.5)\n",
        "ax2.set_xlabel('Glucose', size=15)\n",
        "\n",
        "ax3.hist(df.Y, bins=30, color='purple',edgecolor='black', alpha=0.5)\n",
        "ax3.set_xlabel('Y(Diabetes Mellitus Disease Progression)', size=15)"
      ],
      "metadata": {
        "colab": {
          "base_uri": "https://localhost:8080/",
          "height": 391
        },
        "id": "2mUgKEXVc3J-",
        "outputId": "a9da8689-98f4-426b-bae9-f50b295d6b2f"
      },
      "execution_count": 66,
      "outputs": [
        {
          "output_type": "execute_result",
          "data": {
            "text/plain": [
              "Text(0.5, 0, 'Y(Diabetes Mellitus Disease Progression)')"
            ]
          },
          "metadata": {},
          "execution_count": 66
        },
        {
          "output_type": "display_data",
          "data": {
            "text/plain": [
              "<Figure size 1500x800 with 3 Axes>"
            ],
            "image/png": "[encoded data removed]"
          },
          "metadata": {}
        }
      ]
    },
    {
      "cell_type": "markdown",
      "source": [
        "## Análisis usando regresión Lineal"
      ],
      "metadata": {
        "id": "9YU4OXx7dTvo"
      }
    },
    {
      "cell_type": "markdown",
      "source": [
        "En modelado estadístico, es un conjunto de procesos estadísticos para estimar las relaciones entre una variable dependiente (a menudo denominada «variable de resultado») y una o más variables independientes (a menudo denominadas «predictores», «covariables» o «características»).\n",
        "\n",
        "Más información: Análisis de regresión"
      ],
      "metadata": {
        "id": "MRR6qfPWdkng"
      }
    },
    {
      "cell_type": "markdown",
      "source": [
        "Implementacion de un sistema de aprendizaje, empleando un análisis de regresion lineal\n",
        "\n",
        "Los pasos principales para construir el sistema son:\n",
        "- Definir un modelo proponiendo un algoritmo que relacione las variables X y Y.\n",
        "- Inicializar las variables asociadas al modelo ω, β (pesos y biases).\n",
        "- Realizar lo siguiente en cada época:\n",
        "  - Calcular el costo (J).\n",
        "  - Calcular el gradiente del costo respecto a las variables asociadas al modelo.\n",
        "  - Actualizar los pesos y los biases empleando el algoritmo propuesto para optimización. Por ejemplo, gradiente descendente"
      ],
      "metadata": {
        "id": "se1RFoXKdsRX"
      }
    },
    {
      "cell_type": "markdown",
      "source": [
        "Si se tienen $m$ muestras.\n",
        "    \n",
        "Para una muestra $j\\in m$, con sus valores de la variable $x$, $x^{(j)}$, se genera la variable $z^{(j)}$ mediante la siguiente relación lineal:\n",
        "\n",
        "$$z^{(j)} = w^T x^{(j)} + b = \\sum_{i \\in j} w_{i} x_{i}^{(j)} + b $$\n",
        "\n",
        "$z^{(j)}$ es la combinacion lineal entre los pesos, $w_{i}$ y los valores $x^{(j)}$ + el bias b. Posteriormente esta sumatoria es transformada (activada) con una función, para generar la variable de salida $a^{(j)}$.\n",
        "    \n",
        "Dado que inicialmente nos interesa realizar un aprendizaje con con regresión lineal, la función de transformación es la identidad $f(z)=z$.\n",
        "\n",
        "$$F(x^{(j)}) = a^{(j)} = f(z^{(j)})=z^{(j)}$$\n",
        "\n",
        "Para realizar el aprendizaje, se genera una métrica definida por la función de perdida (*loss*), tambien llamada función de costo *cost*, $J$. Esta función se obtienes realizando el promedio, sobre todas las $m$ muestras, de la diferencia al cuadrado entre el valor ($y^{(j)}$) de la muestra $j$ y el valor de la función $F(x^{(j)})$.  \n",
        "\n",
        "$$ J = \\frac{1}{m} \\sum_{j=1}^m (y^{(j)} -F(x^{(j)}))^2$$\n"
      ],
      "metadata": {
        "id": "9HQlrwMehUG6"
      }
    },
    {
      "cell_type": "code",
      "source": [
        "# para evitar cualquier posible correlación en las muestras se vuelven a ordenar de manera aleatoria\n",
        "df = df.sample(frac=1)"
      ],
      "metadata": {
        "id": "2cEaJoSdc7L7"
      },
      "execution_count": 67,
      "outputs": []
    },
    {
      "cell_type": "code",
      "source": [
        "# para observar las dimensiones del conjunto con que estamos trabjando usamos shape\n",
        "print(df.shape)"
      ],
      "metadata": {
        "colab": {
          "base_uri": "https://localhost:8080/"
        },
        "id": "60xKFYaLdhAK",
        "outputId": "9a61f5d3-8817-4e4b-d0d1-aa98373e6bfb"
      },
      "execution_count": 68,
      "outputs": [
        {
          "output_type": "stream",
          "name": "stdout",
          "text": [
            "(442, 11)\n"
          ]
        }
      ]
    },
    {
      "cell_type": "code",
      "source": [
        "print(len(df.values[:,:]))"
      ],
      "metadata": {
        "colab": {
          "base_uri": "https://localhost:8080/"
        },
        "id": "49Mhx8IpiA7Z",
        "outputId": "d7151c84-4230-477f-c70f-e91a40dca5e6"
      },
      "execution_count": 69,
      "outputs": [
        {
          "output_type": "stream",
          "name": "stdout",
          "text": [
            "442\n"
          ]
        }
      ]
    },
    {
      "cell_type": "code",
      "source": [
        "# se divide el cjto original para entrenar el modelo y posteriormente para hacer pruebas\n",
        "test_ratio = 0.2 # usamos en esta ocasión una división de 80% / 20%\n",
        "\n",
        "train_ratio = int((1.0-test_ratio)*len(df.values[:,:]))\n",
        "\n",
        "df_train = df.iloc[0:train_ratio,:]\n",
        "df_test  = df.iloc[train_ratio:,:]"
      ],
      "metadata": {
        "id": "QUjMrmhjiurX"
      },
      "execution_count": 70,
      "outputs": []
    },
    {
      "cell_type": "code",
      "source": [
        "print(df_train.shape)\n",
        "print(df_test.shape)"
      ],
      "metadata": {
        "colab": {
          "base_uri": "https://localhost:8080/"
        },
        "id": "nP1VE9dXjSWN",
        "outputId": "ecb2bf54-c757-4837-977b-aec0fb5687db"
      },
      "execution_count": 71,
      "outputs": [
        {
          "output_type": "stream",
          "name": "stdout",
          "text": [
            "(353, 11)\n",
            "(89, 11)\n"
          ]
        }
      ]
    },
    {
      "cell_type": "markdown",
      "source": [
        "Para trabajar con los modelos de aprendizaje,es adecuado que todas las variables tengan el mismo orden de magnitud. Por ello, se normalizan sus valores en las muestras que se emplearán en el entrenamiento, tanto los rasgos (X) y las variables objetivo (Y):\n",
        "\n",
        "$$x_{i,norm} = \\dfrac{x_{i}-\\mu}{\\sigma}$$\n",
        "    \n",
        "$$y_{i,norm} = \\dfrac{y_{i}-\\mu}{\\sigma}$$"
      ],
      "metadata": {
        "id": "Fd3AnuAjkXRh"
      }
    },
    {
      "cell_type": "code",
      "source": [
        "df_train_norm = (df_train - df_train.mean()) / df_train.std()\n",
        "df_train_norm.head()"
      ],
      "metadata": {
        "colab": {
          "base_uri": "https://localhost:8080/",
          "height": 206
        },
        "id": "enGKzvIGjUdz",
        "outputId": "6ccb5bfd-19a2-45d6-d1bf-0871a9da9047"
      },
      "execution_count": 72,
      "outputs": [
        {
          "output_type": "execute_result",
          "data": {
            "text/plain": [
              "          AGE       SEX       BMI        BP        S1        S2        S3  \\\n",
              "77  -1.942764 -0.914421 -0.762283 -1.583743 -0.808181 -0.557041  0.294758   \n",
              "204  2.343460  1.090490  0.130578  0.600002 -0.574315 -0.130834 -1.024780   \n",
              "410 -0.138039  1.090490 -0.583711  0.163253  1.033518  0.800264 -0.636681   \n",
              "315  0.237946 -0.914421 -0.427460 -1.146994  0.682718  0.452742  1.148576   \n",
              "426  0.689128  1.090490 -0.717640  0.915189  1.238151  1.462524 -0.714301   \n",
              "\n",
              "           S4        S5        S6         Y  \n",
              "77  -0.794181 -1.508828 -0.018826  0.638405  \n",
              "204  0.750935  0.070115  1.621026  1.632590  \n",
              "410  0.750935  1.399014 -0.881906  0.754609  \n",
              "315 -0.794181 -0.197708 -0.018826 -0.691478  \n",
              "426  1.237647  0.764260  1.793642 -0.394514  "
            ],
            "text/html": [
              "\n",
              "  <div id=\"df-f63e45f9-4d4d-40c7-a84a-0518371ab0e2\" class=\"colab-df-container\">\n",
              "    <div>\n",
              "<style scoped>\n",
              "    .dataframe tbody tr th:only-of-type {\n",
              "        vertical-align: middle;\n",
              "    }\n",
              "\n",
              "    .dataframe tbody tr th {\n",
              "        vertical-align: top;\n",
              "    }\n",
              "\n",
              "    .dataframe thead th {\n",
              "        text-align: right;\n",
              "    }\n",
              "</style>\n",
              "<table border=\"1\" class=\"dataframe\">\n",
              "  <thead>\n",
              "    <tr style=\"text-align: right;\">\n",
              "      <th></th>\n",
              "      <th>AGE</th>\n",
              "      <th>SEX</th>\n",
              "      <th>BMI</th>\n",
              "      <th>BP</th>\n",
              "      <th>S1</th>\n",
              "      <th>S2</th>\n",
              "      <th>S3</th>\n",
              "      <th>S4</th>\n",
              "      <th>S5</th>\n",
              "      <th>S6</th>\n",
              "      <th>Y</th>\n",
              "    </tr>\n",
              "  </thead>\n",
              "  <tbody>\n",
              "    <tr>\n",
              "      <th>77</th>\n",
              "      <td>-1.942764</td>\n",
              "      <td>-0.914421</td>\n",
              "      <td>-0.762283</td>\n",
              "      <td>-1.583743</td>\n",
              "      <td>-0.808181</td>\n",
              "      <td>-0.557041</td>\n",
              "      <td>0.294758</td>\n",
              "      <td>-0.794181</td>\n",
              "      <td>-1.508828</td>\n",
              "      <td>-0.018826</td>\n",
              "      <td>0.638405</td>\n",
              "    </tr>\n",
              "    <tr>\n",
              "      <th>204</th>\n",
              "      <td>2.343460</td>\n",
              "      <td>1.090490</td>\n",
              "      <td>0.130578</td>\n",
              "      <td>0.600002</td>\n",
              "      <td>-0.574315</td>\n",
              "      <td>-0.130834</td>\n",
              "      <td>-1.024780</td>\n",
              "      <td>0.750935</td>\n",
              "      <td>0.070115</td>\n",
              "      <td>1.621026</td>\n",
              "      <td>1.632590</td>\n",
              "    </tr>\n",
              "    <tr>\n",
              "      <th>410</th>\n",
              "      <td>-0.138039</td>\n",
              "      <td>1.090490</td>\n",
              "      <td>-0.583711</td>\n",
              "      <td>0.163253</td>\n",
              "      <td>1.033518</td>\n",
              "      <td>0.800264</td>\n",
              "      <td>-0.636681</td>\n",
              "      <td>0.750935</td>\n",
              "      <td>1.399014</td>\n",
              "      <td>-0.881906</td>\n",
              "      <td>0.754609</td>\n",
              "    </tr>\n",
              "    <tr>\n",
              "      <th>315</th>\n",
              "      <td>0.237946</td>\n",
              "      <td>-0.914421</td>\n",
              "      <td>-0.427460</td>\n",
              "      <td>-1.146994</td>\n",
              "      <td>0.682718</td>\n",
              "      <td>0.452742</td>\n",
              "      <td>1.148576</td>\n",
              "      <td>-0.794181</td>\n",
              "      <td>-0.197708</td>\n",
              "      <td>-0.018826</td>\n",
              "      <td>-0.691478</td>\n",
              "    </tr>\n",
              "    <tr>\n",
              "      <th>426</th>\n",
              "      <td>0.689128</td>\n",
              "      <td>1.090490</td>\n",
              "      <td>-0.717640</td>\n",
              "      <td>0.915189</td>\n",
              "      <td>1.238151</td>\n",
              "      <td>1.462524</td>\n",
              "      <td>-0.714301</td>\n",
              "      <td>1.237647</td>\n",
              "      <td>0.764260</td>\n",
              "      <td>1.793642</td>\n",
              "      <td>-0.394514</td>\n",
              "    </tr>\n",
              "  </tbody>\n",
              "</table>\n",
              "</div>\n",
              "    <div class=\"colab-df-buttons\">\n",
              "\n",
              "  <div class=\"colab-df-container\">\n",
              "    <button class=\"colab-df-convert\" onclick=\"convertToInteractive('df-f63e45f9-4d4d-40c7-a84a-0518371ab0e2')\"\n",
              "            title=\"Convert this dataframe to an interactive table.\"\n",
              "            style=\"display:none;\">\n",
              "\n",
              "  <svg xmlns=\"http://www.w3.org/2000/svg\" height=\"24px\" viewBox=\"0 -960 960 960\">\n",
              "    <path d=\"M120-120v-720h720v720H120Zm60-500h600v-160H180v160Zm220 220h160v-160H400v160Zm0 220h160v-160H400v160ZM180-400h160v-160H180v160Zm440 0h160v-160H620v160ZM180-180h160v-160H180v160Zm440 0h160v-160H620v160Z\"/>\n",
              "  </svg>\n",
              "    </button>\n",
              "\n",
              "  <style>\n",
              "    .colab-df-container {\n",
              "      display:flex;\n",
              "      gap: 12px;\n",
              "    }\n",
              "\n",
              "    .colab-df-convert {\n",
              "      background-color: #E8F0FE;\n",
              "      border: none;\n",
              "      border-radius: 50%;\n",
              "      cursor: pointer;\n",
              "      display: none;\n",
              "      fill: #1967D2;\n",
              "      height: 32px;\n",
              "      padding: 0 0 0 0;\n",
              "      width: 32px;\n",
              "    }\n",
              "\n",
              "    .colab-df-convert:hover {\n",
              "      background-color: #E2EBFA;\n",
              "      box-shadow: 0px 1px 2px rgba(60, 64, 67, 0.3), 0px 1px 3px 1px rgba(60, 64, 67, 0.15);\n",
              "      fill: #174EA6;\n",
              "    }\n",
              "\n",
              "    .colab-df-buttons div {\n",
              "      margin-bottom: 4px;\n",
              "    }\n",
              "\n",
              "    [theme=dark] .colab-df-convert {\n",
              "      background-color: #3B4455;\n",
              "      fill: #D2E3FC;\n",
              "    }\n",
              "\n",
              "    [theme=dark] .colab-df-convert:hover {\n",
              "      background-color: #434B5C;\n",
              "      box-shadow: 0px 1px 3px 1px rgba(0, 0, 0, 0.15);\n",
              "      filter: drop-shadow(0px 1px 2px rgba(0, 0, 0, 0.3));\n",
              "      fill: #FFFFFF;\n",
              "    }\n",
              "  </style>\n",
              "\n",
              "    <script>\n",
              "      const buttonEl =\n",
              "        document.querySelector('#df-f63e45f9-4d4d-40c7-a84a-0518371ab0e2 button.colab-df-convert');\n",
              "      buttonEl.style.display =\n",
              "        google.colab.kernel.accessAllowed ? 'block' : 'none';\n",
              "\n",
              "      async function convertToInteractive(key) {\n",
              "        const element = document.querySelector('#df-f63e45f9-4d4d-40c7-a84a-0518371ab0e2');\n",
              "        const dataTable =\n",
              "          await google.colab.kernel.invokeFunction('convertToInteractive',\n",
              "                                                    [key], {});\n",
              "        if (!dataTable) return;\n",
              "\n",
              "        const docLinkHtml = 'Like what you see? Visit the ' +\n",
              "          '<a target=\"_blank\" href=https://colab.research.google.com/notebooks/data_table.ipynb>data table notebook</a>'\n",
              "          + ' to learn more about interactive tables.';\n",
              "        element.innerHTML = '';\n",
              "        dataTable['output_type'] = 'display_data';\n",
              "        await google.colab.output.renderOutput(dataTable, element);\n",
              "        const docLink = document.createElement('div');\n",
              "        docLink.innerHTML = docLinkHtml;\n",
              "        element.appendChild(docLink);\n",
              "      }\n",
              "    </script>\n",
              "  </div>\n",
              "\n",
              "\n",
              "    <div id=\"df-000b8eff-5318-4964-a9f6-67f5745cbd81\">\n",
              "      <button class=\"colab-df-quickchart\" onclick=\"quickchart('df-000b8eff-5318-4964-a9f6-67f5745cbd81')\"\n",
              "                title=\"Suggest charts\"\n",
              "                style=\"display:none;\">\n",
              "\n",
              "<svg xmlns=\"http://www.w3.org/2000/svg\" height=\"24px\"viewBox=\"0 0 24 24\"\n",
              "     width=\"24px\">\n",
              "    <g>\n",
              "        <path d=\"M19 3H5c-1.1 0-2 .9-2 2v14c0 1.1.9 2 2 2h14c1.1 0 2-.9 2-2V5c0-1.1-.9-2-2-2zM9 17H7v-7h2v7zm4 0h-2V7h2v10zm4 0h-2v-4h2v4z\"/>\n",
              "    </g>\n",
              "</svg>\n",
              "      </button>\n",
              "\n",
              "<style>\n",
              "  .colab-df-quickchart {\n",
              "      --bg-color: #E8F0FE;\n",
              "      --fill-color: #1967D2;\n",
              "      --hover-bg-color: #E2EBFA;\n",
              "      --hover-fill-color: #174EA6;\n",
              "      --disabled-fill-color: #AAA;\n",
              "      --disabled-bg-color: #DDD;\n",
              "  }\n",
              "\n",
              "  [theme=dark] .colab-df-quickchart {\n",
              "      --bg-color: #3B4455;\n",
              "      --fill-color: #D2E3FC;\n",
              "      --hover-bg-color: #434B5C;\n",
              "      --hover-fill-color: #FFFFFF;\n",
              "      --disabled-bg-color: #3B4455;\n",
              "      --disabled-fill-color: #666;\n",
              "  }\n",
              "\n",
              "  .colab-df-quickchart {\n",
              "    background-color: var(--bg-color);\n",
              "    border: none;\n",
              "    border-radius: 50%;\n",
              "    cursor: pointer;\n",
              "    display: none;\n",
              "    fill: var(--fill-color);\n",
              "    height: 32px;\n",
              "    padding: 0;\n",
              "    width: 32px;\n",
              "  }\n",
              "\n",
              "  .colab-df-quickchart:hover {\n",
              "    background-color: var(--hover-bg-color);\n",
              "    box-shadow: 0 1px 2px rgba(60, 64, 67, 0.3), 0 1px 3px 1px rgba(60, 64, 67, 0.15);\n",
              "    fill: var(--button-hover-fill-color);\n",
              "  }\n",
              "\n",
              "  .colab-df-quickchart-complete:disabled,\n",
              "  .colab-df-quickchart-complete:disabled:hover {\n",
              "    background-color: var(--disabled-bg-color);\n",
              "    fill: var(--disabled-fill-color);\n",
              "    box-shadow: none;\n",
              "  }\n",
              "\n",
              "  .colab-df-spinner {\n",
              "    border: 2px solid var(--fill-color);\n",
              "    border-color: transparent;\n",
              "    border-bottom-color: var(--fill-color);\n",
              "    animation:\n",
              "      spin 1s steps(1) infinite;\n",
              "  }\n",
              "\n",
              "  @keyframes spin {\n",
              "    0% {\n",
              "      border-color: transparent;\n",
              "      border-bottom-color: var(--fill-color);\n",
              "      border-left-color: var(--fill-color);\n",
              "    }\n",
              "    20% {\n",
              "      border-color: transparent;\n",
              "      border-left-color: var(--fill-color);\n",
              "      border-top-color: var(--fill-color);\n",
              "    }\n",
              "    30% {\n",
              "      border-color: transparent;\n",
              "      border-left-color: var(--fill-color);\n",
              "      border-top-color: var(--fill-color);\n",
              "      border-right-color: var(--fill-color);\n",
              "    }\n",
              "    40% {\n",
              "      border-color: transparent;\n",
              "      border-right-color: var(--fill-color);\n",
              "      border-top-color: var(--fill-color);\n",
              "    }\n",
              "    60% {\n",
              "      border-color: transparent;\n",
              "      border-right-color: var(--fill-color);\n",
              "    }\n",
              "    80% {\n",
              "      border-color: transparent;\n",
              "      border-right-color: var(--fill-color);\n",
              "      border-bottom-color: var(--fill-color);\n",
              "    }\n",
              "    90% {\n",
              "      border-color: transparent;\n",
              "      border-bottom-color: var(--fill-color);\n",
              "    }\n",
              "  }\n",
              "</style>\n",
              "\n",
              "      <script>\n",
              "        async function quickchart(key) {\n",
              "          const quickchartButtonEl =\n",
              "            document.querySelector('#' + key + ' button');\n",
              "          quickchartButtonEl.disabled = true;  // To prevent multiple clicks.\n",
              "          quickchartButtonEl.classList.add('colab-df-spinner');\n",
              "          try {\n",
              "            const charts = await google.colab.kernel.invokeFunction(\n",
              "                'suggestCharts', [key], {});\n",
              "          } catch (error) {\n",
              "            console.error('Error during call to suggestCharts:', error);\n",
              "          }\n",
              "          quickchartButtonEl.classList.remove('colab-df-spinner');\n",
              "          quickchartButtonEl.classList.add('colab-df-quickchart-complete');\n",
              "        }\n",
              "        (() => {\n",
              "          let quickchartButtonEl =\n",
              "            document.querySelector('#df-000b8eff-5318-4964-a9f6-67f5745cbd81 button');\n",
              "          quickchartButtonEl.style.display =\n",
              "            google.colab.kernel.accessAllowed ? 'block' : 'none';\n",
              "        })();\n",
              "      </script>\n",
              "    </div>\n",
              "\n",
              "    </div>\n",
              "  </div>\n"
            ],
            "application/vnd.google.colaboratory.intrinsic+json": {
              "type": "dataframe",
              "variable_name": "df_train_norm",
              "summary": "{\n  \"name\": \"df_train_norm\",\n  \"rows\": 353,\n  \"fields\": [\n    {\n      \"column\": \"AGE\",\n      \"properties\": {\n        \"dtype\": \"number\",\n        \"std\": 0.9999999999999992,\n        \"min\": -2.168355183140544,\n        \"max\": 2.343459609954724,\n        \"num_unique_values\": 57,\n        \"samples\": [\n          -1.942764443485781,\n          0.313142953061853,\n          1.3658997381174156\n        ],\n        \"semantic_type\": \"\",\n        \"description\": \"\"\n      }\n    },\n    {\n      \"column\": \"SEX\",\n      \"properties\": {\n        \"dtype\": \"number\",\n        \"std\": 1.0000000000000002,\n        \"min\": -0.9144212347289055,\n        \"max\": 1.0904899196767073,\n        \"num_unique_values\": 2,\n        \"samples\": [\n          1.0904899196767073,\n          -0.9144212347289055\n        ],\n        \"semantic_type\": \"\",\n        \"description\": \"\"\n      }\n    },\n    {\n      \"column\": \"BMI\",\n      \"properties\": {\n        \"dtype\": \"number\",\n        \"std\": 0.9999999999999994,\n        \"min\": -1.878358072742853,\n        \"max\": 3.523446900229071,\n        \"num_unique_values\": 151,\n        \"samples\": [\n          1.0234379871180976,\n          2.541300541506902\n        ],\n        \"semantic_type\": \"\",\n        \"description\": \"\"\n      }\n    },\n    {\n      \"column\": \"BP\",\n      \"properties\": {\n        \"dtype\": \"number\",\n        \"std\": 0.9999999999999999,\n        \"min\": -2.3844498187008627,\n        \"max\": 2.7837473329883795,\n        \"num_unique_values\": 86,\n        \"samples\": [\n          1.837457713664997,\n          -1.5837432177349238\n        ],\n        \"semantic_type\": \"\",\n        \"description\": \"\"\n      }\n    },\n    {\n      \"column\": \"S1\",\n      \"properties\": {\n        \"dtype\": \"number\",\n        \"std\": 0.9999999999999998,\n        \"min\": -2.299080908495426,\n        \"max\": 3.2844841118016377,\n        \"num_unique_values\": 132,\n        \"samples\": [\n          0.8581181605730709,\n          -2.299080908495426\n        ],\n        \"semantic_type\": \"\",\n        \"description\": \"\"\n      }\n    },\n    {\n      \"column\": \"S2\",\n      \"properties\": {\n        \"dtype\": \"number\",\n        \"std\": 1.0000000000000002,\n        \"min\": -2.3995662113905825,\n        \"max\": 4.183691144433271,\n        \"num_unique_values\": 263,\n        \"samples\": [\n          0.8855054372824763,\n          -0.1701762701753333\n        ],\n        \"semantic_type\": \"\",\n        \"description\": \"\"\n      }\n    },\n    {\n      \"column\": \"S3\",\n      \"properties\": {\n        \"dtype\": \"number\",\n        \"std\": 1.0000000000000004,\n        \"min\": -2.1890778462788614,\n        \"max\": 3.787651091464671,\n        \"num_unique_values\": 60,\n        \"samples\": [\n          0.2947575564197495,\n          -0.09334172525190845\n        ],\n        \"semantic_type\": \"\",\n        \"description\": \"\"\n      }\n    },\n    {\n      \"column\": \"S4\",\n      \"properties\": {\n        \"dtype\": \"number\",\n        \"std\": 1.0000000000000009,\n        \"min\": -1.56673905256878,\n        \"max\": 3.910697806398598,\n        \"num_unique_values\": 48,\n        \"samples\": [\n          0.10198642209547074,\n          0.5655212761688734\n        ],\n        \"semantic_type\": \"\",\n        \"description\": \"\"\n      }\n    },\n    {\n      \"column\": \"S5\",\n      \"properties\": {\n        \"dtype\": \"number\",\n        \"std\": 1.0000000000000004,\n        \"min\": -2.587873391417752,\n        \"max\": 2.800543671961517,\n        \"num_unique_values\": 168,\n        \"samples\": [\n          0.8489943982085835,\n          -0.3034372479415042\n        ],\n        \"semantic_type\": \"\",\n        \"description\": \"\"\n      }\n    },\n    {\n      \"column\": \"S6\",\n      \"properties\": {\n        \"dtype\": \"number\",\n        \"std\": 0.9999999999999996,\n        \"min\": -2.866990741307661,\n        \"max\": 2.8293379548364537,\n        \"num_unique_values\": 55,\n        \"samples\": [\n          0.9305617227884155,\n          -0.7092904776167085\n        ],\n        \"semantic_type\": \"\",\n        \"description\": \"\"\n      }\n    },\n    {\n      \"column\": \"Y\",\n      \"properties\": {\n        \"dtype\": \"number\",\n        \"std\": 1.0,\n        \"min\": -1.6211049450753197,\n        \"max\": 2.5234826012643317,\n        \"num_unique_values\": 197,\n        \"samples\": [\n          1.7746163156328683,\n          1.4518291235503409\n        ],\n        \"semantic_type\": \"\",\n        \"description\": \"\"\n      }\n    }\n  ]\n}"
            }
          },
          "metadata": {},
          "execution_count": 72
        }
      ]
    },
    {
      "cell_type": "markdown",
      "source": [
        "\\* Nota importante: La normalización de las muestras de prueba se realiza con los valores de μ y σ obtenidos con las muestras empleadas para el entrenamiento"
      ],
      "metadata": {
        "id": "-LzEFK2Ij_7J"
      }
    },
    {
      "cell_type": "code",
      "source": [
        "df_test_norm = (df_test - df_train.mean()) / df_train.std()\n",
        "df_test_norm.head()"
      ],
      "metadata": {
        "colab": {
          "base_uri": "https://localhost:8080/",
          "height": 206
        },
        "id": "SCnBb3j6kwNM",
        "outputId": "29f2899e-f0a0-4e54-a2e2-51bc7d30f75c"
      },
      "execution_count": 73,
      "outputs": [
        {
          "output_type": "execute_result",
          "data": {
            "text/plain": [
              "          AGE       SEX       BMI        BP        S1        S2        S3  \\\n",
              "163  0.388340  1.090490  1.492190  1.619083 -0.165048  0.138004 -0.170962   \n",
              "327  1.591490 -0.914421  2.362728  0.600002  0.536552  0.544540  0.372377   \n",
              "138  0.764324  1.090490  2.295764  1.619083 -0.662015 -0.688182 -0.481441   \n",
              "241  0.689128  1.090490 -0.181923  0.090461  0.331918  0.596996  0.139518   \n",
              "383  0.162749  1.090490 -0.606032 -0.200705 -0.662015 -0.583269  0.139518   \n",
              "\n",
              "           S4        S5        S6         Y  \n",
              "163 -0.021623 -0.462126  1.275794 -0.252487  \n",
              "327 -0.021623  0.015832 -0.105134  1.116130  \n",
              "138 -0.021623  0.609921  1.534718  2.394368  \n",
              "241 -0.137507 -0.584121  1.189486  0.341441  \n",
              "383 -0.794181 -0.347318  0.153790 -0.807681  "
            ],
            "text/html": [
              "\n",
              "  <div id=\"df-b1317e52-662f-4e2b-89eb-13811123becd\" class=\"colab-df-container\">\n",
              "    <div>\n",
              "<style scoped>\n",
              "    .dataframe tbody tr th:only-of-type {\n",
              "        vertical-align: middle;\n",
              "    }\n",
              "\n",
              "    .dataframe tbody tr th {\n",
              "        vertical-align: top;\n",
              "    }\n",
              "\n",
              "    .dataframe thead th {\n",
              "        text-align: right;\n",
              "    }\n",
              "</style>\n",
              "<table border=\"1\" class=\"dataframe\">\n",
              "  <thead>\n",
              "    <tr style=\"text-align: right;\">\n",
              "      <th></th>\n",
              "      <th>AGE</th>\n",
              "      <th>SEX</th>\n",
              "      <th>BMI</th>\n",
              "      <th>BP</th>\n",
              "      <th>S1</th>\n",
              "      <th>S2</th>\n",
              "      <th>S3</th>\n",
              "      <th>S4</th>\n",
              "      <th>S5</th>\n",
              "      <th>S6</th>\n",
              "      <th>Y</th>\n",
              "    </tr>\n",
              "  </thead>\n",
              "  <tbody>\n",
              "    <tr>\n",
              "      <th>163</th>\n",
              "      <td>0.388340</td>\n",
              "      <td>1.090490</td>\n",
              "      <td>1.492190</td>\n",
              "      <td>1.619083</td>\n",
              "      <td>-0.165048</td>\n",
              "      <td>0.138004</td>\n",
              "      <td>-0.170962</td>\n",
              "      <td>-0.021623</td>\n",
              "      <td>-0.462126</td>\n",
              "      <td>1.275794</td>\n",
              "      <td>-0.252487</td>\n",
              "    </tr>\n",
              "    <tr>\n",
              "      <th>327</th>\n",
              "      <td>1.591490</td>\n",
              "      <td>-0.914421</td>\n",
              "      <td>2.362728</td>\n",
              "      <td>0.600002</td>\n",
              "      <td>0.536552</td>\n",
              "      <td>0.544540</td>\n",
              "      <td>0.372377</td>\n",
              "      <td>-0.021623</td>\n",
              "      <td>0.015832</td>\n",
              "      <td>-0.105134</td>\n",
              "      <td>1.116130</td>\n",
              "    </tr>\n",
              "    <tr>\n",
              "      <th>138</th>\n",
              "      <td>0.764324</td>\n",
              "      <td>1.090490</td>\n",
              "      <td>2.295764</td>\n",
              "      <td>1.619083</td>\n",
              "      <td>-0.662015</td>\n",
              "      <td>-0.688182</td>\n",
              "      <td>-0.481441</td>\n",
              "      <td>-0.021623</td>\n",
              "      <td>0.609921</td>\n",
              "      <td>1.534718</td>\n",
              "      <td>2.394368</td>\n",
              "    </tr>\n",
              "    <tr>\n",
              "      <th>241</th>\n",
              "      <td>0.689128</td>\n",
              "      <td>1.090490</td>\n",
              "      <td>-0.181923</td>\n",
              "      <td>0.090461</td>\n",
              "      <td>0.331918</td>\n",
              "      <td>0.596996</td>\n",
              "      <td>0.139518</td>\n",
              "      <td>-0.137507</td>\n",
              "      <td>-0.584121</td>\n",
              "      <td>1.189486</td>\n",
              "      <td>0.341441</td>\n",
              "    </tr>\n",
              "    <tr>\n",
              "      <th>383</th>\n",
              "      <td>0.162749</td>\n",
              "      <td>1.090490</td>\n",
              "      <td>-0.606032</td>\n",
              "      <td>-0.200705</td>\n",
              "      <td>-0.662015</td>\n",
              "      <td>-0.583269</td>\n",
              "      <td>0.139518</td>\n",
              "      <td>-0.794181</td>\n",
              "      <td>-0.347318</td>\n",
              "      <td>0.153790</td>\n",
              "      <td>-0.807681</td>\n",
              "    </tr>\n",
              "  </tbody>\n",
              "</table>\n",
              "</div>\n",
              "    <div class=\"colab-df-buttons\">\n",
              "\n",
              "  <div class=\"colab-df-container\">\n",
              "    <button class=\"colab-df-convert\" onclick=\"convertToInteractive('df-b1317e52-662f-4e2b-89eb-13811123becd')\"\n",
              "            title=\"Convert this dataframe to an interactive table.\"\n",
              "            style=\"display:none;\">\n",
              "\n",
              "  <svg xmlns=\"http://www.w3.org/2000/svg\" height=\"24px\" viewBox=\"0 -960 960 960\">\n",
              "    <path d=\"M120-120v-720h720v720H120Zm60-500h600v-160H180v160Zm220 220h160v-160H400v160Zm0 220h160v-160H400v160ZM180-400h160v-160H180v160Zm440 0h160v-160H620v160ZM180-180h160v-160H180v160Zm440 0h160v-160H620v160Z\"/>\n",
              "  </svg>\n",
              "    </button>\n",
              "\n",
              "  <style>\n",
              "    .colab-df-container {\n",
              "      display:flex;\n",
              "      gap: 12px;\n",
              "    }\n",
              "\n",
              "    .colab-df-convert {\n",
              "      background-color: #E8F0FE;\n",
              "      border: none;\n",
              "      border-radius: 50%;\n",
              "      cursor: pointer;\n",
              "      display: none;\n",
              "      fill: #1967D2;\n",
              "      height: 32px;\n",
              "      padding: 0 0 0 0;\n",
              "      width: 32px;\n",
              "    }\n",
              "\n",
              "    .colab-df-convert:hover {\n",
              "      background-color: #E2EBFA;\n",
              "      box-shadow: 0px 1px 2px rgba(60, 64, 67, 0.3), 0px 1px 3px 1px rgba(60, 64, 67, 0.15);\n",
              "      fill: #174EA6;\n",
              "    }\n",
              "\n",
              "    .colab-df-buttons div {\n",
              "      margin-bottom: 4px;\n",
              "    }\n",
              "\n",
              "    [theme=dark] .colab-df-convert {\n",
              "      background-color: #3B4455;\n",
              "      fill: #D2E3FC;\n",
              "    }\n",
              "\n",
              "    [theme=dark] .colab-df-convert:hover {\n",
              "      background-color: #434B5C;\n",
              "      box-shadow: 0px 1px 3px 1px rgba(0, 0, 0, 0.15);\n",
              "      filter: drop-shadow(0px 1px 2px rgba(0, 0, 0, 0.3));\n",
              "      fill: #FFFFFF;\n",
              "    }\n",
              "  </style>\n",
              "\n",
              "    <script>\n",
              "      const buttonEl =\n",
              "        document.querySelector('#df-b1317e52-662f-4e2b-89eb-13811123becd button.colab-df-convert');\n",
              "      buttonEl.style.display =\n",
              "        google.colab.kernel.accessAllowed ? 'block' : 'none';\n",
              "\n",
              "      async function convertToInteractive(key) {\n",
              "        const element = document.querySelector('#df-b1317e52-662f-4e2b-89eb-13811123becd');\n",
              "        const dataTable =\n",
              "          await google.colab.kernel.invokeFunction('convertToInteractive',\n",
              "                                                    [key], {});\n",
              "        if (!dataTable) return;\n",
              "\n",
              "        const docLinkHtml = 'Like what you see? Visit the ' +\n",
              "          '<a target=\"_blank\" href=https://colab.research.google.com/notebooks/data_table.ipynb>data table notebook</a>'\n",
              "          + ' to learn more about interactive tables.';\n",
              "        element.innerHTML = '';\n",
              "        dataTable['output_type'] = 'display_data';\n",
              "        await google.colab.output.renderOutput(dataTable, element);\n",
              "        const docLink = document.createElement('div');\n",
              "        docLink.innerHTML = docLinkHtml;\n",
              "        element.appendChild(docLink);\n",
              "      }\n",
              "    </script>\n",
              "  </div>\n",
              "\n",
              "\n",
              "    <div id=\"df-56aa7c18-03b2-49c4-a2dc-6b0593c88260\">\n",
              "      <button class=\"colab-df-quickchart\" onclick=\"quickchart('df-56aa7c18-03b2-49c4-a2dc-6b0593c88260')\"\n",
              "                title=\"Suggest charts\"\n",
              "                style=\"display:none;\">\n",
              "\n",
              "<svg xmlns=\"http://www.w3.org/2000/svg\" height=\"24px\"viewBox=\"0 0 24 24\"\n",
              "     width=\"24px\">\n",
              "    <g>\n",
              "        <path d=\"M19 3H5c-1.1 0-2 .9-2 2v14c0 1.1.9 2 2 2h14c1.1 0 2-.9 2-2V5c0-1.1-.9-2-2-2zM9 17H7v-7h2v7zm4 0h-2V7h2v10zm4 0h-2v-4h2v4z\"/>\n",
              "    </g>\n",
              "</svg>\n",
              "      </button>\n",
              "\n",
              "<style>\n",
              "  .colab-df-quickchart {\n",
              "      --bg-color: #E8F0FE;\n",
              "      --fill-color: #1967D2;\n",
              "      --hover-bg-color: #E2EBFA;\n",
              "      --hover-fill-color: #174EA6;\n",
              "      --disabled-fill-color: #AAA;\n",
              "      --disabled-bg-color: #DDD;\n",
              "  }\n",
              "\n",
              "  [theme=dark] .colab-df-quickchart {\n",
              "      --bg-color: #3B4455;\n",
              "      --fill-color: #D2E3FC;\n",
              "      --hover-bg-color: #434B5C;\n",
              "      --hover-fill-color: #FFFFFF;\n",
              "      --disabled-bg-color: #3B4455;\n",
              "      --disabled-fill-color: #666;\n",
              "  }\n",
              "\n",
              "  .colab-df-quickchart {\n",
              "    background-color: var(--bg-color);\n",
              "    border: none;\n",
              "    border-radius: 50%;\n",
              "    cursor: pointer;\n",
              "    display: none;\n",
              "    fill: var(--fill-color);\n",
              "    height: 32px;\n",
              "    padding: 0;\n",
              "    width: 32px;\n",
              "  }\n",
              "\n",
              "  .colab-df-quickchart:hover {\n",
              "    background-color: var(--hover-bg-color);\n",
              "    box-shadow: 0 1px 2px rgba(60, 64, 67, 0.3), 0 1px 3px 1px rgba(60, 64, 67, 0.15);\n",
              "    fill: var(--button-hover-fill-color);\n",
              "  }\n",
              "\n",
              "  .colab-df-quickchart-complete:disabled,\n",
              "  .colab-df-quickchart-complete:disabled:hover {\n",
              "    background-color: var(--disabled-bg-color);\n",
              "    fill: var(--disabled-fill-color);\n",
              "    box-shadow: none;\n",
              "  }\n",
              "\n",
              "  .colab-df-spinner {\n",
              "    border: 2px solid var(--fill-color);\n",
              "    border-color: transparent;\n",
              "    border-bottom-color: var(--fill-color);\n",
              "    animation:\n",
              "      spin 1s steps(1) infinite;\n",
              "  }\n",
              "\n",
              "  @keyframes spin {\n",
              "    0% {\n",
              "      border-color: transparent;\n",
              "      border-bottom-color: var(--fill-color);\n",
              "      border-left-color: var(--fill-color);\n",
              "    }\n",
              "    20% {\n",
              "      border-color: transparent;\n",
              "      border-left-color: var(--fill-color);\n",
              "      border-top-color: var(--fill-color);\n",
              "    }\n",
              "    30% {\n",
              "      border-color: transparent;\n",
              "      border-left-color: var(--fill-color);\n",
              "      border-top-color: var(--fill-color);\n",
              "      border-right-color: var(--fill-color);\n",
              "    }\n",
              "    40% {\n",
              "      border-color: transparent;\n",
              "      border-right-color: var(--fill-color);\n",
              "      border-top-color: var(--fill-color);\n",
              "    }\n",
              "    60% {\n",
              "      border-color: transparent;\n",
              "      border-right-color: var(--fill-color);\n",
              "    }\n",
              "    80% {\n",
              "      border-color: transparent;\n",
              "      border-right-color: var(--fill-color);\n",
              "      border-bottom-color: var(--fill-color);\n",
              "    }\n",
              "    90% {\n",
              "      border-color: transparent;\n",
              "      border-bottom-color: var(--fill-color);\n",
              "    }\n",
              "  }\n",
              "</style>\n",
              "\n",
              "      <script>\n",
              "        async function quickchart(key) {\n",
              "          const quickchartButtonEl =\n",
              "            document.querySelector('#' + key + ' button');\n",
              "          quickchartButtonEl.disabled = true;  // To prevent multiple clicks.\n",
              "          quickchartButtonEl.classList.add('colab-df-spinner');\n",
              "          try {\n",
              "            const charts = await google.colab.kernel.invokeFunction(\n",
              "                'suggestCharts', [key], {});\n",
              "          } catch (error) {\n",
              "            console.error('Error during call to suggestCharts:', error);\n",
              "          }\n",
              "          quickchartButtonEl.classList.remove('colab-df-spinner');\n",
              "          quickchartButtonEl.classList.add('colab-df-quickchart-complete');\n",
              "        }\n",
              "        (() => {\n",
              "          let quickchartButtonEl =\n",
              "            document.querySelector('#df-56aa7c18-03b2-49c4-a2dc-6b0593c88260 button');\n",
              "          quickchartButtonEl.style.display =\n",
              "            google.colab.kernel.accessAllowed ? 'block' : 'none';\n",
              "        })();\n",
              "      </script>\n",
              "    </div>\n",
              "\n",
              "    </div>\n",
              "  </div>\n"
            ],
            "application/vnd.google.colaboratory.intrinsic+json": {
              "type": "dataframe",
              "variable_name": "df_test_norm",
              "summary": "{\n  \"name\": \"df_test_norm\",\n  \"rows\": 89,\n  \"fields\": [\n    {\n      \"column\": \"AGE\",\n      \"properties\": {\n        \"dtype\": \"number\",\n        \"std\": 0.9039817159502569,\n        \"min\": -2.168355183140544,\n        \"max\": 2.042671957081706,\n        \"num_unique_values\": 41,\n        \"samples\": [\n          -0.8900076584302185,\n          2.042671957081706,\n          -1.0404014848667273\n        ],\n        \"semantic_type\": \"\",\n        \"description\": \"\"\n      }\n    },\n    {\n      \"column\": \"SEX\",\n      \"properties\": {\n        \"dtype\": \"number\",\n        \"std\": 1.007562363063854,\n        \"min\": -0.9144212347289055,\n        \"max\": 1.0904899196767073,\n        \"num_unique_values\": 2,\n        \"samples\": [\n          -0.9144212347289055,\n          1.0904899196767073\n        ],\n        \"semantic_type\": \"\",\n        \"description\": \"\"\n      }\n    },\n    {\n      \"column\": \"BMI\",\n      \"properties\": {\n        \"dtype\": \"number\",\n        \"std\": 0.9340192775963075,\n        \"min\": -1.8560365645900763,\n        \"max\": 2.6305865741180092,\n        \"num_unique_values\": 71,\n        \"samples\": [\n          -1.4096064015345453,\n          1.4921896583264054\n        ],\n        \"semantic_type\": \"\",\n        \"description\": \"\"\n      }\n    },\n    {\n      \"column\": \"BP\",\n      \"properties\": {\n        \"dtype\": \"number\",\n        \"std\": 1.0384926890245514,\n        \"min\": -2.311658309522141,\n        \"max\": 2.638164314630936,\n        \"num_unique_values\": 52,\n        \"samples\": [\n          -0.7102451075902632,\n          -0.6614747964405194\n        ],\n        \"semantic_type\": \"\",\n        \"description\": \"\"\n      }\n    },\n    {\n      \"column\": \"S1\",\n      \"properties\": {\n        \"dtype\": \"number\",\n        \"std\": 1.0607732183801613,\n        \"min\": -2.679114129772189,\n        \"max\": 2.699817617529694,\n        \"num_unique_values\": 63,\n        \"samples\": [\n          -0.8081813481019691,\n          -0.4281481268252056\n        ],\n        \"semantic_type\": \"\",\n        \"description\": \"\"\n      }\n    },\n    {\n      \"column\": \"S2\",\n      \"properties\": {\n        \"dtype\": \"number\",\n        \"std\": 0.9865637104333294,\n        \"min\": -2.2159693927022674,\n        \"max\": 2.4723065130886233,\n        \"num_unique_values\": 78,\n        \"samples\": [\n          -0.03247865615909723,\n          0.13800410405148072\n        ],\n        \"semantic_type\": \"\",\n        \"description\": \"\"\n      }\n    },\n    {\n      \"column\": \"S3\",\n      \"properties\": {\n        \"dtype\": \"number\",\n        \"std\": 1.0151159117709776,\n        \"min\": -2.1114579899445296,\n        \"max\": 2.7785929591183605,\n        \"num_unique_values\": 41,\n        \"samples\": [\n          -1.5681189956042085,\n          -0.7143005759265612\n        ],\n        \"semantic_type\": \"\",\n        \"description\": \"\"\n      }\n    },\n    {\n      \"column\": \"S4\",\n      \"properties\": {\n        \"dtype\": \"number\",\n        \"std\": 0.9795821340250429,\n        \"min\": -1.56673905256878,\n        \"max\": 2.9913536791530158,\n        \"num_unique_values\": 25,\n        \"samples\": [\n          1.956125838389082,\n          0.5886980188725437\n        ],\n        \"semantic_type\": \"\",\n        \"description\": \"\"\n      }\n    },\n    {\n      \"column\": \"S5\",\n      \"properties\": {\n        \"dtype\": \"number\",\n        \"std\": 0.9360061415654184,\n        \"min\": -1.9724109629633968,\n        \"max\": 2.7055952579836164,\n        \"num_unique_values\": 75,\n        \"samples\": [\n          -0.3473177898595777,\n          -0.07817119007760284\n        ],\n        \"semantic_type\": \"\",\n        \"description\": \"\"\n      }\n    },\n    {\n      \"column\": \"S6\",\n      \"properties\": {\n        \"dtype\": \"number\",\n        \"std\": 0.9661703902160272,\n        \"min\": -2.1765266569265562,\n        \"max\": 2.656721933741178,\n        \"num_unique_values\": 37,\n        \"samples\": [\n          -1.3997545619978133,\n          -1.140830530354899\n        ],\n        \"semantic_type\": \"\",\n        \"description\": \"\"\n      }\n    },\n    {\n      \"column\": \"Y\",\n      \"properties\": {\n        \"dtype\": \"number\",\n        \"std\": 0.9782366723172101,\n        \"min\": -1.4661670928757065,\n        \"max\": 2.394367724431321,\n        \"num_unique_values\": 73,\n        \"samples\": [\n          -0.8076812210273507,\n          -1.1692028761597812\n        ],\n        \"semantic_type\": \"\",\n        \"description\": \"\"\n      }\n    }\n  ]\n}"
            }
          },
          "metadata": {},
          "execution_count": 73
        }
      ]
    },
    {
      "cell_type": "code",
      "source": [
        "plt.figure(figsize=(15,8))\n",
        "\n",
        "ax1 = plt.subplot(2,3,1)\n",
        "ax2 = plt.subplot(2,3,2)\n",
        "ax3 = plt.subplot(2,3,3)\n",
        "\n",
        "ax1.hist(df_train_norm.S5, bins=30, color='green',edgecolor='purple', alpha=0.5)\n",
        "ax1.set_xlabel('Serum Concentration of Lamorigine', size=15)\n",
        "ax1.set_ylabel('Frequency', size=15)\n",
        "\n",
        "ax2.hist(df_train_norm.S6, bins=30, color='orange',edgecolor='purple', alpha=0.5)\n",
        "ax2.set_xlabel('Glucose', size=15)\n",
        "\n",
        "ax3.hist(df_train_norm.Y, bins=30, color='purple',edgecolor='black', alpha=0.5)\n",
        "ax3.set_xlabel('Y(Diabetes Mellitus Disease Progression)', size=15)"
      ],
      "metadata": {
        "colab": {
          "base_uri": "https://localhost:8080/",
          "height": 390
        },
        "id": "DrFYjB-6r88Y",
        "outputId": "2503c371-b961-4ab3-86f9-b2cb5752936e"
      },
      "execution_count": 74,
      "outputs": [
        {
          "output_type": "execute_result",
          "data": {
            "text/plain": [
              "Text(0.5, 0, 'Y(Diabetes Mellitus Disease Progression)')"
            ]
          },
          "metadata": {},
          "execution_count": 74
        },
        {
          "output_type": "display_data",
          "data": {
            "text/plain": [
              "<Figure size 1500x800 with 3 Axes>"
            ],
            "image/png": "[encoded data removed]"
          },
          "metadata": {}
        }
      ]
    },
    {
      "cell_type": "code",
      "source": [
        "# Histogramas de las variables que se emplearán en el entrenamiento:\n",
        "plt.figure(figsize=(20,8))\n",
        "\n",
        "ax1 = plt.subplot(2,4,1)\n",
        "ax2 = plt.subplot(2,4,2)\n",
        "ax3 = plt.subplot(2,4,3)\n",
        "ax4 = plt.subplot(2,4,4)\n",
        "\n",
        "ax1.hist(df_train_norm.AGE, bins=30, color='green',edgecolor='purple', alpha=0.5)\n",
        "ax1.set_xlabel('x1(Age)', size=15)\n",
        "ax1.set_ylabel('Frequency', size=15)\n",
        "\n",
        "ax2.hist(df_train_norm.SEX, bins=30, color='orange',edgecolor='purple', alpha=0.5)\n",
        "ax2.set_xlabel('x2(Sex)', size=15)\n",
        "\n",
        "ax3.hist(df_train_norm.BMI, bins=30, color='red',edgecolor='purple', alpha=0.5)\n",
        "ax3.set_xlabel('x3(Body_mass_index)', size=15)\n",
        "\n",
        "ax4.hist(df_train_norm.BP, bins=30, color='blue',edgecolor='purple', alpha=0.5)\n",
        "ax4.set_xlabel('x4(Mean_Arterial_Pressure)', size=15);"
      ],
      "metadata": {
        "colab": {
          "base_uri": "https://localhost:8080/",
          "height": 309
        },
        "id": "m2TA6DOrlMYX",
        "outputId": "192d02d6-f541-4c46-e858-7cd6d8adf28d"
      },
      "execution_count": 75,
      "outputs": [
        {
          "output_type": "display_data",
          "data": {
            "text/plain": [
              "<Figure size 2000x800 with 4 Axes>"
            ],
            "image/png": "[encoded data removed]"
          },
          "metadata": {}
        }
      ]
    },
    {
      "cell_type": "code",
      "source": [
        "plt.figure(figsize=(20,8))\n",
        "\n",
        "ax1 = plt.subplot(2,4,1)\n",
        "ax2 = plt.subplot(2,4,2)\n",
        "ax3 = plt.subplot(2,4,3)\n",
        "ax4 = plt.subplot(2,4,4)\n",
        "\n",
        "ax1.hist(df_train_norm.S1, bins=30, color='green',edgecolor='purple', alpha=0.5)\n",
        "ax1.set_xlabel('x5(Total Cholesterol)', size=15)\n",
        "ax1.set_ylabel('Frequency', size=15)\n",
        "\n",
        "ax2.hist(df_train_norm.S2, bins=30, color='orange',edgecolor='purple', alpha=0.5)\n",
        "ax2.set_xlabel('x6(Low Density lipoproteins)', size=15)\n",
        "\n",
        "ax3.hist(df_train_norm.S3, bins=30, color='red',edgecolor='purple', alpha=0.5)\n",
        "ax3.set_xlabel('x7(High Density lipoproteins)', size=15)\n",
        "\n",
        "ax4.hist(df_train_norm.S4, bins=30, color='blue',edgecolor='purple', alpha=0.5)\n",
        "ax4.set_xlabel('x8(Triglyceride)', size=15);"
      ],
      "metadata": {
        "colab": {
          "base_uri": "https://localhost:8080/",
          "height": 304
        },
        "id": "rrwd_og1lVrP",
        "outputId": "b7e97071-bc84-4423-e60a-91fd1279703c"
      },
      "execution_count": 76,
      "outputs": [
        {
          "output_type": "display_data",
          "data": {
            "text/plain": [
              "<Figure size 2000x800 with 4 Axes>"
            ],
            "image/png": "[encoded data removed]"
          },
          "metadata": {}
        }
      ]
    },
    {
      "cell_type": "code",
      "source": [
        "plt.figure(figsize=(20,8))\n",
        "\n",
        "ax1 = plt.subplot(2,3,1)\n",
        "ax2 = plt.subplot(2,3,2)\n",
        "ax3 = plt.subplot(2,3,3)\n",
        "\n",
        "ax1.hist(df_train_norm.S5, bins=30, color='green',edgecolor='purple', alpha=0.5)\n",
        "ax1.set_xlabel('x9(Serum Concentration of Lamorigine)', size=15)\n",
        "ax1.set_ylabel('Frequency', size=15)\n",
        "\n",
        "ax2.hist(df_train_norm.S6, bins=30, color='orange',edgecolor='purple', alpha=0.5)\n",
        "ax2.set_xlabel('x10(Glucose)', size=15)\n",
        "\n",
        "ax3.hist(df_train_norm.Y, bins=30, color='purple',edgecolor='black', alpha=0.5)\n",
        "ax3.set_xlabel('Y(Diabetes Mellitus Disease Progression)', size=15)"
      ],
      "metadata": {
        "colab": {
          "base_uri": "https://localhost:8080/",
          "height": 321
        },
        "id": "xWTR-w1Mm_GD",
        "outputId": "8e3118e1-342a-47f1-cfc1-da1f62bf6bc7"
      },
      "execution_count": 77,
      "outputs": [
        {
          "output_type": "execute_result",
          "data": {
            "text/plain": [
              "Text(0.5, 0, 'Y(Diabetes Mellitus Disease Progression)')"
            ]
          },
          "metadata": {},
          "execution_count": 77
        },
        {
          "output_type": "display_data",
          "data": {
            "text/plain": [
              "<Figure size 2000x800 with 3 Axes>"
            ],
            "image/png": "[encoded data removed]"
          },
          "metadata": {}
        }
      ]
    },
    {
      "cell_type": "code",
      "source": [
        "x_train = df_train_norm.values[:,:-1] # toma todas las muestras y no incliuye la ultima columna\n",
        "y_train = df_train_norm.values[:,-1:] # tomo la todas las muestras y la ultima col\n",
        "print(type(x_train), type(y_train))\n",
        "print(x_train.shape)\n",
        "print(y_train.shape)"
      ],
      "metadata": {
        "colab": {
          "base_uri": "https://localhost:8080/"
        },
        "id": "QYmO994EnCBI",
        "outputId": "f7a7ee42-484f-42aa-d8f0-678b22f46a13"
      },
      "execution_count": 78,
      "outputs": [
        {
          "output_type": "stream",
          "name": "stdout",
          "text": [
            "<class 'numpy.ndarray'> <class 'numpy.ndarray'>\n",
            "(353, 10)\n",
            "(353, 1)\n"
          ]
        }
      ]
    },
    {
      "cell_type": "code",
      "source": [
        "x_test = df_test_norm.values[:,:-1]\n",
        "y_test = df_test_norm.values[:,-1:]\n",
        "print(type(x_test), type(y_test))\n",
        "print(x_test.shape)\n",
        "print(y_test.shape)"
      ],
      "metadata": {
        "colab": {
          "base_uri": "https://localhost:8080/"
        },
        "id": "iC10CnRonM_B",
        "outputId": "b3e5632b-0e34-4989-fe9f-ec6570f35acf"
      },
      "execution_count": 79,
      "outputs": [
        {
          "output_type": "stream",
          "name": "stdout",
          "text": [
            "<class 'numpy.ndarray'> <class 'numpy.ndarray'>\n",
            "(89, 10)\n",
            "(89, 1)\n"
          ]
        }
      ]
    },
    {
      "cell_type": "code",
      "source": [
        "train_x = x_train.T\n",
        "test_x = x_test.T\n",
        "\n",
        "train_y = y_train\n",
        "test_y =  y_test"
      ],
      "metadata": {
        "id": "RNT4ujUknPaI"
      },
      "execution_count": 80,
      "outputs": []
    },
    {
      "cell_type": "code",
      "source": [
        "print(train_x.shape)\n",
        "print(train_y.shape)\n",
        "print(test_x.shape)\n",
        "print(test_y.shape)"
      ],
      "metadata": {
        "colab": {
          "base_uri": "https://localhost:8080/"
        },
        "id": "HOvNhC2CnUME",
        "outputId": "4ece45dd-fe43-4696-e39b-b811b7e346b2"
      },
      "execution_count": 81,
      "outputs": [
        {
          "output_type": "stream",
          "name": "stdout",
          "text": [
            "(10, 353)\n",
            "(353, 1)\n",
            "(10, 89)\n",
            "(89, 1)\n"
          ]
        }
      ]
    },
    {
      "cell_type": "code",
      "source": [
        "train_x[:,1:3]"
      ],
      "metadata": {
        "colab": {
          "base_uri": "https://localhost:8080/"
        },
        "id": "XrpnXgi8nW6Z",
        "outputId": "bd630a60-2158-49d8-8094-a675b7aa2e6c"
      },
      "execution_count": 82,
      "outputs": [
        {
          "output_type": "execute_result",
          "data": {
            "text/plain": [
              "array([[ 2.34345961, -0.13803853],\n",
              "       [ 1.09048992,  1.09048992],\n",
              "       [ 0.13057766, -0.5837106 ],\n",
              "       [ 0.60000206,  0.163253  ],\n",
              "       [-0.57431475,  1.03351811],\n",
              "       [-0.13083409,  0.80026406],\n",
              "       [-1.02478   , -0.63668072],\n",
              "       [ 0.75093522,  0.75093522],\n",
              "       [ 0.07011478,  1.39901429],\n",
              "       [ 1.62102581, -0.8819065 ]])"
            ]
          },
          "metadata": {},
          "execution_count": 82
        }
      ]
    },
    {
      "cell_type": "markdown",
      "source": [
        "Se inicializan los parámetros de la función, $F(X)$ que define la relación entre X y Y.\n",
        "\n",
        "\n",
        "Debido a que las variables X y Y fueron normalizadas a distribuciones con un deviación estándard de 1, los valores de los parámetros $w$ se inicializan con valores pequeños, mientras que el bias se inicializa con cero."
      ],
      "metadata": {
        "id": "8dQCihytn2R8"
      }
    },
    {
      "cell_type": "code",
      "source": [
        "def initialize_params(dim):\n",
        "    \"\"\"\n",
        "    This function creates a vector of zeros of shape (dim, 1) for w and initializes b to 0.\n",
        "\n",
        "    Argument:\n",
        "    dim -- size of the w vector we want (or number of parameters in this case)\n",
        "\n",
        "    Returns:\n",
        "    w -- initialized vector of shape (dim, 1)\n",
        "    b -- initialized scalar (corresponds to the bias)\n",
        "    \"\"\"\n",
        "\n",
        "    w = np.reshape(np.random.uniform(-0.1, 0.1, dim), (dim, 1))\n",
        "    b = 0\n",
        "\n",
        "    assert(w.shape == (dim, 1))\n",
        "    assert(isinstance(b, float) or isinstance(b, int))\n",
        "\n",
        "    return w, b"
      ],
      "metadata": {
        "id": "-jCEnqIgnZc_"
      },
      "execution_count": 83,
      "outputs": []
    },
    {
      "cell_type": "code",
      "source": [
        "#Testing the function initialize_params (dim)\n",
        "\n",
        "dim = train_x.shape[0]\n",
        "w, b = initialize_params(dim)\n",
        "print (\"w = \" + str(w))\n",
        "print (\"b = \" + str(b))"
      ],
      "metadata": {
        "colab": {
          "base_uri": "https://localhost:8080/"
        },
        "id": "dOxd2ZfQoLgV",
        "outputId": "47e6c0e8-9863-4779-8ac4-4bab01c04fc2"
      },
      "execution_count": 84,
      "outputs": [
        {
          "output_type": "stream",
          "name": "stdout",
          "text": [
            "w = [[ 0.0627764 ]\n",
            " [ 0.09832705]\n",
            " [-0.08102284]\n",
            " [ 0.07921541]\n",
            " [ 0.09459234]\n",
            " [-0.04012902]\n",
            " [ 0.06246954]\n",
            " [ 0.0162839 ]\n",
            " [ 0.03631207]\n",
            " [-0.05393323]]\n",
            "b = 0\n"
          ]
        }
      ]
    },
    {
      "cell_type": "markdown",
      "source": [
        "Una vez inicializados los pesos y el bias, se calcula la función de costo, y sus derivadas parciales respecto a cada uno de los pesos $w_{i}$ y el bias $b$. Estas derivadas se emplean para proponer nuevos valores tanto para los pesos como para el bias.\n",
        "\n",
        "La funcion *propagate( )* calcula la función de costo y su gradiente:\n",
        "\n",
        "- Se tiene X $$ $$\n",
        "- Se calcula $$A = (w^T X + b) = (a^{(1)}, a^{(2)}, ..., a^{(m-1)}, a^{(m)})$$ $$ $$\n",
        "- Se calcula la función de costo: $$J = \\frac{1}{m}\\sum_{i=1}^m(y^{(i)} -F(x^{(i)}))^2$$\n",
        "\n",
        "\n",
        "Las derivadas de la funcion de costo respecto a los pesos $ w_k$ y el bias $ b$ son:\n",
        "\n",
        "\n",
        "$$ \\frac{\\partial J}{\\partial w_k} = \\frac{1}{m}X(A-Y)^T$$ $$ $$\n",
        "$$ \\frac{\\partial J}{\\partial b} = \\frac{1}{m} \\sum_{i=1}^m (F(x^{(i)})-y^{(i)}))$$"
      ],
      "metadata": {
        "id": "Io-Vf2yWoiHy"
      }
    },
    {
      "cell_type": "code",
      "source": [
        "#Función para transformar los efectos no lineales. En el presente caso se considera un modelo completamente\n",
        "#lineal. Por ello la función es la identidad.\n",
        "\n",
        "def identity(z):\n",
        "    \"\"\"\n",
        "    Arguments:\n",
        "    z -- A scalar or numpy array of any size.\n",
        "\n",
        "    Return:\n",
        "    s -- z\n",
        "    \"\"\"\n",
        "    s = 1.0 * z\n",
        "\n",
        "    return s"
      ],
      "metadata": {
        "id": "LrHFlbHAoVmW"
      },
      "execution_count": 85,
      "outputs": []
    },
    {
      "cell_type": "code",
      "source": [
        "def propagate(w, b, X, Y,X_val,Y_val):\n",
        "\n",
        "    m = X.shape[1]\n",
        "    m_val = X_val.shape[1]\n",
        "\n",
        "    A = identity(np.dot(w.T, X)+b)\n",
        "    A_val = identity(np.dot(w.T,X_val)+b)\n",
        "\n",
        "    cost = (1/m)*np.sum((Y-A)**2)\n",
        "    cost_val = (1/m_val)*np.sum((Y_val-A_val)**2)\n",
        "\n",
        "    dw = (1/m)*np.dot(X, (A-Y).T)\n",
        "\n",
        "    db = (1/m)*np.sum(A-Y)\n",
        "\n",
        "\n",
        "    assert(dw.shape == w.shape)\n",
        "    assert(db.dtype == float)\n",
        "    cost = np.squeeze(cost)\n",
        "    cost_val = np.squeeze(cost_val)\n",
        "    assert(cost.shape == ())\n",
        "\n",
        "    grads = {\"dw\": dw,\n",
        "             \"db\": db}\n",
        "\n",
        "    return grads, cost, cost_val"
      ],
      "metadata": {
        "id": "IE3bi2LeoWvL"
      },
      "execution_count": 86,
      "outputs": []
    },
    {
      "cell_type": "markdown",
      "source": [
        "Actualizacion de los pesos y el bias\n",
        "\n",
        "Para monitorear el aprendizaje, las muestras para el aprendizaje se dividen en dos grupos:\n",
        "\n",
        "El 90% de ellas se emplean para realizar el aprendizaje y el 10% restante para evaluar, \"validar\", la calidad del aprendizaje.\n",
        "\n",
        "La función optimize( ) actualiza los pesos ω y el bias $b$ usando el método de gradiente descendente.\n",
        "\n",
        "Se calcula la función de costo para las muestras empleadas en el entrenamiento y para las asignadas a la validación.\n",
        "\n",
        "Los pesos  y el bias  son modificados en cada época hasta que la función de costo  llega a su valor mínimo.\n",
        "\n",
        "Los pesos y el bias  se actualizan mediante la siguientes relaciones:\n",
        "\n",
        "Los pesos $ w_{k} $ y el bias $b$ se actualizan mediante la siguientes relaciones: $$ $$ $$ w_{k} := w_{k} - \\alpha \\frac{\\partial J}{\\partial w_{k}} $$\n",
        "\n",
        "$$ b := b - \\alpha \\frac{\\partial J}{\\partial b} $$ $$ $$ $ \\alpha $ es el hyperparámetro que define la relación de aprendizaje."
      ],
      "metadata": {
        "id": "DWzLgnbnpE1_"
      }
    },
    {
      "cell_type": "code",
      "source": [
        "def optimize(w, b, X, Y, X_val, Y_val, epochs, learning_rate, print_cost = False):\n",
        "\n",
        "    costs = []\n",
        "    costs_val = []\n",
        "\n",
        "    for i in range(epochs):\n",
        "\n",
        "\n",
        "        grads, cost, cost_val = propagate(w, b, X, Y,X_val,Y_val)\n",
        "\n",
        "        dw = grads[\"dw\"]\n",
        "        db = grads[\"db\"]\n",
        "\n",
        "        w = w-learning_rate*dw\n",
        "        b = b-learning_rate*db\n",
        "\n",
        "        if i % 100 == 0:\n",
        "            costs.append(cost)\n",
        "            costs_val.append(cost_val)\n",
        "\n",
        "        # Print the cost every 100 training iterations\n",
        "        if print_cost and i % 100 == 0:\n",
        "            print (\"Cost and Cost_val after epoch %i: %f %f\" %(i, cost, cost_val))\n",
        "\n",
        "    params = {\"w\": w,\n",
        "              \"b\": b}\n",
        "\n",
        "    grads = {\"dw\": dw,\n",
        "             \"db\": db}\n",
        "\n",
        "    return params, grads, costs, costs_val"
      ],
      "metadata": {
        "id": "DAL-jyeXo4tx"
      },
      "execution_count": 87,
      "outputs": []
    },
    {
      "cell_type": "markdown",
      "source": [
        "\n",
        "Una vez que se encuentran los valores de los pesos $w$ y del bias $b$ que minimizan la función de costo, la función, $F(X)$ que se genera con estos valores se emplea para inferir valores de Y asociados a las muestras de prueba, los cuales se comparan con los valores Y conocidos de estas muestras.\n",
        "\n",
        "La función `predic()` calcula $F(X)=w ^ T X + b$ empleando los valores de $w$ y $b$ para los cuales el costo es mínimo."
      ],
      "metadata": {
        "id": "zIxOOmZZquZb"
      }
    },
    {
      "cell_type": "code",
      "source": [
        "def predict(w, b, X):\n",
        "\n",
        "    w = w.reshape(X.shape[0], 1)\n",
        "\n",
        "    A = identity(np.dot(w.T, X)+b)\n",
        "\n",
        "    return A"
      ],
      "metadata": {
        "id": "B4S6_Vn4qBZK"
      },
      "execution_count": 88,
      "outputs": []
    },
    {
      "cell_type": "markdown",
      "source": [
        "Para calcular la precision del modelo, a manera de ejemplo, se usa el error cuadático medio, MSE: $$ $$\n",
        "\n",
        "$$100-MSE*100$$\n",
        "\n",
        "es decir\n",
        "\n",
        "$$100-(\\dfrac{1}{m_{test}}\\sum_{i}^{m_{test}} (y^{(i)}-a^{(i)})^2)*100$$"
      ],
      "metadata": {
        "id": "MaXCdwy_q5vI"
      }
    },
    {
      "cell_type": "code",
      "source": [
        "def model(X_train, Y_train, val_ratio, epochs = 2000, learning_rate = 0.5, print_cost = False):\n",
        "\n",
        "\n",
        "    train_ratio = int((1-val_ratio)*X_train.shape[1])\n",
        "    X_val = X_train[:,train_ratio:]\n",
        "    Y_val = Y_train[:,train_ratio:]\n",
        "\n",
        "    X_train = X_train[:,:train_ratio]\n",
        "    Y_train = Y_train[:,:train_ratio]\n",
        "\n",
        "    print(\"Train\",X_train.shape,Y_train.shape)\n",
        "    print(\"val\",X_val.shape,Y_val.shape)\n",
        "\n",
        "    # 1. inicializacion de parametros\n",
        "    w, b = initialize_params(X_train.shape[0])\n",
        "\n",
        "    # 2. y 3. Actualizacion de parametros\n",
        "    parameters, grads, costs, costs_val = optimize(w, b, X_train, Y_train, X_val, Y_val, epochs, learning_rate, print_cost = print_cost)\n",
        "\n",
        "    w = parameters[\"w\"]\n",
        "    b = parameters[\"b\"]\n",
        "\n",
        "    # 4. Predicciones\n",
        "    Y_prediction_val = predict(w, b, X_val)\n",
        "    Y_prediction_train = predict(w, b, X_train)\n",
        "\n",
        "    # Print train/test Errors\n",
        "    print(\"train accuracy: {} %\".format(100 - np.mean(np.power(Y_prediction_train - Y_train, 2)) * 100))\n",
        "    print(\"test accuracy: {} %\".format(100 - np.mean(np.power(Y_prediction_val - Y_val, 2)) * 100))\n",
        "\n",
        "\n",
        "    d = {\"costs\": costs, \"costs_val\": costs_val,\n",
        "         \"Y_prediction_val\": Y_prediction_val,\n",
        "         \"Y_prediction_train\" : Y_prediction_train,\n",
        "         \"w\" : w,\n",
        "         \"b\" : b,\n",
        "         \"learning_rate\" : learning_rate,\n",
        "         \"epochs\": epochs}\n",
        "\n",
        "    return d"
      ],
      "metadata": {
        "id": "diH-g-4Lq1-z"
      },
      "execution_count": 89,
      "outputs": []
    },
    {
      "cell_type": "code",
      "source": [
        "print(train_x.shape[1])"
      ],
      "metadata": {
        "colab": {
          "base_uri": "https://localhost:8080/"
        },
        "id": "6T2VL6KcrGWj",
        "outputId": "cad05273-a820-40d3-cb81-6e86bd37cb0a"
      },
      "execution_count": 90,
      "outputs": [
        {
          "output_type": "stream",
          "name": "stdout",
          "text": [
            "353\n"
          ]
        }
      ]
    },
    {
      "cell_type": "code",
      "source": [
        "epochs = 20\n",
        "learning_rate = 0.01\n",
        "val_ratio = 0.2\n",
        "d = model(train_x, train_y.T, val_ratio=val_ratio, epochs = epochs,\n",
        "          learning_rate = learning_rate, print_cost = False)"
      ],
      "metadata": {
        "colab": {
          "base_uri": "https://localhost:8080/"
        },
        "id": "VBTej9UZrJDd",
        "outputId": "a20d826f-b2dc-4334-ef7e-7a3c1373dc08"
      },
      "execution_count": 91,
      "outputs": [
        {
          "output_type": "stream",
          "name": "stdout",
          "text": [
            "Train (10, 282) (1, 282)\n",
            "val (10, 71) (1, 71)\n",
            "train accuracy: 23.101829186026194 %\n",
            "test accuracy: 35.29142313463096 %\n"
          ]
        }
      ]
    },
    {
      "cell_type": "code",
      "source": [
        "costs = np.squeeze(d['costs'])\n",
        "costs_val = np.squeeze(d['costs_val'])\n",
        "\n",
        "plt.plot(costs)\n",
        "plt.plot(costs_val)\n",
        "plt.ylabel('cost', size=16)\n",
        "plt.xlabel('epochs (x100)', size=16)\n",
        "plt.title(\"Learning rate =\" + str(d[\"learning_rate\"]))\n",
        "plt.legend(['Train', 'Val'], loc='upper right')\n",
        "plt.show()"
      ],
      "metadata": {
        "colab": {
          "base_uri": "https://localhost:8080/",
          "height": 484
        },
        "id": "N8_EDuHfrZq_",
        "outputId": "bb4fb7b1-a779-4d3b-deaf-2303493993d1"
      },
      "execution_count": 92,
      "outputs": [
        {
          "output_type": "display_data",
          "data": {
            "text/plain": [
              "<Figure size 640x480 with 1 Axes>"
            ],
            "image/png": "[encoded data removed]"
          },
          "metadata": {}
        }
      ]
    },
    {
      "cell_type": "code",
      "source": [
        "learning_rates = [0.01, 0.005, 0.001]\n",
        "val_ratio = 0.1\n",
        "models = {}\n",
        "for i in learning_rates:\n",
        "    print (\"learning rate is: \", i)\n",
        "    models[str(i)] = model(train_x, train_y.T, val_ratio=val_ratio, epochs = 2000, learning_rate = i, print_cost = False)\n",
        "    print ('\\n' + \"-------------------------------------------------------\" + '\\n')\n",
        "\n",
        "for i in learning_rates:\n",
        "    plt.plot(np.squeeze(models[str(i)][\"costs\"]), label= str(models[str(i)][\"learning_rate\"]))\n",
        "    plt.plot(np.squeeze(models[str(i)][\"costs_val\"]), label= str(models[str(i)][\"learning_rate\"]))\n",
        "\n",
        "plt.ylabel('cost')\n",
        "plt.xlabel('epocs (x100)')\n",
        "\n",
        "legend = plt.legend(loc='upper center', shadow=True)\n",
        "frame = legend.get_frame()\n",
        "frame.set_facecolor('0.90')\n",
        "plt.show()"
      ],
      "metadata": {
        "colab": {
          "base_uri": "https://localhost:8080/",
          "height": 884
        },
        "id": "_r5q72wergjW",
        "outputId": "5f7faf76-075f-46d9-f1b3-134fbb414532"
      },
      "execution_count": 93,
      "outputs": [
        {
          "output_type": "stream",
          "name": "stdout",
          "text": [
            "learning rate is:  0.01\n",
            "Train (10, 317) (1, 317)\n",
            "val (10, 36) (1, 36)\n",
            "train accuracy: 50.28722933235577 %\n",
            "test accuracy: 55.00934401860997 %\n",
            "\n",
            "-------------------------------------------------------\n",
            "\n",
            "learning rate is:  0.005\n",
            "Train (10, 317) (1, 317)\n",
            "val (10, 36) (1, 36)\n",
            "train accuracy: 50.30177372071739 %\n",
            "test accuracy: 55.018332985092556 %\n",
            "\n",
            "-------------------------------------------------------\n",
            "\n",
            "learning rate is:  0.001\n",
            "Train (10, 317) (1, 317)\n",
            "val (10, 36) (1, 36)\n",
            "train accuracy: 49.365226275593265 %\n",
            "test accuracy: 56.93655074661082 %\n",
            "\n",
            "-------------------------------------------------------\n",
            "\n"
          ]
        },
        {
          "output_type": "display_data",
          "data": {
            "text/plain": [
              "<Figure size 640x480 with 1 Axes>"
            ],
            "image/png": "[encoded data removed]"
          },
          "metadata": {}
        }
      ]
    },
    {
      "cell_type": "markdown",
      "source": [
        "## Non-Linear Regression Analysis"
      ],
      "metadata": {
        "id": "qSinJAHyGrmw"
      }
    },
    {
      "cell_type": "markdown",
      "source": [
        "Para nuestro nuevo sistema de aprendizaje, la función $F(X)$ ya no varía linealmente con X. La relación (2) de las siguientes ecuaciones ya no es válida:\n",
        "    \n",
        "$$z^{(j)} = w^T x^{(j)} + b = \\sum_{i \\in j} w_{i} x_{i}^{(j)} + b $$\n",
        "    \n",
        "$$F(x^{(j)}) = a^{(j)} = f(z^{(j)})=z^{(j)}$$\n",
        "\n",
        "\n",
        "Para tomar en cuenta la no linealidad, la función $f(z)=z$ se cambia por una función ligeramente no lineal alrededor de cero. Esto se logra empleando en su lugar una función del tipo sigmoid, por ejemplo $f(z)=tanh(z)$. Con este cambio, la ecuación (2) se transforma entonces en: $$ $$\n",
        "$$F(x^{(j)}) = a^{(j)} = f(z^{(j)}) = tanh(z^{(j)})$$     "
      ],
      "metadata": {
        "id": "vlwdYnChGu1m"
      }
    },
    {
      "cell_type": "code",
      "source": [
        "def tanh(x):\n",
        "    return (np.exp(x)-np.exp(-x))/(np.exp(x)+np.exp(-x))"
      ],
      "metadata": {
        "id": "-SEuaI3BsKwl"
      },
      "execution_count": 94,
      "outputs": []
    },
    {
      "cell_type": "code",
      "source": [
        "#The following arrays are generated for plotting the Function F(x, weight_0, bias_0)\n",
        "x_ = np.arange(-2, 2.0, 0.1)\n",
        "y_ = 1.7159*tanh((2/3*x_))\n",
        "\n",
        "#Samples and function F are plotted\n",
        "plt.figure(figsize=(13,8))\n",
        "plt.figure(figsize=(13,8))\n",
        "plt.rc('xtick', labelsize=16)\n",
        "plt.rc('ytick', labelsize=16)\n",
        "plt.rc('legend', fontsize=16)\n",
        "plt.ylabel('Y', fontsize=16)\n",
        "plt.xlabel('X', fontsize=16)\n",
        "plt.grid(True)\n",
        "plt.title('Sigmoid-type = 1.7159*tanh((2/3*x)', size=20)\n",
        "\n",
        "#Plotting function\n",
        "plt.plot(x_, y_, color='green', lw=4)\n",
        "\n",
        "plt.show()"
      ],
      "metadata": {
        "colab": {
          "base_uri": "https://localhost:8080/",
          "height": 756
        },
        "id": "Pp94KXmTG3dc",
        "outputId": "43b0feed-c336-4688-c0d3-ac79a557671b"
      },
      "execution_count": 95,
      "outputs": [
        {
          "output_type": "display_data",
          "data": {
            "text/plain": [
              "<Figure size 1300x800 with 0 Axes>"
            ]
          },
          "metadata": {}
        },
        {
          "output_type": "display_data",
          "data": {
            "text/plain": [
              "<Figure size 1300x800 with 1 Axes>"
            ],
            "image/png": "[encoded data removed]"
          },
          "metadata": {}
        }
      ]
    },
    {
      "cell_type": "markdown",
      "source": [
        "## Sistema de aprendizaje que relaciona las variables X y Y"
      ],
      "metadata": {
        "id": "PshmqhQWG9TQ"
      }
    },
    {
      "cell_type": "markdown",
      "source": [
        "Se tienen $m$ muestras.\n",
        "    \n",
        "Para una muestra $j \\in m$ $x^{(j)}$:\n",
        "\n",
        "$$z^{(j)} = w^T x^{(j)} + b $$\n",
        "\n",
        "$z^{(j)}$ es la combinacion lineal entre los pesos ($w$) y la muestra $x^{(j)}$ + el bias b. Posteriormente esta sumatoria es transformada, para generar el valor de salida $a^{(j)}$, mediante una función. En el presente caso la función es del tipo sigmoide (*tanh*), porque la relación es ligeramente no-lineal.\n",
        "\n",
        "$$ a^{(j)} = tanh(z^{(j)})$$\n",
        "\n",
        "La funcion de perdida (*loss*), tambien llamada costo *cost*, $\\textbf {J}$, es el promedio, sobre todas las muestras, de la diferencia al cuadrado entre el valor medido ($y^{(j)}$) y el valor que predice la funcion de activacion ($a^{(j)}$).  \n",
        "\n",
        "$$ J = \\frac{1}{m} \\sum_{j=1}^m (a^{(j)} - y^{(j)})^2$$\n",
        "\n",
        "\n"
      ],
      "metadata": {
        "id": "DFeBCTBLG-6X"
      }
    },
    {
      "cell_type": "markdown",
      "source": [
        "En lugar de emplear la función $f(z^{(j)})=tanh(z^{(j)})$ para la activación, empleamos la función\n",
        "\n",
        "$$ f(z^{(j)}) = 1.7159*tanh(2*z^{(j)}/3) $$\n",
        "\n",
        "[Activation-function](./Literatura/Efficient-backprop_Lecun_1998.pdf)$$ $$\n",
        "Con ello, la varianza es cercana a 1, el valor de la función es ligeramente no lineal entre -1 y +1, y la derivada es máxima para $z^{(j)} = 1$\n",
        "$$ $$\n",
        "Con esto, la función de costo, $J$ está dada por:\n",
        "\n",
        "$$ J = \\dfrac{1}{m}\\sum_{i=0}^{m}(1.7159*tanh(2*z^{(j)}/3)-y^{(j)})^2 $$"
      ],
      "metadata": {
        "id": "4O583RgaHE9m"
      }
    },
    {
      "cell_type": "markdown",
      "source": [
        "## Se inicializan las variables del sistema de aprendizaje que define la relación entre X y Y."
      ],
      "metadata": {
        "id": "Q59HOxlVIwT1"
      }
    },
    {
      "cell_type": "code",
      "source": [
        "def initialize_params_1(dim):\n",
        "    \"\"\"\n",
        "    This function creates a vector of zeros of shape (dim, 1) for w and initializes b to 0.\n",
        "\n",
        "    Argument:\n",
        "    dim -- size of the w vector we want (or number of parameters in this case)\n",
        "\n",
        "    Returns:\n",
        "    w -- initialized vector of shape (dim, 1)\n",
        "    b -- initialized scalar (corresponds to the bias)\n",
        "    \"\"\"\n",
        "\n",
        "    w = np.reshape(np.random.uniform(-0.1, 0.1, dim), (dim, 1))\n",
        "    b = 0\n",
        "\n",
        "    assert(w.shape == (dim, 1))\n",
        "    assert(isinstance(b, float) or isinstance(b, int))\n",
        "\n",
        "    return w, b"
      ],
      "metadata": {
        "id": "KodCTZ4zG432"
      },
      "execution_count": 96,
      "outputs": []
    },
    {
      "cell_type": "code",
      "source": [
        "def atanh(x):\n",
        "    return 1.7159*tanh(2*x/3)"
      ],
      "metadata": {
        "id": "I3tjX-vMHEVI"
      },
      "execution_count": 97,
      "outputs": []
    },
    {
      "cell_type": "code",
      "source": [
        "def d_atanh(z):\n",
        "    return 1.7159*(1-np.square(atanh(z)))*(2/3)"
      ],
      "metadata": {
        "id": "IwYPXvbJI4Vn"
      },
      "execution_count": 98,
      "outputs": []
    },
    {
      "cell_type": "code",
      "source": [
        "# Probando el código\n",
        "\n",
        "dim = train_x.shape[0]\n",
        "w, b = initialize_params(dim)\n",
        "print (\"w = \" + str(w))\n",
        "print (\"b = \" + str(b))"
      ],
      "metadata": {
        "colab": {
          "base_uri": "https://localhost:8080/"
        },
        "id": "716uu6V9I5-c",
        "outputId": "5ca4a0fa-2ee9-464e-b22a-3a3286c7117c"
      },
      "execution_count": 99,
      "outputs": [
        {
          "output_type": "stream",
          "name": "stdout",
          "text": [
            "w = [[-0.04505671]\n",
            " [ 0.0973305 ]\n",
            " [-0.03807596]\n",
            " [-0.02082801]\n",
            " [-0.0352257 ]\n",
            " [ 0.05882728]\n",
            " [-0.06741868]\n",
            " [ 0.08930351]\n",
            " [-0.00730517]\n",
            " [-0.03653325]]\n",
            "b = 0\n"
          ]
        }
      ]
    },
    {
      "cell_type": "code",
      "source": [
        "def propagate_1(w, b, X, Y, X_val, Y_val):\n",
        "\n",
        "    m = X.shape[1]\n",
        "    m_val = X.shape[1]\n",
        "\n",
        "    A = atanh(np.dot(w.T, X)+b)\n",
        "    A_val = atanh(np.dot(w.T,X_val)+b)\n",
        "\n",
        "    cost = (1/m)*np.sum((Y-A)**2)\n",
        "    cost_val = (1/m_val)*np.sum((Y_val-A_val)**2)\n",
        "\n",
        "    dA = A-Y\n",
        "    dZ = d_atanh(np.dot(w.T, X)+b)\n",
        "\n",
        "    dw = (1/m)*np.dot(dA, (dZ*X).T).T\n",
        "    db = (1/m)*np.sum((A-Y)*(1-np.power(A, 2)), axis=1, keepdims=True)\n",
        "\n",
        "\n",
        "    assert(dw.shape == w.shape)\n",
        "    assert(db.dtype == float)\n",
        "    cost = np.squeeze(cost)\n",
        "    assert(cost.shape == ())\n",
        "\n",
        "    grads = {\"dw\": dw,\n",
        "             \"db\": db}\n",
        "\n",
        "    return grads, cost, cost_val"
      ],
      "metadata": {
        "id": "bS7kYtfDI8EF"
      },
      "execution_count": 100,
      "outputs": []
    },
    {
      "cell_type": "code",
      "source": [
        "x1_val = np.array([[1.,2.,-2.],[2.,4.,-3.2]])\n",
        "y1_val = np.array([[1,0,2]])\n",
        "\n",
        "w, b, X, Y = np.array([[1.],[2.]]), 2., np.array([[1.,2.,-1.],[3.,4.,-3.2]]), np.array([[1,0,1]])\n",
        "grads, cost, cost_val = propagate_1(w, b, X, Y,x1_val, y1_val)\n",
        "print (\"dw = \" + str(grads[\"dw\"]))\n",
        "print (\"db = \" + str(grads[\"db\"]))\n",
        "print (\"cost = \" + str(cost))\n"
      ],
      "metadata": {
        "colab": {
          "base_uri": "https://localhost:8080/"
        },
        "id": "qLnSN_pvI98m",
        "outputId": "db7649d6-9bd9-4c12-8d6d-c61a98ee43c5"
      },
      "execution_count": 101,
      "outputs": [
        {
          "output_type": "stream",
          "name": "stdout",
          "text": [
            "dw = [[ -5.07757178]\n",
            " [-13.08893287]]\n",
            "db = [[0.17455838]]\n",
            "cost = 3.6063356189939464\n"
          ]
        }
      ]
    },
    {
      "cell_type": "markdown",
      "source": [
        "    \n",
        "La función *optimize_1(  )*  actualiza los pesos $w$ y el bias $b$ usando el método de gradiente descendente.\n",
        "\n",
        "Se calcula la función de costo para las muestras empleadas en el entrenamiento y para las asignadas a la validación.\n",
        "    \n",
        "Los pesos $ w $ y el bias $ b $ son modificados en cada época hasta que la función de costo $ J $ llega a su valor mínimo.\n",
        "\n",
        "Los pesos $ w_{i} $ y el bias $b$ se actualizan mediante la siguientes relaciones: $$ $$ $$ w_{i} := w_{i} - \\alpha \\frac{\\partial J}{\\partial w_{i}} $$\n",
        "\n",
        "$$ b := b - \\alpha \\frac{\\partial J}{\\partial b} $$ $$ $$ $ \\alpha $ es el hyperparámetro que define la relación de aprendizaje."
      ],
      "metadata": {
        "id": "xjNyhJn6JHac"
      }
    },
    {
      "cell_type": "code",
      "source": [
        "def optimize_1(w, b, X, Y, X_val, Y_val, epochs, learning_rate, print_cost = False):\n",
        "\n",
        "    costs = []\n",
        "    costs_val = []\n",
        "\n",
        "    for i in range(epochs):\n",
        "\n",
        "        grads, cost, cost_val = propagate_1(w, b, X, Y, X_val, Y_val)\n",
        "\n",
        "        # Retrieve derivatives from grads\n",
        "        dw = grads[\"dw\"]\n",
        "        db = grads[\"db\"]\n",
        "\n",
        "        # update parameters\n",
        "        w = w-learning_rate*dw\n",
        "        b = b-learning_rate*db\n",
        "\n",
        "        # Record the costs\n",
        "        if i % 100 == 0:\n",
        "            costs.append(cost)\n",
        "            costs_val.append(cost_val)\n",
        "\n",
        "        # Print the cost every 100 training iterations\n",
        "        if print_cost and i % 100 == 0:\n",
        "            print (\"Cost and Cost_val after iteration %i: %f %f\" %(i, cost, cost_val))\n",
        "\n",
        "    params = {\"w\": w,\n",
        "              \"b\": b}\n",
        "\n",
        "    grads = {\"dw\": dw,\n",
        "             \"db\": db}\n",
        "\n",
        "    return params, grads, costs, costs_val"
      ],
      "metadata": {
        "id": "DEOa0pCJJCc3"
      },
      "execution_count": 102,
      "outputs": []
    },
    {
      "cell_type": "code",
      "source": [
        "epochs = 100\n",
        "params, grads, costs, costs_val = optimize_1(w, b, X, Y, x1_val, y1_val, epochs=epochs, learning_rate = 0.009, print_cost = False)\n",
        "\n",
        "print (\"w = \" + str(params[\"w\"]))\n",
        "print (\"b = \" + str(params[\"b\"]))\n",
        "print (\"dw = \" + str(grads[\"dw\"]))\n",
        "print (\"db = \" + str(grads[\"db\"]))"
      ],
      "metadata": {
        "colab": {
          "base_uri": "https://localhost:8080/"
        },
        "id": "M9WKq4_VJOTi",
        "outputId": "fcfb8213-ef43-48b7-d7f2-bd726863f09e"
      },
      "execution_count": 103,
      "outputs": [
        {
          "output_type": "stream",
          "name": "stdout",
          "text": [
            "w = [[ 5.57950249]\n",
            " [13.81103216]]\n",
            "b = [[1.83448553]]\n",
            "dw = [[ -5.08859121]\n",
            " [-13.12418521]]\n",
            "db = [[0.18412642]]\n"
          ]
        }
      ]
    },
    {
      "cell_type": "markdown",
      "source": [
        "Una vez que se encuentran los valores de los pesos 𝑤 y del bias 𝑏 que minimizan la función de costo, la función, 𝐹(𝑋) que se genera con estos valores se emplea para inferir valores de Y asociados a las muestras de prueba, los cuales se comparan con los valores Y conocidos de estas muestras.\n",
        "$$ $$\n",
        "\n",
        "    \n",
        "La función *predic()_1* calcula $𝐹(𝑋)$ empleando los valores de 𝑤 y 𝑏\n",
        "para los cuales el costo es mínimo.\n",
        "\n"
      ],
      "metadata": {
        "id": "iqW5Aj54JTP1"
      }
    },
    {
      "cell_type": "code",
      "source": [
        "def predict_1(w, b, X):\n",
        "\n",
        "    #m = X.shape[1]\n",
        "    #Y_prediction = np.zeros((1,m))\n",
        "    w = w.reshape(X.shape[0], 1)\n",
        "\n",
        "    # Compute vector \"A\" predicting the probabilities of a cat being present in the picture\n",
        "    #A = sigmoid(np.dot(w.T, X)+b)\n",
        "    A = atanh(np.dot(w.T, X)+b)\n",
        "\n",
        "    return A"
      ],
      "metadata": {
        "id": "MUWpGDfsJQPk"
      },
      "execution_count": 104,
      "outputs": []
    },
    {
      "cell_type": "code",
      "source": [
        "w = np.array([[0.1124579],[0.23106775]])\n",
        "b = 0.0\n",
        "X = np.array([[1.,-1.1,-3.2],[1.2,2.,0.1]])\n",
        "print (\"predictions = \" + str(predict_1(w, b, X)))"
      ],
      "metadata": {
        "colab": {
          "base_uri": "https://localhost:8080/"
        },
        "id": "3uV341FhJX6Q",
        "outputId": "c686c40d-b54f-4189-9e13-2972d5a6c5e0"
      },
      "execution_count": 105,
      "outputs": [
        {
          "output_type": "stream",
          "name": "stdout",
          "text": [
            "predictions = [[ 0.43606665  0.38070532 -0.37888495]]\n"
          ]
        }
      ]
    },
    {
      "cell_type": "markdown",
      "source": [
        "Para estructurar el sistema de aprendizaje, se juntan todos las funciones implementadas en las partes anteriores, en el orden correcto.\n"
      ],
      "metadata": {
        "id": "3CGkQEYCJc8l"
      }
    },
    {
      "cell_type": "code",
      "source": [
        "def model_1(X_train, Y_train, val_ratio, epochs = 2000, learning_rate = 0.5, print_cost = False):\n",
        "    \"\"\"\n",
        "    Builds the logistic regression model by calling the function you've implemented previously\n",
        "\n",
        "    Arguments:\n",
        "    X_train -- training set represented by a numpy array of shape (num_px * num_px * 3, m_train)\n",
        "    Y_train -- training labels represented by a numpy array (vector) of shape (1, m_train)\n",
        "    X_test -- test set represented by a numpy array of shape (num_px * num_px * 3, m_test)\n",
        "    Y_test -- test labels represented by a numpy array (vector) of shape (1, m_test)\n",
        "    epochs -- hyperparameter representing the number of iterations to optimize the parameters\n",
        "    learning_rate -- hyperparameter representing the learning rate used in the update rule of optimize()\n",
        "    print_cost -- Set to true to print the cost every 100 iterations\n",
        "\n",
        "    Returns:\n",
        "    d -- dictionary containing information about the model.\n",
        "    \"\"\"\n",
        "\n",
        "    train_ratio = int((1-val_ratio)*X_train.shape[1])\n",
        "    X_val = X_train[:,train_ratio:]\n",
        "    Y_val = Y_train[:,train_ratio:]\n",
        "\n",
        "    X_train = X_train[:,:train_ratio]\n",
        "    Y_train = Y_train[:,:train_ratio]\n",
        "\n",
        "    print(\"Train\",X_train.shape,Y_train.shape)\n",
        "    print(\"val\",X_val.shape,Y_val.shape)\n",
        "\n",
        "\n",
        "    # initialize parameters\n",
        "    w, b = initialize_params_1(X_train.shape[0])\n",
        "\n",
        "    # Gradient descent\n",
        "    parameters, grads, costs, costs_val = optimize_1(w, b, X_train, Y_train, X_val, Y_val, epochs, learning_rate, print_cost = print_cost)\n",
        "\n",
        "    # Retrieve parameters w and b from dictionary \"parameters\"\n",
        "    w = parameters[\"w\"]\n",
        "    b = parameters[\"b\"]\n",
        "\n",
        "    print(w.shape)\n",
        "\n",
        "    # Predict test/train set examples\n",
        "    Y_prediction_val = predict_1(w, b, X_val)\n",
        "    Y_prediction_train = predict_1(w, b, X_train)\n",
        "\n",
        "    # Print train/test Errors\n",
        "    print(\"train accuracy: {} %\".format(100 - np.mean(np.power(Y_prediction_train - Y_train, 2)) * 100))\n",
        "    print(\"test accuracy: {} %\".format(100 - np.mean(np.power(Y_prediction_val - Y_val, 2)) * 100))\n",
        "\n",
        "\n",
        "    d = {\"costs\": costs,\"costs_val\": costs_val,\n",
        "         \"Y_prediction_val\": Y_prediction_val,\n",
        "         \"Y_prediction_train\" : Y_prediction_train,\n",
        "         \"w\" : w,\n",
        "         \"b\" : b,\n",
        "         \"learning_rate\" : learning_rate,\n",
        "         \"num_iterations\": epochs}\n",
        "\n",
        "    return d"
      ],
      "metadata": {
        "id": "Mjis9KwpJZp9"
      },
      "execution_count": 106,
      "outputs": []
    },
    {
      "cell_type": "code",
      "source": [
        "epochs = 1000\n",
        "learning_rate = 0.005\n",
        "val_ratio = 0.1\n",
        "\n",
        "d = model_1(train_x, train_y.T, val_ratio=val_ratio, epochs = epochs,\n",
        "          learning_rate = learning_rate, print_cost = True)"
      ],
      "metadata": {
        "colab": {
          "base_uri": "https://localhost:8080/"
        },
        "id": "d7rMehnBJfkP",
        "outputId": "a4201af0-0ffc-4369-e50f-d0e05673e8eb"
      },
      "execution_count": 107,
      "outputs": [
        {
          "output_type": "stream",
          "name": "stdout",
          "text": [
            "Train (10, 317) (1, 317)\n",
            "val (10, 36) (1, 36)\n",
            "Cost and Cost_val after iteration 0: 0.843328 0.096324\n",
            "Cost and Cost_val after iteration 100: 0.571684 0.058319\n",
            "Cost and Cost_val after iteration 200: 0.539817 0.053481\n",
            "Cost and Cost_val after iteration 300: 0.526684 0.051609\n",
            "Cost and Cost_val after iteration 400: 0.519827 0.050678\n",
            "Cost and Cost_val after iteration 500: 0.515771 0.050151\n",
            "Cost and Cost_val after iteration 600: 0.513171 0.049822\n",
            "Cost and Cost_val after iteration 700: 0.511412 0.049602\n",
            "Cost and Cost_val after iteration 800: 0.510173 0.049445\n",
            "Cost and Cost_val after iteration 900: 0.509274 0.049327\n",
            "(10, 1)\n",
            "train accuracy: 49.13923505742327 %\n",
            "test accuracy: 56.64719156564571 %\n"
          ]
        }
      ]
    },
    {
      "cell_type": "code",
      "source": [
        "costs = np.squeeze(d['costs'])\n",
        "costs_val = np.squeeze(d['costs_val'])\n",
        "\n",
        "plt.plot(costs, color='red')\n",
        "plt.plot(costs_val, color='green')\n",
        "plt.ylabel('cost', size=16)\n",
        "plt.xlabel('epoch x 100', size=16)\n",
        "plt.title(\"Learning rate =\" + str(d[\"learning_rate\"]))\n",
        "plt.legend(['Train', 'Val'], loc='upper right')\n",
        "plt.show()"
      ],
      "metadata": {
        "colab": {
          "base_uri": "https://localhost:8080/",
          "height": 484
        },
        "id": "iGqjP3FtJiVi",
        "outputId": "95f63721-e5fa-495e-f393-4d2b1b9c1b66"
      },
      "execution_count": 108,
      "outputs": [
        {
          "output_type": "display_data",
          "data": {
            "text/plain": [
              "<Figure size 640x480 with 1 Axes>"
            ],
            "image/png": "[encoded data removed]"
          },
          "metadata": {}
        }
      ]
    },
    {
      "cell_type": "code",
      "source": [
        "learning_rates = [0.005, 0.003, 0.001]\n",
        "val_ratio = 0.1\n",
        "models = {}\n",
        "for i in learning_rates:\n",
        "    print (\"learning rate is: \", i)\n",
        "    models[str(i)] = model_1(train_x, train_y.T, val_ratio=val_ratio, epochs = 1000, learning_rate = i, print_cost = False)\n",
        "    print ('\\n' + \"-------------------------------------------------------\" + '\\n')\n",
        "\n",
        "for i in learning_rates:\n",
        "    plt.plot(np.squeeze(models[str(i)][\"costs\"]), label= str(models[str(i)][\"learning_rate\"]))\n",
        "    plt.plot(np.squeeze(models[str(i)][\"costs_val\"]), label= str(models[str(i)][\"learning_rate\"]))\n",
        "plt.ylabel('cost')\n",
        "plt.xlabel('epochx100')\n",
        "\n",
        "legend = plt.legend(loc='upper center', shadow=True)\n",
        "frame = legend.get_frame()\n",
        "frame.set_facecolor('0.90')\n",
        "plt.show()"
      ],
      "metadata": {
        "colab": {
          "base_uri": "https://localhost:8080/",
          "height": 937
        },
        "id": "XY2M0HwPJmAB",
        "outputId": "41630a78-81c8-43f2-e6cf-a1639199dd97"
      },
      "execution_count": 109,
      "outputs": [
        {
          "output_type": "stream",
          "name": "stdout",
          "text": [
            "learning rate is:  0.005\n",
            "Train (10, 317) (1, 317)\n",
            "val (10, 36) (1, 36)\n",
            "(10, 1)\n",
            "train accuracy: 49.07763059526684 %\n",
            "test accuracy: 56.30720115662068 %\n",
            "\n",
            "-------------------------------------------------------\n",
            "\n",
            "learning rate is:  0.003\n",
            "Train (10, 317) (1, 317)\n",
            "val (10, 36) (1, 36)\n",
            "(10, 1)\n",
            "train accuracy: 48.58191678697118 %\n",
            "test accuracy: 56.63600617038455 %\n",
            "\n",
            "-------------------------------------------------------\n",
            "\n",
            "learning rate is:  0.001\n",
            "Train (10, 317) (1, 317)\n",
            "val (10, 36) (1, 36)\n",
            "(10, 1)\n",
            "train accuracy: 44.36702691221163 %\n",
            "test accuracy: 54.413649187645454 %\n",
            "\n",
            "-------------------------------------------------------\n",
            "\n"
          ]
        },
        {
          "output_type": "display_data",
          "data": {
            "text/plain": [
              "<Figure size 640x480 with 1 Axes>"
            ],
            "image/png": "[encoded data removed]"
          },
          "metadata": {}
        }
      ]
    },
    {
      "cell_type": "markdown",
      "source": [
        "# Artificial Neural Networks"
      ],
      "metadata": {
        "id": "ylk0BjDKJw_e"
      }
    },
    {
      "cell_type": "markdown",
      "source": [
        "Inspirandose en modelos que intentan describir las conecciones entre las neuronas en nuestro cerebro, se propusieron (y se siguen proponiendo) modelos de redes neuronales para generar sistemas de aprendizaje. Se les conoce con el nombre de redes neuronales artificiales, o simplemente como redes neuronales."
      ],
      "metadata": {
        "id": "C3SLtrFUJz7-"
      }
    },
    {
      "cell_type": "markdown",
      "source": [
        "## Implementación de una red neuronal del tipo \"Full Feed-forward (FFF)\"."
      ],
      "metadata": {
        "id": "mt9OGyMJJ3n6"
      }
    },
    {
      "cell_type": "markdown",
      "source": [
        "\n",
        "<p>En nuestro primer modelo, la red neuronal tiene 3 capas: la capa de entrada, la capa de salida y una capa interior (en la literatura, a esta capa interna se le da el nombre de capa oculta). </p>\n",
        "<p>El objetivo del modelo es encontrar una función que describa la evolución de la Diabetes Mellitus en una año, a partir de su linea base, con los rasgos de la persona que se consideran importantes para su evolución. Los rasgos propuestos son: edad, sexo, índice de masa corporal, presión arterial promedio y las seis mediciones de suero sanguíneo descritas al inicio: el colesterol total, la densidad baja de lipoproteinas, la densidad alta de lipoproteinas, los trigliceridos, la concentración de lamorigina y la glucosa</p>\n",
        "<p>Esta función se genera mediante una red de neuronas artificiales. Se entiende como neurona un modelo matemático simple de una neurona biológica.</p>\n"
      ],
      "metadata": {
        "id": "7BX1lyMCJ5d3"
      }
    },
    {
      "cell_type": "markdown",
      "source": [
        "## Adecuando lo datos de alimentación al sistema de aprendizaje"
      ],
      "metadata": {
        "id": "Qpd-J9lfJ5bT"
      }
    },
    {
      "cell_type": "markdown",
      "source": [
        "Antes de inciar el desarrollo del sistema, transformamos los datos de entrada para que sean compatibles con el modelo que desarrollaremos. El fomato de entrada de las variables X y Y, tanto para el entrenamiento como para la prueba es un poco diferente al empleado en los sistemas de aprendizaje anteriores."
      ],
      "metadata": {
        "id": "uQa3kTEpKGKn"
      }
    },
    {
      "cell_type": "code",
      "source": [
        "print(train_x.shape)\n",
        "print(train_y.shape)\n",
        "print(test_x.shape)\n",
        "print(test_y.shape)"
      ],
      "metadata": {
        "colab": {
          "base_uri": "https://localhost:8080/"
        },
        "id": "xYQA0akPKFau",
        "outputId": "a7bdafef-a0f1-4aa2-f97b-e58bb807b5a2"
      },
      "execution_count": 110,
      "outputs": [
        {
          "output_type": "stream",
          "name": "stdout",
          "text": [
            "(10, 353)\n",
            "(353, 1)\n",
            "(10, 89)\n",
            "(89, 1)\n"
          ]
        }
      ]
    },
    {
      "cell_type": "code",
      "source": [
        "train_y = train_y.T\n",
        "test_y = test_y.T"
      ],
      "metadata": {
        "id": "D6Do7qZcJrl4"
      },
      "execution_count": 111,
      "outputs": []
    },
    {
      "cell_type": "code",
      "source": [
        "print(train_x.shape)\n",
        "print(train_y.shape)\n",
        "print(test_x.shape)\n",
        "print(test_y.shape)"
      ],
      "metadata": {
        "colab": {
          "base_uri": "https://localhost:8080/"
        },
        "id": "Vy-YP3Y4KUw9",
        "outputId": "9341f239-728b-47b2-8e56-a13bcb95913c"
      },
      "execution_count": 112,
      "outputs": [
        {
          "output_type": "stream",
          "name": "stdout",
          "text": [
            "(10, 353)\n",
            "(1, 353)\n",
            "(10, 89)\n",
            "(1, 89)\n"
          ]
        }
      ]
    },
    {
      "cell_type": "markdown",
      "source": [
        "Definición de la arquitectura de la red neuronal.\n",
        "\n",
        "Se emplea indistintamente la palabra neurona o nodo para referirse al modelo matematico de la neurona.\n",
        "\n",
        "El número de nodos en la capa de entrada depende del numero de rasgos del sistema que definen la variable objetivo, la evolución de la diabetes en un año. En el presente caso el número de rasgos es diez.\n",
        "\n",
        "El número de nodos en la capa de salida depende del tipo de problema. En el presente caso, se tiene una sola neurona, cuya salida nos da un número que cuantifica la evolución de la diabetes en un año.\n",
        "\n",
        "En el presente modelo, sólo tenemos una capa interna, el número de nodos en ella es variable. Se hacen pruebas con diferentes números y se adopta el que de los mejores resultados.\n",
        "\n",
        "La función layer_sizes() genera la arquitectura de la red neuronal partiendo de los datos con que se van a alimentar a la red.\n"
      ],
      "metadata": {
        "id": "BgsVwETqKYz2"
      }
    },
    {
      "cell_type": "code",
      "source": [
        "def layer_sizes(X, Y, n_h):\n",
        "    \"\"\"\n",
        "    Arguments:\n",
        "    X -- input dataset of shape (input size, number of examples)\n",
        "    Y -- labels of shape (output size, number of examples)\n",
        "\n",
        "    Returns:\n",
        "    n_x -- the size of the input layer\n",
        "    n_h -- the size of the hidden layer\n",
        "    n_y -- the size of the output layer\n",
        "    \"\"\"\n",
        "\n",
        "    n_x = X.shape[0]\n",
        "\n",
        "    n_h = n_h\n",
        "\n",
        "    n_y = Y.shape[0]\n",
        "\n",
        "    return (n_x, n_h, n_y)"
      ],
      "metadata": {
        "id": "puO967DTKWU7"
      },
      "execution_count": 113,
      "outputs": []
    },
    {
      "cell_type": "code",
      "source": [
        "n_h = 4\n",
        "n_x, n_h, n_y = layer_sizes(train_x, train_y, n_h = n_h)"
      ],
      "metadata": {
        "id": "eDz7g_syKj4D"
      },
      "execution_count": 114,
      "outputs": []
    },
    {
      "cell_type": "code",
      "source": [
        "print(n_x, n_h, n_y)"
      ],
      "metadata": {
        "colab": {
          "base_uri": "https://localhost:8080/"
        },
        "id": "G5nDhPwPKlr9",
        "outputId": "902f6528-f421-41e4-fca3-3c08d58779db"
      },
      "execution_count": 115,
      "outputs": [
        {
          "output_type": "stream",
          "name": "stdout",
          "text": [
            "10 4 1\n"
          ]
        }
      ]
    },
    {
      "cell_type": "code",
      "source": [],
      "metadata": {
        "id": "e1zOEj8FKrSc"
      },
      "execution_count": 115,
      "outputs": []
    }
  ]
}