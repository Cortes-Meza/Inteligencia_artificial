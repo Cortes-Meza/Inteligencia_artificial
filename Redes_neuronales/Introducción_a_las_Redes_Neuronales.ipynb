{
  "nbformat": 4,
  "nbformat_minor": 0,
  "metadata": {
    "colab": {
      "provenance": []
    },
    "kernelspec": {
      "name": "python3",
      "display_name": "Python 3"
    },
    "language_info": {
      "name": "python"
    }
  },
  "cells": [
    {
      "cell_type": "markdown",
      "source": [
        "# Introducción a las redes neuronales"
      ],
      "metadata": {
        "id": "B1KbFretYC2F"
      }
    },
    {
      "cell_type": "markdown",
      "source": [
        "En este caso vamos a realizar una introducción a las redes neuronales, vamos a utilizar un un conjunto de datos de diabetes, estuadiamos la evolución de la enfermedad de pacientes con Diabetes Mellitus despues de un año. En este conjunto de datos vamos a caracterizar los siguientes elementos:\n",
        "\n",
        "- edad\n",
        "- sexo\n",
        "- índice de masa corporal\n",
        "- presión arterial promedio\n",
        "- seis mediciones de suero sanguíneo:\n",
        "\n",
        "  - Colesterol Total\n",
        "  - Baja densidad de liporoteinas\n",
        "  - Alta densidad de lipoproteinas\n",
        "  - Triglicéridos\n",
        "  - Concentración de Lamorigina\n",
        "  - Glucosa\n",
        "\n",
        "Se tienen información de 442 pacientes (m = 442). La respuesta de interés, Y, es una medida cuantitativa de la progresión de la enfermedad un año después del inicio del estudio. Los valores de Y varían entre 25 y 346\n",
        "\n",
        "Fuente de la información: diabetes data Artículo original: Least-Angle-Regression_2004.\n",
        "\n",
        "\n"
      ],
      "metadata": {
        "id": "1jeIPhGeYH39"
      }
    },
    {
      "cell_type": "code",
      "execution_count": 1,
      "metadata": {
        "id": "5c2dLsKuFa2X"
      },
      "outputs": [],
      "source": [
        "import pandas as pd\n",
        "import numpy as np\n",
        "import matplotlib.pyplot as plt"
      ]
    },
    {
      "cell_type": "code",
      "source": [
        "# Los datos se encuentran el el archivo diabetes.csv. Estos se cargan en el objeto df del tipo DataFrame\n",
        "\n",
        "df = pd.read_csv('diabetes.csv', sep ='\\t')\n",
        "\n",
        "# el objeto df contiene los 10 rasgos relevantes de los pacientes diabéticos,\n",
        "# así como el progreso (Y) de la enfermedad un año después de comenzado el estudio."
      ],
      "metadata": {
        "id": "iGzQbNQVaL7J"
      },
      "execution_count": 2,
      "outputs": []
    },
    {
      "cell_type": "code",
      "source": [
        "# Se despliegan las primeras 5 muestras (rasgos, objetivo)\n",
        "\n",
        "df.head()"
      ],
      "metadata": {
        "colab": {
          "base_uri": "https://localhost:8080/",
          "height": 206
        },
        "id": "aG74M0_YbQw7",
        "outputId": "0bc8a20d-2856-4a8f-b928-e993fa9230cb"
      },
      "execution_count": 3,
      "outputs": [
        {
          "output_type": "execute_result",
          "data": {
            "text/plain": [
              "   AGE  SEX   BMI     BP   S1     S2    S3   S4      S5  S6    Y\n",
              "0   59    2  32.1  101.0  157   93.2  38.0  4.0  4.8598  87  151\n",
              "1   48    1  21.6   87.0  183  103.2  70.0  3.0  3.8918  69   75\n",
              "2   72    2  30.5   93.0  156   93.6  41.0  4.0  4.6728  85  141\n",
              "3   24    1  25.3   84.0  198  131.4  40.0  5.0  4.8903  89  206\n",
              "4   50    1  23.0  101.0  192  125.4  52.0  4.0  4.2905  80  135"
            ],
            "text/html": [
              "\n",
              "  <div id=\"df-9754de02-1726-4e29-98b4-4d786307eafe\" class=\"colab-df-container\">\n",
              "    <div>\n",
              "<style scoped>\n",
              "    .dataframe tbody tr th:only-of-type {\n",
              "        vertical-align: middle;\n",
              "    }\n",
              "\n",
              "    .dataframe tbody tr th {\n",
              "        vertical-align: top;\n",
              "    }\n",
              "\n",
              "    .dataframe thead th {\n",
              "        text-align: right;\n",
              "    }\n",
              "</style>\n",
              "<table border=\"1\" class=\"dataframe\">\n",
              "  <thead>\n",
              "    <tr style=\"text-align: right;\">\n",
              "      <th></th>\n",
              "      <th>AGE</th>\n",
              "      <th>SEX</th>\n",
              "      <th>BMI</th>\n",
              "      <th>BP</th>\n",
              "      <th>S1</th>\n",
              "      <th>S2</th>\n",
              "      <th>S3</th>\n",
              "      <th>S4</th>\n",
              "      <th>S5</th>\n",
              "      <th>S6</th>\n",
              "      <th>Y</th>\n",
              "    </tr>\n",
              "  </thead>\n",
              "  <tbody>\n",
              "    <tr>\n",
              "      <th>0</th>\n",
              "      <td>59</td>\n",
              "      <td>2</td>\n",
              "      <td>32.1</td>\n",
              "      <td>101.0</td>\n",
              "      <td>157</td>\n",
              "      <td>93.2</td>\n",
              "      <td>38.0</td>\n",
              "      <td>4.0</td>\n",
              "      <td>4.8598</td>\n",
              "      <td>87</td>\n",
              "      <td>151</td>\n",
              "    </tr>\n",
              "    <tr>\n",
              "      <th>1</th>\n",
              "      <td>48</td>\n",
              "      <td>1</td>\n",
              "      <td>21.6</td>\n",
              "      <td>87.0</td>\n",
              "      <td>183</td>\n",
              "      <td>103.2</td>\n",
              "      <td>70.0</td>\n",
              "      <td>3.0</td>\n",
              "      <td>3.8918</td>\n",
              "      <td>69</td>\n",
              "      <td>75</td>\n",
              "    </tr>\n",
              "    <tr>\n",
              "      <th>2</th>\n",
              "      <td>72</td>\n",
              "      <td>2</td>\n",
              "      <td>30.5</td>\n",
              "      <td>93.0</td>\n",
              "      <td>156</td>\n",
              "      <td>93.6</td>\n",
              "      <td>41.0</td>\n",
              "      <td>4.0</td>\n",
              "      <td>4.6728</td>\n",
              "      <td>85</td>\n",
              "      <td>141</td>\n",
              "    </tr>\n",
              "    <tr>\n",
              "      <th>3</th>\n",
              "      <td>24</td>\n",
              "      <td>1</td>\n",
              "      <td>25.3</td>\n",
              "      <td>84.0</td>\n",
              "      <td>198</td>\n",
              "      <td>131.4</td>\n",
              "      <td>40.0</td>\n",
              "      <td>5.0</td>\n",
              "      <td>4.8903</td>\n",
              "      <td>89</td>\n",
              "      <td>206</td>\n",
              "    </tr>\n",
              "    <tr>\n",
              "      <th>4</th>\n",
              "      <td>50</td>\n",
              "      <td>1</td>\n",
              "      <td>23.0</td>\n",
              "      <td>101.0</td>\n",
              "      <td>192</td>\n",
              "      <td>125.4</td>\n",
              "      <td>52.0</td>\n",
              "      <td>4.0</td>\n",
              "      <td>4.2905</td>\n",
              "      <td>80</td>\n",
              "      <td>135</td>\n",
              "    </tr>\n",
              "  </tbody>\n",
              "</table>\n",
              "</div>\n",
              "    <div class=\"colab-df-buttons\">\n",
              "\n",
              "  <div class=\"colab-df-container\">\n",
              "    <button class=\"colab-df-convert\" onclick=\"convertToInteractive('df-9754de02-1726-4e29-98b4-4d786307eafe')\"\n",
              "            title=\"Convert this dataframe to an interactive table.\"\n",
              "            style=\"display:none;\">\n",
              "\n",
              "  <svg xmlns=\"http://www.w3.org/2000/svg\" height=\"24px\" viewBox=\"0 -960 960 960\">\n",
              "    <path d=\"M120-120v-720h720v720H120Zm60-500h600v-160H180v160Zm220 220h160v-160H400v160Zm0 220h160v-160H400v160ZM180-400h160v-160H180v160Zm440 0h160v-160H620v160ZM180-180h160v-160H180v160Zm440 0h160v-160H620v160Z\"/>\n",
              "  </svg>\n",
              "    </button>\n",
              "\n",
              "  <style>\n",
              "    .colab-df-container {\n",
              "      display:flex;\n",
              "      gap: 12px;\n",
              "    }\n",
              "\n",
              "    .colab-df-convert {\n",
              "      background-color: #E8F0FE;\n",
              "      border: none;\n",
              "      border-radius: 50%;\n",
              "      cursor: pointer;\n",
              "      display: none;\n",
              "      fill: #1967D2;\n",
              "      height: 32px;\n",
              "      padding: 0 0 0 0;\n",
              "      width: 32px;\n",
              "    }\n",
              "\n",
              "    .colab-df-convert:hover {\n",
              "      background-color: #E2EBFA;\n",
              "      box-shadow: 0px 1px 2px rgba(60, 64, 67, 0.3), 0px 1px 3px 1px rgba(60, 64, 67, 0.15);\n",
              "      fill: #174EA6;\n",
              "    }\n",
              "\n",
              "    .colab-df-buttons div {\n",
              "      margin-bottom: 4px;\n",
              "    }\n",
              "\n",
              "    [theme=dark] .colab-df-convert {\n",
              "      background-color: #3B4455;\n",
              "      fill: #D2E3FC;\n",
              "    }\n",
              "\n",
              "    [theme=dark] .colab-df-convert:hover {\n",
              "      background-color: #434B5C;\n",
              "      box-shadow: 0px 1px 3px 1px rgba(0, 0, 0, 0.15);\n",
              "      filter: drop-shadow(0px 1px 2px rgba(0, 0, 0, 0.3));\n",
              "      fill: #FFFFFF;\n",
              "    }\n",
              "  </style>\n",
              "\n",
              "    <script>\n",
              "      const buttonEl =\n",
              "        document.querySelector('#df-9754de02-1726-4e29-98b4-4d786307eafe button.colab-df-convert');\n",
              "      buttonEl.style.display =\n",
              "        google.colab.kernel.accessAllowed ? 'block' : 'none';\n",
              "\n",
              "      async function convertToInteractive(key) {\n",
              "        const element = document.querySelector('#df-9754de02-1726-4e29-98b4-4d786307eafe');\n",
              "        const dataTable =\n",
              "          await google.colab.kernel.invokeFunction('convertToInteractive',\n",
              "                                                    [key], {});\n",
              "        if (!dataTable) return;\n",
              "\n",
              "        const docLinkHtml = 'Like what you see? Visit the ' +\n",
              "          '<a target=\"_blank\" href=https://colab.research.google.com/notebooks/data_table.ipynb>data table notebook</a>'\n",
              "          + ' to learn more about interactive tables.';\n",
              "        element.innerHTML = '';\n",
              "        dataTable['output_type'] = 'display_data';\n",
              "        await google.colab.output.renderOutput(dataTable, element);\n",
              "        const docLink = document.createElement('div');\n",
              "        docLink.innerHTML = docLinkHtml;\n",
              "        element.appendChild(docLink);\n",
              "      }\n",
              "    </script>\n",
              "  </div>\n",
              "\n",
              "\n",
              "    <div id=\"df-c1edc11a-042e-43d2-aee9-251646b2f375\">\n",
              "      <button class=\"colab-df-quickchart\" onclick=\"quickchart('df-c1edc11a-042e-43d2-aee9-251646b2f375')\"\n",
              "                title=\"Suggest charts\"\n",
              "                style=\"display:none;\">\n",
              "\n",
              "<svg xmlns=\"http://www.w3.org/2000/svg\" height=\"24px\"viewBox=\"0 0 24 24\"\n",
              "     width=\"24px\">\n",
              "    <g>\n",
              "        <path d=\"M19 3H5c-1.1 0-2 .9-2 2v14c0 1.1.9 2 2 2h14c1.1 0 2-.9 2-2V5c0-1.1-.9-2-2-2zM9 17H7v-7h2v7zm4 0h-2V7h2v10zm4 0h-2v-4h2v4z\"/>\n",
              "    </g>\n",
              "</svg>\n",
              "      </button>\n",
              "\n",
              "<style>\n",
              "  .colab-df-quickchart {\n",
              "      --bg-color: #E8F0FE;\n",
              "      --fill-color: #1967D2;\n",
              "      --hover-bg-color: #E2EBFA;\n",
              "      --hover-fill-color: #174EA6;\n",
              "      --disabled-fill-color: #AAA;\n",
              "      --disabled-bg-color: #DDD;\n",
              "  }\n",
              "\n",
              "  [theme=dark] .colab-df-quickchart {\n",
              "      --bg-color: #3B4455;\n",
              "      --fill-color: #D2E3FC;\n",
              "      --hover-bg-color: #434B5C;\n",
              "      --hover-fill-color: #FFFFFF;\n",
              "      --disabled-bg-color: #3B4455;\n",
              "      --disabled-fill-color: #666;\n",
              "  }\n",
              "\n",
              "  .colab-df-quickchart {\n",
              "    background-color: var(--bg-color);\n",
              "    border: none;\n",
              "    border-radius: 50%;\n",
              "    cursor: pointer;\n",
              "    display: none;\n",
              "    fill: var(--fill-color);\n",
              "    height: 32px;\n",
              "    padding: 0;\n",
              "    width: 32px;\n",
              "  }\n",
              "\n",
              "  .colab-df-quickchart:hover {\n",
              "    background-color: var(--hover-bg-color);\n",
              "    box-shadow: 0 1px 2px rgba(60, 64, 67, 0.3), 0 1px 3px 1px rgba(60, 64, 67, 0.15);\n",
              "    fill: var(--button-hover-fill-color);\n",
              "  }\n",
              "\n",
              "  .colab-df-quickchart-complete:disabled,\n",
              "  .colab-df-quickchart-complete:disabled:hover {\n",
              "    background-color: var(--disabled-bg-color);\n",
              "    fill: var(--disabled-fill-color);\n",
              "    box-shadow: none;\n",
              "  }\n",
              "\n",
              "  .colab-df-spinner {\n",
              "    border: 2px solid var(--fill-color);\n",
              "    border-color: transparent;\n",
              "    border-bottom-color: var(--fill-color);\n",
              "    animation:\n",
              "      spin 1s steps(1) infinite;\n",
              "  }\n",
              "\n",
              "  @keyframes spin {\n",
              "    0% {\n",
              "      border-color: transparent;\n",
              "      border-bottom-color: var(--fill-color);\n",
              "      border-left-color: var(--fill-color);\n",
              "    }\n",
              "    20% {\n",
              "      border-color: transparent;\n",
              "      border-left-color: var(--fill-color);\n",
              "      border-top-color: var(--fill-color);\n",
              "    }\n",
              "    30% {\n",
              "      border-color: transparent;\n",
              "      border-left-color: var(--fill-color);\n",
              "      border-top-color: var(--fill-color);\n",
              "      border-right-color: var(--fill-color);\n",
              "    }\n",
              "    40% {\n",
              "      border-color: transparent;\n",
              "      border-right-color: var(--fill-color);\n",
              "      border-top-color: var(--fill-color);\n",
              "    }\n",
              "    60% {\n",
              "      border-color: transparent;\n",
              "      border-right-color: var(--fill-color);\n",
              "    }\n",
              "    80% {\n",
              "      border-color: transparent;\n",
              "      border-right-color: var(--fill-color);\n",
              "      border-bottom-color: var(--fill-color);\n",
              "    }\n",
              "    90% {\n",
              "      border-color: transparent;\n",
              "      border-bottom-color: var(--fill-color);\n",
              "    }\n",
              "  }\n",
              "</style>\n",
              "\n",
              "      <script>\n",
              "        async function quickchart(key) {\n",
              "          const quickchartButtonEl =\n",
              "            document.querySelector('#' + key + ' button');\n",
              "          quickchartButtonEl.disabled = true;  // To prevent multiple clicks.\n",
              "          quickchartButtonEl.classList.add('colab-df-spinner');\n",
              "          try {\n",
              "            const charts = await google.colab.kernel.invokeFunction(\n",
              "                'suggestCharts', [key], {});\n",
              "          } catch (error) {\n",
              "            console.error('Error during call to suggestCharts:', error);\n",
              "          }\n",
              "          quickchartButtonEl.classList.remove('colab-df-spinner');\n",
              "          quickchartButtonEl.classList.add('colab-df-quickchart-complete');\n",
              "        }\n",
              "        (() => {\n",
              "          let quickchartButtonEl =\n",
              "            document.querySelector('#df-c1edc11a-042e-43d2-aee9-251646b2f375 button');\n",
              "          quickchartButtonEl.style.display =\n",
              "            google.colab.kernel.accessAllowed ? 'block' : 'none';\n",
              "        })();\n",
              "      </script>\n",
              "    </div>\n",
              "\n",
              "    </div>\n",
              "  </div>\n"
            ],
            "application/vnd.google.colaboratory.intrinsic+json": {
              "type": "dataframe",
              "variable_name": "df",
              "summary": "{\n  \"name\": \"df\",\n  \"rows\": 442,\n  \"fields\": [\n    {\n      \"column\": \"AGE\",\n      \"properties\": {\n        \"dtype\": \"number\",\n        \"std\": 13,\n        \"min\": 19,\n        \"max\": 79,\n        \"num_unique_values\": 58,\n        \"samples\": [\n          59,\n          23,\n          54\n        ],\n        \"semantic_type\": \"\",\n        \"description\": \"\"\n      }\n    },\n    {\n      \"column\": \"SEX\",\n      \"properties\": {\n        \"dtype\": \"number\",\n        \"std\": 0,\n        \"min\": 1,\n        \"max\": 2,\n        \"num_unique_values\": 2,\n        \"samples\": [\n          1,\n          2\n        ],\n        \"semantic_type\": \"\",\n        \"description\": \"\"\n      }\n    },\n    {\n      \"column\": \"BMI\",\n      \"properties\": {\n        \"dtype\": \"number\",\n        \"std\": 4.4181215606157735,\n        \"min\": 18.0,\n        \"max\": 42.2,\n        \"num_unique_values\": 163,\n        \"samples\": [\n          27.2,\n          21.3\n        ],\n        \"semantic_type\": \"\",\n        \"description\": \"\"\n      }\n    },\n    {\n      \"column\": \"BP\",\n      \"properties\": {\n        \"dtype\": \"number\",\n        \"std\": 13.831283419783,\n        \"min\": 62.0,\n        \"max\": 133.0,\n        \"num_unique_values\": 100,\n        \"samples\": [\n          104.33,\n          102.0\n        ],\n        \"semantic_type\": \"\",\n        \"description\": \"\"\n      }\n    },\n    {\n      \"column\": \"S1\",\n      \"properties\": {\n        \"dtype\": \"number\",\n        \"std\": 34,\n        \"min\": 97,\n        \"max\": 301,\n        \"num_unique_values\": 141,\n        \"samples\": [\n          219,\n          250\n        ],\n        \"semantic_type\": \"\",\n        \"description\": \"\"\n      }\n    },\n    {\n      \"column\": \"S2\",\n      \"properties\": {\n        \"dtype\": \"number\",\n        \"std\": 30.413080969276532,\n        \"min\": 41.6,\n        \"max\": 242.4,\n        \"num_unique_values\": 302,\n        \"samples\": [\n          162.8,\n          160.2\n        ],\n        \"semantic_type\": \"\",\n        \"description\": \"\"\n      }\n    },\n    {\n      \"column\": \"S3\",\n      \"properties\": {\n        \"dtype\": \"number\",\n        \"std\": 12.934202154863332,\n        \"min\": 22.0,\n        \"max\": 99.0,\n        \"num_unique_values\": 63,\n        \"samples\": [\n          75.0,\n          93.0\n        ],\n        \"semantic_type\": \"\",\n        \"description\": \"\"\n      }\n    },\n    {\n      \"column\": \"S4\",\n      \"properties\": {\n        \"dtype\": \"number\",\n        \"std\": 1.2904498966082774,\n        \"min\": 2.0,\n        \"max\": 9.09,\n        \"num_unique_values\": 66,\n        \"samples\": [\n          6.42,\n          3.4\n        ],\n        \"semantic_type\": \"\",\n        \"description\": \"\"\n      }\n    },\n    {\n      \"column\": \"S5\",\n      \"properties\": {\n        \"dtype\": \"number\",\n        \"std\": 0.5223905610694908,\n        \"min\": 3.2581,\n        \"max\": 6.107,\n        \"num_unique_values\": 184,\n        \"samples\": [\n          3.8501,\n          4.4067\n        ],\n        \"semantic_type\": \"\",\n        \"description\": \"\"\n      }\n    },\n    {\n      \"column\": \"S6\",\n      \"properties\": {\n        \"dtype\": \"number\",\n        \"std\": 11,\n        \"min\": 58,\n        \"max\": 124,\n        \"num_unique_values\": 56,\n        \"samples\": [\n          87,\n          68\n        ],\n        \"semantic_type\": \"\",\n        \"description\": \"\"\n      }\n    },\n    {\n      \"column\": \"Y\",\n      \"properties\": {\n        \"dtype\": \"number\",\n        \"std\": 77,\n        \"min\": 25,\n        \"max\": 346,\n        \"num_unique_values\": 214,\n        \"samples\": [\n          310,\n          140\n        ],\n        \"semantic_type\": \"\",\n        \"description\": \"\"\n      }\n    }\n  ]\n}"
            }
          },
          "metadata": {},
          "execution_count": 3
        }
      ]
    },
    {
      "cell_type": "code",
      "source": [
        "df.tail()"
      ],
      "metadata": {
        "colab": {
          "base_uri": "https://localhost:8080/",
          "height": 206
        },
        "id": "aF_sPfnXKh1h",
        "outputId": "1b6d3279-65cd-400f-d9c7-532ca326b011"
      },
      "execution_count": 4,
      "outputs": [
        {
          "output_type": "execute_result",
          "data": {
            "text/plain": [
              "     AGE  SEX   BMI      BP   S1     S2    S3    S4      S5   S6    Y\n",
              "437   60    2  28.2  112.00  185  113.8  42.0  4.00  4.9836   93  178\n",
              "438   47    2  24.9   75.00  225  166.0  42.0  5.00  4.4427  102  104\n",
              "439   60    2  24.9   99.67  162  106.6  43.0  3.77  4.1271   95  132\n",
              "440   36    1  30.0   95.00  201  125.2  42.0  4.79  5.1299   85  220\n",
              "441   36    1  19.6   71.00  250  133.2  97.0  3.00  4.5951   92   57"
            ],
            "text/html": [
              "\n",
              "  <div id=\"df-336d1c1d-8dd2-4df8-8fdd-f17fa97cf873\" class=\"colab-df-container\">\n",
              "    <div>\n",
              "<style scoped>\n",
              "    .dataframe tbody tr th:only-of-type {\n",
              "        vertical-align: middle;\n",
              "    }\n",
              "\n",
              "    .dataframe tbody tr th {\n",
              "        vertical-align: top;\n",
              "    }\n",
              "\n",
              "    .dataframe thead th {\n",
              "        text-align: right;\n",
              "    }\n",
              "</style>\n",
              "<table border=\"1\" class=\"dataframe\">\n",
              "  <thead>\n",
              "    <tr style=\"text-align: right;\">\n",
              "      <th></th>\n",
              "      <th>AGE</th>\n",
              "      <th>SEX</th>\n",
              "      <th>BMI</th>\n",
              "      <th>BP</th>\n",
              "      <th>S1</th>\n",
              "      <th>S2</th>\n",
              "      <th>S3</th>\n",
              "      <th>S4</th>\n",
              "      <th>S5</th>\n",
              "      <th>S6</th>\n",
              "      <th>Y</th>\n",
              "    </tr>\n",
              "  </thead>\n",
              "  <tbody>\n",
              "    <tr>\n",
              "      <th>437</th>\n",
              "      <td>60</td>\n",
              "      <td>2</td>\n",
              "      <td>28.2</td>\n",
              "      <td>112.00</td>\n",
              "      <td>185</td>\n",
              "      <td>113.8</td>\n",
              "      <td>42.0</td>\n",
              "      <td>4.00</td>\n",
              "      <td>4.9836</td>\n",
              "      <td>93</td>\n",
              "      <td>178</td>\n",
              "    </tr>\n",
              "    <tr>\n",
              "      <th>438</th>\n",
              "      <td>47</td>\n",
              "      <td>2</td>\n",
              "      <td>24.9</td>\n",
              "      <td>75.00</td>\n",
              "      <td>225</td>\n",
              "      <td>166.0</td>\n",
              "      <td>42.0</td>\n",
              "      <td>5.00</td>\n",
              "      <td>4.4427</td>\n",
              "      <td>102</td>\n",
              "      <td>104</td>\n",
              "    </tr>\n",
              "    <tr>\n",
              "      <th>439</th>\n",
              "      <td>60</td>\n",
              "      <td>2</td>\n",
              "      <td>24.9</td>\n",
              "      <td>99.67</td>\n",
              "      <td>162</td>\n",
              "      <td>106.6</td>\n",
              "      <td>43.0</td>\n",
              "      <td>3.77</td>\n",
              "      <td>4.1271</td>\n",
              "      <td>95</td>\n",
              "      <td>132</td>\n",
              "    </tr>\n",
              "    <tr>\n",
              "      <th>440</th>\n",
              "      <td>36</td>\n",
              "      <td>1</td>\n",
              "      <td>30.0</td>\n",
              "      <td>95.00</td>\n",
              "      <td>201</td>\n",
              "      <td>125.2</td>\n",
              "      <td>42.0</td>\n",
              "      <td>4.79</td>\n",
              "      <td>5.1299</td>\n",
              "      <td>85</td>\n",
              "      <td>220</td>\n",
              "    </tr>\n",
              "    <tr>\n",
              "      <th>441</th>\n",
              "      <td>36</td>\n",
              "      <td>1</td>\n",
              "      <td>19.6</td>\n",
              "      <td>71.00</td>\n",
              "      <td>250</td>\n",
              "      <td>133.2</td>\n",
              "      <td>97.0</td>\n",
              "      <td>3.00</td>\n",
              "      <td>4.5951</td>\n",
              "      <td>92</td>\n",
              "      <td>57</td>\n",
              "    </tr>\n",
              "  </tbody>\n",
              "</table>\n",
              "</div>\n",
              "    <div class=\"colab-df-buttons\">\n",
              "\n",
              "  <div class=\"colab-df-container\">\n",
              "    <button class=\"colab-df-convert\" onclick=\"convertToInteractive('df-336d1c1d-8dd2-4df8-8fdd-f17fa97cf873')\"\n",
              "            title=\"Convert this dataframe to an interactive table.\"\n",
              "            style=\"display:none;\">\n",
              "\n",
              "  <svg xmlns=\"http://www.w3.org/2000/svg\" height=\"24px\" viewBox=\"0 -960 960 960\">\n",
              "    <path d=\"M120-120v-720h720v720H120Zm60-500h600v-160H180v160Zm220 220h160v-160H400v160Zm0 220h160v-160H400v160ZM180-400h160v-160H180v160Zm440 0h160v-160H620v160ZM180-180h160v-160H180v160Zm440 0h160v-160H620v160Z\"/>\n",
              "  </svg>\n",
              "    </button>\n",
              "\n",
              "  <style>\n",
              "    .colab-df-container {\n",
              "      display:flex;\n",
              "      gap: 12px;\n",
              "    }\n",
              "\n",
              "    .colab-df-convert {\n",
              "      background-color: #E8F0FE;\n",
              "      border: none;\n",
              "      border-radius: 50%;\n",
              "      cursor: pointer;\n",
              "      display: none;\n",
              "      fill: #1967D2;\n",
              "      height: 32px;\n",
              "      padding: 0 0 0 0;\n",
              "      width: 32px;\n",
              "    }\n",
              "\n",
              "    .colab-df-convert:hover {\n",
              "      background-color: #E2EBFA;\n",
              "      box-shadow: 0px 1px 2px rgba(60, 64, 67, 0.3), 0px 1px 3px 1px rgba(60, 64, 67, 0.15);\n",
              "      fill: #174EA6;\n",
              "    }\n",
              "\n",
              "    .colab-df-buttons div {\n",
              "      margin-bottom: 4px;\n",
              "    }\n",
              "\n",
              "    [theme=dark] .colab-df-convert {\n",
              "      background-color: #3B4455;\n",
              "      fill: #D2E3FC;\n",
              "    }\n",
              "\n",
              "    [theme=dark] .colab-df-convert:hover {\n",
              "      background-color: #434B5C;\n",
              "      box-shadow: 0px 1px 3px 1px rgba(0, 0, 0, 0.15);\n",
              "      filter: drop-shadow(0px 1px 2px rgba(0, 0, 0, 0.3));\n",
              "      fill: #FFFFFF;\n",
              "    }\n",
              "  </style>\n",
              "\n",
              "    <script>\n",
              "      const buttonEl =\n",
              "        document.querySelector('#df-336d1c1d-8dd2-4df8-8fdd-f17fa97cf873 button.colab-df-convert');\n",
              "      buttonEl.style.display =\n",
              "        google.colab.kernel.accessAllowed ? 'block' : 'none';\n",
              "\n",
              "      async function convertToInteractive(key) {\n",
              "        const element = document.querySelector('#df-336d1c1d-8dd2-4df8-8fdd-f17fa97cf873');\n",
              "        const dataTable =\n",
              "          await google.colab.kernel.invokeFunction('convertToInteractive',\n",
              "                                                    [key], {});\n",
              "        if (!dataTable) return;\n",
              "\n",
              "        const docLinkHtml = 'Like what you see? Visit the ' +\n",
              "          '<a target=\"_blank\" href=https://colab.research.google.com/notebooks/data_table.ipynb>data table notebook</a>'\n",
              "          + ' to learn more about interactive tables.';\n",
              "        element.innerHTML = '';\n",
              "        dataTable['output_type'] = 'display_data';\n",
              "        await google.colab.output.renderOutput(dataTable, element);\n",
              "        const docLink = document.createElement('div');\n",
              "        docLink.innerHTML = docLinkHtml;\n",
              "        element.appendChild(docLink);\n",
              "      }\n",
              "    </script>\n",
              "  </div>\n",
              "\n",
              "\n",
              "    <div id=\"df-5f000721-7e8c-4dc8-843e-dc92db65c8b1\">\n",
              "      <button class=\"colab-df-quickchart\" onclick=\"quickchart('df-5f000721-7e8c-4dc8-843e-dc92db65c8b1')\"\n",
              "                title=\"Suggest charts\"\n",
              "                style=\"display:none;\">\n",
              "\n",
              "<svg xmlns=\"http://www.w3.org/2000/svg\" height=\"24px\"viewBox=\"0 0 24 24\"\n",
              "     width=\"24px\">\n",
              "    <g>\n",
              "        <path d=\"M19 3H5c-1.1 0-2 .9-2 2v14c0 1.1.9 2 2 2h14c1.1 0 2-.9 2-2V5c0-1.1-.9-2-2-2zM9 17H7v-7h2v7zm4 0h-2V7h2v10zm4 0h-2v-4h2v4z\"/>\n",
              "    </g>\n",
              "</svg>\n",
              "      </button>\n",
              "\n",
              "<style>\n",
              "  .colab-df-quickchart {\n",
              "      --bg-color: #E8F0FE;\n",
              "      --fill-color: #1967D2;\n",
              "      --hover-bg-color: #E2EBFA;\n",
              "      --hover-fill-color: #174EA6;\n",
              "      --disabled-fill-color: #AAA;\n",
              "      --disabled-bg-color: #DDD;\n",
              "  }\n",
              "\n",
              "  [theme=dark] .colab-df-quickchart {\n",
              "      --bg-color: #3B4455;\n",
              "      --fill-color: #D2E3FC;\n",
              "      --hover-bg-color: #434B5C;\n",
              "      --hover-fill-color: #FFFFFF;\n",
              "      --disabled-bg-color: #3B4455;\n",
              "      --disabled-fill-color: #666;\n",
              "  }\n",
              "\n",
              "  .colab-df-quickchart {\n",
              "    background-color: var(--bg-color);\n",
              "    border: none;\n",
              "    border-radius: 50%;\n",
              "    cursor: pointer;\n",
              "    display: none;\n",
              "    fill: var(--fill-color);\n",
              "    height: 32px;\n",
              "    padding: 0;\n",
              "    width: 32px;\n",
              "  }\n",
              "\n",
              "  .colab-df-quickchart:hover {\n",
              "    background-color: var(--hover-bg-color);\n",
              "    box-shadow: 0 1px 2px rgba(60, 64, 67, 0.3), 0 1px 3px 1px rgba(60, 64, 67, 0.15);\n",
              "    fill: var(--button-hover-fill-color);\n",
              "  }\n",
              "\n",
              "  .colab-df-quickchart-complete:disabled,\n",
              "  .colab-df-quickchart-complete:disabled:hover {\n",
              "    background-color: var(--disabled-bg-color);\n",
              "    fill: var(--disabled-fill-color);\n",
              "    box-shadow: none;\n",
              "  }\n",
              "\n",
              "  .colab-df-spinner {\n",
              "    border: 2px solid var(--fill-color);\n",
              "    border-color: transparent;\n",
              "    border-bottom-color: var(--fill-color);\n",
              "    animation:\n",
              "      spin 1s steps(1) infinite;\n",
              "  }\n",
              "\n",
              "  @keyframes spin {\n",
              "    0% {\n",
              "      border-color: transparent;\n",
              "      border-bottom-color: var(--fill-color);\n",
              "      border-left-color: var(--fill-color);\n",
              "    }\n",
              "    20% {\n",
              "      border-color: transparent;\n",
              "      border-left-color: var(--fill-color);\n",
              "      border-top-color: var(--fill-color);\n",
              "    }\n",
              "    30% {\n",
              "      border-color: transparent;\n",
              "      border-left-color: var(--fill-color);\n",
              "      border-top-color: var(--fill-color);\n",
              "      border-right-color: var(--fill-color);\n",
              "    }\n",
              "    40% {\n",
              "      border-color: transparent;\n",
              "      border-right-color: var(--fill-color);\n",
              "      border-top-color: var(--fill-color);\n",
              "    }\n",
              "    60% {\n",
              "      border-color: transparent;\n",
              "      border-right-color: var(--fill-color);\n",
              "    }\n",
              "    80% {\n",
              "      border-color: transparent;\n",
              "      border-right-color: var(--fill-color);\n",
              "      border-bottom-color: var(--fill-color);\n",
              "    }\n",
              "    90% {\n",
              "      border-color: transparent;\n",
              "      border-bottom-color: var(--fill-color);\n",
              "    }\n",
              "  }\n",
              "</style>\n",
              "\n",
              "      <script>\n",
              "        async function quickchart(key) {\n",
              "          const quickchartButtonEl =\n",
              "            document.querySelector('#' + key + ' button');\n",
              "          quickchartButtonEl.disabled = true;  // To prevent multiple clicks.\n",
              "          quickchartButtonEl.classList.add('colab-df-spinner');\n",
              "          try {\n",
              "            const charts = await google.colab.kernel.invokeFunction(\n",
              "                'suggestCharts', [key], {});\n",
              "          } catch (error) {\n",
              "            console.error('Error during call to suggestCharts:', error);\n",
              "          }\n",
              "          quickchartButtonEl.classList.remove('colab-df-spinner');\n",
              "          quickchartButtonEl.classList.add('colab-df-quickchart-complete');\n",
              "        }\n",
              "        (() => {\n",
              "          let quickchartButtonEl =\n",
              "            document.querySelector('#df-5f000721-7e8c-4dc8-843e-dc92db65c8b1 button');\n",
              "          quickchartButtonEl.style.display =\n",
              "            google.colab.kernel.accessAllowed ? 'block' : 'none';\n",
              "        })();\n",
              "      </script>\n",
              "    </div>\n",
              "\n",
              "    </div>\n",
              "  </div>\n"
            ],
            "application/vnd.google.colaboratory.intrinsic+json": {
              "type": "dataframe",
              "summary": "{\n  \"name\": \"df\",\n  \"rows\": 5,\n  \"fields\": [\n    {\n      \"column\": \"AGE\",\n      \"properties\": {\n        \"dtype\": \"number\",\n        \"std\": 12,\n        \"min\": 36,\n        \"max\": 60,\n        \"num_unique_values\": 3,\n        \"samples\": [\n          60,\n          47,\n          36\n        ],\n        \"semantic_type\": \"\",\n        \"description\": \"\"\n      }\n    },\n    {\n      \"column\": \"SEX\",\n      \"properties\": {\n        \"dtype\": \"number\",\n        \"std\": 0,\n        \"min\": 1,\n        \"max\": 2,\n        \"num_unique_values\": 2,\n        \"samples\": [\n          1,\n          2\n        ],\n        \"semantic_type\": \"\",\n        \"description\": \"\"\n      }\n    },\n    {\n      \"column\": \"BMI\",\n      \"properties\": {\n        \"dtype\": \"number\",\n        \"std\": 3.970768187643292,\n        \"min\": 19.6,\n        \"max\": 30.0,\n        \"num_unique_values\": 4,\n        \"samples\": [\n          24.9,\n          19.6\n        ],\n        \"semantic_type\": \"\",\n        \"description\": \"\"\n      }\n    },\n    {\n      \"column\": \"BP\",\n      \"properties\": {\n        \"dtype\": \"number\",\n        \"std\": 17.227036309243676,\n        \"min\": 71.0,\n        \"max\": 112.0,\n        \"num_unique_values\": 5,\n        \"samples\": [\n          75.0,\n          71.0\n        ],\n        \"semantic_type\": \"\",\n        \"description\": \"\"\n      }\n    },\n    {\n      \"column\": \"S1\",\n      \"properties\": {\n        \"dtype\": \"number\",\n        \"std\": 34,\n        \"min\": 162,\n        \"max\": 250,\n        \"num_unique_values\": 5,\n        \"samples\": [\n          225,\n          250\n        ],\n        \"semantic_type\": \"\",\n        \"description\": \"\"\n      }\n    },\n    {\n      \"column\": \"S2\",\n      \"properties\": {\n        \"dtype\": \"number\",\n        \"std\": 23.096926202419233,\n        \"min\": 106.6,\n        \"max\": 166.0,\n        \"num_unique_values\": 5,\n        \"samples\": [\n          166.0,\n          133.2\n        ],\n        \"semantic_type\": \"\",\n        \"description\": \"\"\n      }\n    },\n    {\n      \"column\": \"S3\",\n      \"properties\": {\n        \"dtype\": \"number\",\n        \"std\": 24.488772937817853,\n        \"min\": 42.0,\n        \"max\": 97.0,\n        \"num_unique_values\": 3,\n        \"samples\": [\n          42.0,\n          43.0\n        ],\n        \"semantic_type\": \"\",\n        \"description\": \"\"\n      }\n    },\n    {\n      \"column\": \"S4\",\n      \"properties\": {\n        \"dtype\": \"number\",\n        \"std\": 0.8084367631423004,\n        \"min\": 3.0,\n        \"max\": 5.0,\n        \"num_unique_values\": 5,\n        \"samples\": [\n          5.0,\n          3.0\n        ],\n        \"semantic_type\": \"\",\n        \"description\": \"\"\n      }\n    },\n    {\n      \"column\": \"S5\",\n      \"properties\": {\n        \"dtype\": \"number\",\n        \"std\": 0.4064613659377726,\n        \"min\": 4.1271,\n        \"max\": 5.1299,\n        \"num_unique_values\": 5,\n        \"samples\": [\n          4.4427,\n          4.5951\n        ],\n        \"semantic_type\": \"\",\n        \"description\": \"\"\n      }\n    },\n    {\n      \"column\": \"S6\",\n      \"properties\": {\n        \"dtype\": \"number\",\n        \"std\": 6,\n        \"min\": 85,\n        \"max\": 102,\n        \"num_unique_values\": 5,\n        \"samples\": [\n          102,\n          92\n        ],\n        \"semantic_type\": \"\",\n        \"description\": \"\"\n      }\n    },\n    {\n      \"column\": \"Y\",\n      \"properties\": {\n        \"dtype\": \"number\",\n        \"std\": 63,\n        \"min\": 57,\n        \"max\": 220,\n        \"num_unique_values\": 5,\n        \"samples\": [\n          104,\n          57\n        ],\n        \"semantic_type\": \"\",\n        \"description\": \"\"\n      }\n    }\n  ]\n}"
            }
          },
          "metadata": {},
          "execution_count": 4
        }
      ]
    },
    {
      "cell_type": "markdown",
      "source": [
        "Las abreviaciones de las caracteristicas son las siguientes:\n",
        "\n",
        "* AGE = Age\n",
        "* SEX = Sex\n",
        "* BMI = Body Mass Index (BMI)\n",
        "*  BP = Mean Arterial Pressure (MAP)\n",
        "*  S1 = Total Cholesterol (TC)\n",
        "*  S2 = Low Density lipoproteins (LDL)\n",
        "*  S3 = High Density lipoproteins (HDL)\n",
        "*  S4 = Triglyceride (TG, TCH)\n",
        "*  S5 = Serum Concentration of Lamorigine (LTG)\n",
        "*  S6 = Glucose (GLU)\n",
        "*   Y = Quantitative Measure of Diabetes Mellitus Disease Progression (QMDMDP) one year after the baseline."
      ],
      "metadata": {
        "id": "q0fgX2bTbYpB"
      }
    },
    {
      "cell_type": "code",
      "source": [
        "# información estadistíca\n",
        "df.describe()"
      ],
      "metadata": {
        "colab": {
          "base_uri": "https://localhost:8080/",
          "height": 300
        },
        "id": "D1wPGGCsbVte",
        "outputId": "63424835-97ad-448e-ef81-2bb92e8c98ed"
      },
      "execution_count": 5,
      "outputs": [
        {
          "output_type": "execute_result",
          "data": {
            "text/plain": [
              "              AGE         SEX         BMI          BP          S1          S2  \\\n",
              "count  442.000000  442.000000  442.000000  442.000000  442.000000  442.000000   \n",
              "mean    48.518100    1.468326   26.375792   94.647014  189.140271  115.439140   \n",
              "std     13.109028    0.499561    4.418122   13.831283   34.608052   30.413081   \n",
              "min     19.000000    1.000000   18.000000   62.000000   97.000000   41.600000   \n",
              "25%     38.250000    1.000000   23.200000   84.000000  164.250000   96.050000   \n",
              "50%     50.000000    1.000000   25.700000   93.000000  186.000000  113.000000   \n",
              "75%     59.000000    2.000000   29.275000  105.000000  209.750000  134.500000   \n",
              "max     79.000000    2.000000   42.200000  133.000000  301.000000  242.400000   \n",
              "\n",
              "               S3          S4          S5          S6           Y  \n",
              "count  442.000000  442.000000  442.000000  442.000000  442.000000  \n",
              "mean    49.788462    4.070249    4.641411   91.260181  152.133484  \n",
              "std     12.934202    1.290450    0.522391   11.496335   77.093005  \n",
              "min     22.000000    2.000000    3.258100   58.000000   25.000000  \n",
              "25%     40.250000    3.000000    4.276700   83.250000   87.000000  \n",
              "50%     48.000000    4.000000    4.620050   91.000000  140.500000  \n",
              "75%     57.750000    5.000000    4.997200   98.000000  211.500000  \n",
              "max     99.000000    9.090000    6.107000  124.000000  346.000000  "
            ],
            "text/html": [
              "\n",
              "  <div id=\"df-3158294c-6c8a-4a71-91dc-caa2d4346d32\" class=\"colab-df-container\">\n",
              "    <div>\n",
              "<style scoped>\n",
              "    .dataframe tbody tr th:only-of-type {\n",
              "        vertical-align: middle;\n",
              "    }\n",
              "\n",
              "    .dataframe tbody tr th {\n",
              "        vertical-align: top;\n",
              "    }\n",
              "\n",
              "    .dataframe thead th {\n",
              "        text-align: right;\n",
              "    }\n",
              "</style>\n",
              "<table border=\"1\" class=\"dataframe\">\n",
              "  <thead>\n",
              "    <tr style=\"text-align: right;\">\n",
              "      <th></th>\n",
              "      <th>AGE</th>\n",
              "      <th>SEX</th>\n",
              "      <th>BMI</th>\n",
              "      <th>BP</th>\n",
              "      <th>S1</th>\n",
              "      <th>S2</th>\n",
              "      <th>S3</th>\n",
              "      <th>S4</th>\n",
              "      <th>S5</th>\n",
              "      <th>S6</th>\n",
              "      <th>Y</th>\n",
              "    </tr>\n",
              "  </thead>\n",
              "  <tbody>\n",
              "    <tr>\n",
              "      <th>count</th>\n",
              "      <td>442.000000</td>\n",
              "      <td>442.000000</td>\n",
              "      <td>442.000000</td>\n",
              "      <td>442.000000</td>\n",
              "      <td>442.000000</td>\n",
              "      <td>442.000000</td>\n",
              "      <td>442.000000</td>\n",
              "      <td>442.000000</td>\n",
              "      <td>442.000000</td>\n",
              "      <td>442.000000</td>\n",
              "      <td>442.000000</td>\n",
              "    </tr>\n",
              "    <tr>\n",
              "      <th>mean</th>\n",
              "      <td>48.518100</td>\n",
              "      <td>1.468326</td>\n",
              "      <td>26.375792</td>\n",
              "      <td>94.647014</td>\n",
              "      <td>189.140271</td>\n",
              "      <td>115.439140</td>\n",
              "      <td>49.788462</td>\n",
              "      <td>4.070249</td>\n",
              "      <td>4.641411</td>\n",
              "      <td>91.260181</td>\n",
              "      <td>152.133484</td>\n",
              "    </tr>\n",
              "    <tr>\n",
              "      <th>std</th>\n",
              "      <td>13.109028</td>\n",
              "      <td>0.499561</td>\n",
              "      <td>4.418122</td>\n",
              "      <td>13.831283</td>\n",
              "      <td>34.608052</td>\n",
              "      <td>30.413081</td>\n",
              "      <td>12.934202</td>\n",
              "      <td>1.290450</td>\n",
              "      <td>0.522391</td>\n",
              "      <td>11.496335</td>\n",
              "      <td>77.093005</td>\n",
              "    </tr>\n",
              "    <tr>\n",
              "      <th>min</th>\n",
              "      <td>19.000000</td>\n",
              "      <td>1.000000</td>\n",
              "      <td>18.000000</td>\n",
              "      <td>62.000000</td>\n",
              "      <td>97.000000</td>\n",
              "      <td>41.600000</td>\n",
              "      <td>22.000000</td>\n",
              "      <td>2.000000</td>\n",
              "      <td>3.258100</td>\n",
              "      <td>58.000000</td>\n",
              "      <td>25.000000</td>\n",
              "    </tr>\n",
              "    <tr>\n",
              "      <th>25%</th>\n",
              "      <td>38.250000</td>\n",
              "      <td>1.000000</td>\n",
              "      <td>23.200000</td>\n",
              "      <td>84.000000</td>\n",
              "      <td>164.250000</td>\n",
              "      <td>96.050000</td>\n",
              "      <td>40.250000</td>\n",
              "      <td>3.000000</td>\n",
              "      <td>4.276700</td>\n",
              "      <td>83.250000</td>\n",
              "      <td>87.000000</td>\n",
              "    </tr>\n",
              "    <tr>\n",
              "      <th>50%</th>\n",
              "      <td>50.000000</td>\n",
              "      <td>1.000000</td>\n",
              "      <td>25.700000</td>\n",
              "      <td>93.000000</td>\n",
              "      <td>186.000000</td>\n",
              "      <td>113.000000</td>\n",
              "      <td>48.000000</td>\n",
              "      <td>4.000000</td>\n",
              "      <td>4.620050</td>\n",
              "      <td>91.000000</td>\n",
              "      <td>140.500000</td>\n",
              "    </tr>\n",
              "    <tr>\n",
              "      <th>75%</th>\n",
              "      <td>59.000000</td>\n",
              "      <td>2.000000</td>\n",
              "      <td>29.275000</td>\n",
              "      <td>105.000000</td>\n",
              "      <td>209.750000</td>\n",
              "      <td>134.500000</td>\n",
              "      <td>57.750000</td>\n",
              "      <td>5.000000</td>\n",
              "      <td>4.997200</td>\n",
              "      <td>98.000000</td>\n",
              "      <td>211.500000</td>\n",
              "    </tr>\n",
              "    <tr>\n",
              "      <th>max</th>\n",
              "      <td>79.000000</td>\n",
              "      <td>2.000000</td>\n",
              "      <td>42.200000</td>\n",
              "      <td>133.000000</td>\n",
              "      <td>301.000000</td>\n",
              "      <td>242.400000</td>\n",
              "      <td>99.000000</td>\n",
              "      <td>9.090000</td>\n",
              "      <td>6.107000</td>\n",
              "      <td>124.000000</td>\n",
              "      <td>346.000000</td>\n",
              "    </tr>\n",
              "  </tbody>\n",
              "</table>\n",
              "</div>\n",
              "    <div class=\"colab-df-buttons\">\n",
              "\n",
              "  <div class=\"colab-df-container\">\n",
              "    <button class=\"colab-df-convert\" onclick=\"convertToInteractive('df-3158294c-6c8a-4a71-91dc-caa2d4346d32')\"\n",
              "            title=\"Convert this dataframe to an interactive table.\"\n",
              "            style=\"display:none;\">\n",
              "\n",
              "  <svg xmlns=\"http://www.w3.org/2000/svg\" height=\"24px\" viewBox=\"0 -960 960 960\">\n",
              "    <path d=\"M120-120v-720h720v720H120Zm60-500h600v-160H180v160Zm220 220h160v-160H400v160Zm0 220h160v-160H400v160ZM180-400h160v-160H180v160Zm440 0h160v-160H620v160ZM180-180h160v-160H180v160Zm440 0h160v-160H620v160Z\"/>\n",
              "  </svg>\n",
              "    </button>\n",
              "\n",
              "  <style>\n",
              "    .colab-df-container {\n",
              "      display:flex;\n",
              "      gap: 12px;\n",
              "    }\n",
              "\n",
              "    .colab-df-convert {\n",
              "      background-color: #E8F0FE;\n",
              "      border: none;\n",
              "      border-radius: 50%;\n",
              "      cursor: pointer;\n",
              "      display: none;\n",
              "      fill: #1967D2;\n",
              "      height: 32px;\n",
              "      padding: 0 0 0 0;\n",
              "      width: 32px;\n",
              "    }\n",
              "\n",
              "    .colab-df-convert:hover {\n",
              "      background-color: #E2EBFA;\n",
              "      box-shadow: 0px 1px 2px rgba(60, 64, 67, 0.3), 0px 1px 3px 1px rgba(60, 64, 67, 0.15);\n",
              "      fill: #174EA6;\n",
              "    }\n",
              "\n",
              "    .colab-df-buttons div {\n",
              "      margin-bottom: 4px;\n",
              "    }\n",
              "\n",
              "    [theme=dark] .colab-df-convert {\n",
              "      background-color: #3B4455;\n",
              "      fill: #D2E3FC;\n",
              "    }\n",
              "\n",
              "    [theme=dark] .colab-df-convert:hover {\n",
              "      background-color: #434B5C;\n",
              "      box-shadow: 0px 1px 3px 1px rgba(0, 0, 0, 0.15);\n",
              "      filter: drop-shadow(0px 1px 2px rgba(0, 0, 0, 0.3));\n",
              "      fill: #FFFFFF;\n",
              "    }\n",
              "  </style>\n",
              "\n",
              "    <script>\n",
              "      const buttonEl =\n",
              "        document.querySelector('#df-3158294c-6c8a-4a71-91dc-caa2d4346d32 button.colab-df-convert');\n",
              "      buttonEl.style.display =\n",
              "        google.colab.kernel.accessAllowed ? 'block' : 'none';\n",
              "\n",
              "      async function convertToInteractive(key) {\n",
              "        const element = document.querySelector('#df-3158294c-6c8a-4a71-91dc-caa2d4346d32');\n",
              "        const dataTable =\n",
              "          await google.colab.kernel.invokeFunction('convertToInteractive',\n",
              "                                                    [key], {});\n",
              "        if (!dataTable) return;\n",
              "\n",
              "        const docLinkHtml = 'Like what you see? Visit the ' +\n",
              "          '<a target=\"_blank\" href=https://colab.research.google.com/notebooks/data_table.ipynb>data table notebook</a>'\n",
              "          + ' to learn more about interactive tables.';\n",
              "        element.innerHTML = '';\n",
              "        dataTable['output_type'] = 'display_data';\n",
              "        await google.colab.output.renderOutput(dataTable, element);\n",
              "        const docLink = document.createElement('div');\n",
              "        docLink.innerHTML = docLinkHtml;\n",
              "        element.appendChild(docLink);\n",
              "      }\n",
              "    </script>\n",
              "  </div>\n",
              "\n",
              "\n",
              "    <div id=\"df-2feda44c-6a2e-450f-98fd-ec87d6e4a33c\">\n",
              "      <button class=\"colab-df-quickchart\" onclick=\"quickchart('df-2feda44c-6a2e-450f-98fd-ec87d6e4a33c')\"\n",
              "                title=\"Suggest charts\"\n",
              "                style=\"display:none;\">\n",
              "\n",
              "<svg xmlns=\"http://www.w3.org/2000/svg\" height=\"24px\"viewBox=\"0 0 24 24\"\n",
              "     width=\"24px\">\n",
              "    <g>\n",
              "        <path d=\"M19 3H5c-1.1 0-2 .9-2 2v14c0 1.1.9 2 2 2h14c1.1 0 2-.9 2-2V5c0-1.1-.9-2-2-2zM9 17H7v-7h2v7zm4 0h-2V7h2v10zm4 0h-2v-4h2v4z\"/>\n",
              "    </g>\n",
              "</svg>\n",
              "      </button>\n",
              "\n",
              "<style>\n",
              "  .colab-df-quickchart {\n",
              "      --bg-color: #E8F0FE;\n",
              "      --fill-color: #1967D2;\n",
              "      --hover-bg-color: #E2EBFA;\n",
              "      --hover-fill-color: #174EA6;\n",
              "      --disabled-fill-color: #AAA;\n",
              "      --disabled-bg-color: #DDD;\n",
              "  }\n",
              "\n",
              "  [theme=dark] .colab-df-quickchart {\n",
              "      --bg-color: #3B4455;\n",
              "      --fill-color: #D2E3FC;\n",
              "      --hover-bg-color: #434B5C;\n",
              "      --hover-fill-color: #FFFFFF;\n",
              "      --disabled-bg-color: #3B4455;\n",
              "      --disabled-fill-color: #666;\n",
              "  }\n",
              "\n",
              "  .colab-df-quickchart {\n",
              "    background-color: var(--bg-color);\n",
              "    border: none;\n",
              "    border-radius: 50%;\n",
              "    cursor: pointer;\n",
              "    display: none;\n",
              "    fill: var(--fill-color);\n",
              "    height: 32px;\n",
              "    padding: 0;\n",
              "    width: 32px;\n",
              "  }\n",
              "\n",
              "  .colab-df-quickchart:hover {\n",
              "    background-color: var(--hover-bg-color);\n",
              "    box-shadow: 0 1px 2px rgba(60, 64, 67, 0.3), 0 1px 3px 1px rgba(60, 64, 67, 0.15);\n",
              "    fill: var(--button-hover-fill-color);\n",
              "  }\n",
              "\n",
              "  .colab-df-quickchart-complete:disabled,\n",
              "  .colab-df-quickchart-complete:disabled:hover {\n",
              "    background-color: var(--disabled-bg-color);\n",
              "    fill: var(--disabled-fill-color);\n",
              "    box-shadow: none;\n",
              "  }\n",
              "\n",
              "  .colab-df-spinner {\n",
              "    border: 2px solid var(--fill-color);\n",
              "    border-color: transparent;\n",
              "    border-bottom-color: var(--fill-color);\n",
              "    animation:\n",
              "      spin 1s steps(1) infinite;\n",
              "  }\n",
              "\n",
              "  @keyframes spin {\n",
              "    0% {\n",
              "      border-color: transparent;\n",
              "      border-bottom-color: var(--fill-color);\n",
              "      border-left-color: var(--fill-color);\n",
              "    }\n",
              "    20% {\n",
              "      border-color: transparent;\n",
              "      border-left-color: var(--fill-color);\n",
              "      border-top-color: var(--fill-color);\n",
              "    }\n",
              "    30% {\n",
              "      border-color: transparent;\n",
              "      border-left-color: var(--fill-color);\n",
              "      border-top-color: var(--fill-color);\n",
              "      border-right-color: var(--fill-color);\n",
              "    }\n",
              "    40% {\n",
              "      border-color: transparent;\n",
              "      border-right-color: var(--fill-color);\n",
              "      border-top-color: var(--fill-color);\n",
              "    }\n",
              "    60% {\n",
              "      border-color: transparent;\n",
              "      border-right-color: var(--fill-color);\n",
              "    }\n",
              "    80% {\n",
              "      border-color: transparent;\n",
              "      border-right-color: var(--fill-color);\n",
              "      border-bottom-color: var(--fill-color);\n",
              "    }\n",
              "    90% {\n",
              "      border-color: transparent;\n",
              "      border-bottom-color: var(--fill-color);\n",
              "    }\n",
              "  }\n",
              "</style>\n",
              "\n",
              "      <script>\n",
              "        async function quickchart(key) {\n",
              "          const quickchartButtonEl =\n",
              "            document.querySelector('#' + key + ' button');\n",
              "          quickchartButtonEl.disabled = true;  // To prevent multiple clicks.\n",
              "          quickchartButtonEl.classList.add('colab-df-spinner');\n",
              "          try {\n",
              "            const charts = await google.colab.kernel.invokeFunction(\n",
              "                'suggestCharts', [key], {});\n",
              "          } catch (error) {\n",
              "            console.error('Error during call to suggestCharts:', error);\n",
              "          }\n",
              "          quickchartButtonEl.classList.remove('colab-df-spinner');\n",
              "          quickchartButtonEl.classList.add('colab-df-quickchart-complete');\n",
              "        }\n",
              "        (() => {\n",
              "          let quickchartButtonEl =\n",
              "            document.querySelector('#df-2feda44c-6a2e-450f-98fd-ec87d6e4a33c button');\n",
              "          quickchartButtonEl.style.display =\n",
              "            google.colab.kernel.accessAllowed ? 'block' : 'none';\n",
              "        })();\n",
              "      </script>\n",
              "    </div>\n",
              "\n",
              "    </div>\n",
              "  </div>\n"
            ],
            "application/vnd.google.colaboratory.intrinsic+json": {
              "type": "dataframe",
              "summary": "{\n  \"name\": \"df\",\n  \"rows\": 8,\n  \"fields\": [\n    {\n      \"column\": \"AGE\",\n      \"properties\": {\n        \"dtype\": \"number\",\n        \"std\": 142.3445498514995,\n        \"min\": 13.109027822041087,\n        \"max\": 442.0,\n        \"num_unique_values\": 8,\n        \"samples\": [\n          48.51809954751131,\n          50.0,\n          442.0\n        ],\n        \"semantic_type\": \"\",\n        \"description\": \"\"\n      }\n    },\n    {\n      \"column\": \"SEX\",\n      \"properties\": {\n        \"dtype\": \"number\",\n        \"std\": 155.81853051275928,\n        \"min\": 0.49956117043535386,\n        \"max\": 442.0,\n        \"num_unique_values\": 5,\n        \"samples\": [\n          1.4683257918552035,\n          2.0,\n          0.49956117043535386\n        ],\n        \"semantic_type\": \"\",\n        \"description\": \"\"\n      }\n    },\n    {\n      \"column\": \"BMI\",\n      \"properties\": {\n        \"dtype\": \"number\",\n        \"std\": 148.10655803382107,\n        \"min\": 4.4181215606157735,\n        \"max\": 442.0,\n        \"num_unique_values\": 8,\n        \"samples\": [\n          26.37579185520362,\n          25.7,\n          442.0\n        ],\n        \"semantic_type\": \"\",\n        \"description\": \"\"\n      }\n    },\n    {\n      \"column\": \"BP\",\n      \"properties\": {\n        \"dtype\": \"number\",\n        \"std\": 131.37318993197263,\n        \"min\": 13.831283419783,\n        \"max\": 442.0,\n        \"num_unique_values\": 8,\n        \"samples\": [\n          94.64701357466062,\n          93.0,\n          442.0\n        ],\n        \"semantic_type\": \"\",\n        \"description\": \"\"\n      }\n    },\n    {\n      \"column\": \"S1\",\n      \"properties\": {\n        \"dtype\": \"number\",\n        \"std\": 124.41006930843278,\n        \"min\": 34.60805167504308,\n        \"max\": 442.0,\n        \"num_unique_values\": 8,\n        \"samples\": [\n          189.14027149321268,\n          186.0,\n          442.0\n        ],\n        \"semantic_type\": \"\",\n        \"description\": \"\"\n      }\n    },\n    {\n      \"column\": \"S2\",\n      \"properties\": {\n        \"dtype\": \"number\",\n        \"std\": 133.91788698198644,\n        \"min\": 30.413080969276532,\n        \"max\": 442.0,\n        \"num_unique_values\": 8,\n        \"samples\": [\n          115.43914027149322,\n          113.0,\n          442.0\n        ],\n        \"semantic_type\": \"\",\n        \"description\": \"\"\n      }\n    },\n    {\n      \"column\": \"S3\",\n      \"properties\": {\n        \"dtype\": \"number\",\n        \"std\": 141.98079637779475,\n        \"min\": 12.934202154863332,\n        \"max\": 442.0,\n        \"num_unique_values\": 8,\n        \"samples\": [\n          49.78846153846154,\n          48.0,\n          442.0\n        ],\n        \"semantic_type\": \"\",\n        \"description\": \"\"\n      }\n    },\n    {\n      \"column\": \"S4\",\n      \"properties\": {\n        \"dtype\": \"number\",\n        \"std\": 154.8517160708843,\n        \"min\": 1.2904498966082774,\n        \"max\": 442.0,\n        \"num_unique_values\": 8,\n        \"samples\": [\n          4.070248868778281,\n          4.0,\n          442.0\n        ],\n        \"semantic_type\": \"\",\n        \"description\": \"\"\n      }\n    },\n    {\n      \"column\": \"S5\",\n      \"properties\": {\n        \"dtype\": \"number\",\n        \"std\": 154.84375806952278,\n        \"min\": 0.5223905610694908,\n        \"max\": 442.0,\n        \"num_unique_values\": 8,\n        \"samples\": [\n          4.641410859728507,\n          4.62005,\n          442.0\n        ],\n        \"semantic_type\": \"\",\n        \"description\": \"\"\n      }\n    },\n    {\n      \"column\": \"S6\",\n      \"properties\": {\n        \"dtype\": \"number\",\n        \"std\": 132.35687501043222,\n        \"min\": 11.496334739334165,\n        \"max\": 442.0,\n        \"num_unique_values\": 8,\n        \"samples\": [\n          91.26018099547511,\n          91.0,\n          442.0\n        ],\n        \"semantic_type\": \"\",\n        \"description\": \"\"\n      }\n    },\n    {\n      \"column\": \"Y\",\n      \"properties\": {\n        \"dtype\": \"number\",\n        \"std\": 142.71872411929326,\n        \"min\": 25.0,\n        \"max\": 442.0,\n        \"num_unique_values\": 8,\n        \"samples\": [\n          152.13348416289594,\n          140.5,\n          442.0\n        ],\n        \"semantic_type\": \"\",\n        \"description\": \"\"\n      }\n    }\n  ]\n}"
            }
          },
          "metadata": {},
          "execution_count": 5
        }
      ]
    },
    {
      "cell_type": "markdown",
      "source": [
        "## Se crean los histogramas para cada uno de los rasgos que caracteriza a los pacientes con diabetes:"
      ],
      "metadata": {
        "id": "YfBqrq6OcPSK"
      }
    },
    {
      "cell_type": "code",
      "source": [
        "plt.figure(figsize=(20,8))\n",
        "\n",
        "ax1 = plt.subplot(2,4,1)\n",
        "ax2 = plt.subplot(2,4,2)\n",
        "ax3 = plt.subplot(2,4,3)\n",
        "ax4 = plt.subplot(2,4,4)\n",
        "\n",
        "ax1.hist(df.AGE, bins=100, color='green',edgecolor='purple', alpha=0.5)\n",
        "ax1.set_xlabel('Age (years)', size=15)\n",
        "ax1.set_ylabel('Frequency', size=15)\n",
        "\n",
        "ax2.hist(df.SEX, bins=2, color='orange',edgecolor='purple', alpha=0.5)\n",
        "ax2.set_xlabel('Sex', size=15)\n",
        "\n",
        "ax3.hist(df.BMI, bins=30, color='red',edgecolor='purple', alpha=0.5)\n",
        "ax3.set_xlabel('Body_mass_index', size=15)\n",
        "\n",
        "ax4.hist(df.BP, bins=30, color='blue',edgecolor='purple', alpha=0.5)\n",
        "ax4.set_xlabel('Mean_Arterial_Pressure', size=15);"
      ],
      "metadata": {
        "colab": {
          "base_uri": "https://localhost:8080/",
          "height": 299
        },
        "id": "zeMk1mjScIOx",
        "outputId": "71e7fb1c-48d3-4cee-b4d8-047ba34226e6"
      },
      "execution_count": 6,
      "outputs": [
        {
          "output_type": "display_data",
          "data": {
            "text/plain": [
              "<Figure size 2000x800 with 4 Axes>"
            ],
            "image/png": "[encoded data removed]"
          },
          "metadata": {}
        }
      ]
    },
    {
      "cell_type": "code",
      "source": [
        "plt.figure(figsize=(20,8))\n",
        "\n",
        "ax1 = plt.subplot(2,4,1)\n",
        "ax2 = plt.subplot(2,4,2)\n",
        "ax3 = plt.subplot(2,4,3)\n",
        "ax4 = plt.subplot(2,4,4)\n",
        "\n",
        "ax1.hist(df.S1, bins=30, color='green',edgecolor='purple', alpha=0.5)\n",
        "ax1.set_xlabel('Total Cholesterol', size=15)\n",
        "ax1.set_ylabel('Frequency', size=15)\n",
        "\n",
        "ax2.hist(df.S2, bins=30, color='orange',edgecolor='purple', alpha=0.5)\n",
        "ax2.set_xlabel('Low Density lipoproteins', size=15)\n",
        "\n",
        "ax3.hist(df.S3, bins=30, color='red',edgecolor='purple', alpha=0.5)\n",
        "ax3.set_xlabel('High Density lipoproteins', size=15)\n",
        "\n",
        "ax4.hist(df.S4, bins=30, color='blue',edgecolor='purple', alpha=0.5)\n",
        "ax4.set_xlabel('Triglyceride', size=15);"
      ],
      "metadata": {
        "colab": {
          "base_uri": "https://localhost:8080/",
          "height": 300
        },
        "id": "jwuljvDdcc-j",
        "outputId": "6bd173a2-f5a0-4c55-aa7d-a41babd6f212"
      },
      "execution_count": 7,
      "outputs": [
        {
          "output_type": "display_data",
          "data": {
            "text/plain": [
              "<Figure size 2000x800 with 4 Axes>"
            ],
            "image/png": "[encoded data removed]"
          },
          "metadata": {}
        }
      ]
    },
    {
      "cell_type": "code",
      "source": [
        "plt.figure(figsize=(15,8))\n",
        "\n",
        "ax1 = plt.subplot(2,3,1)\n",
        "ax2 = plt.subplot(2,3,2)\n",
        "ax3 = plt.subplot(2,3,3)\n",
        "\n",
        "ax1.hist(df.S5, bins=30, color='green',edgecolor='purple', alpha=0.5)\n",
        "ax1.set_xlabel('Serum Concentration of Lamorigine', size=15)\n",
        "ax1.set_ylabel('Frequency', size=15)\n",
        "\n",
        "ax2.hist(df.S6, bins=30, color='orange',edgecolor='purple', alpha=0.5)\n",
        "ax2.set_xlabel('Glucose', size=15)\n",
        "\n",
        "ax3.hist(df.Y, bins=30, color='purple',edgecolor='black', alpha=0.5)\n",
        "ax3.set_xlabel('Y(Diabetes Mellitus Disease Progression)', size=15)"
      ],
      "metadata": {
        "colab": {
          "base_uri": "https://localhost:8080/",
          "height": 384
        },
        "id": "2mUgKEXVc3J-",
        "outputId": "70ace1b2-da0a-4a71-eca3-c740c535df94"
      },
      "execution_count": 8,
      "outputs": [
        {
          "output_type": "execute_result",
          "data": {
            "text/plain": [
              "Text(0.5, 0, 'Y(Diabetes Mellitus Disease Progression)')"
            ]
          },
          "metadata": {},
          "execution_count": 8
        },
        {
          "output_type": "display_data",
          "data": {
            "text/plain": [
              "<Figure size 1500x800 with 3 Axes>"
            ],
            "image/png": "[encoded data removed]"
          },
          "metadata": {}
        }
      ]
    },
    {
      "cell_type": "markdown",
      "source": [
        "## Análisis usando regresión Lineal"
      ],
      "metadata": {
        "id": "9YU4OXx7dTvo"
      }
    },
    {
      "cell_type": "markdown",
      "source": [
        "En modelado estadístico, es un conjunto de procesos estadísticos para estimar las relaciones entre una variable dependiente (a menudo denominada «variable de resultado») y una o más variables independientes (a menudo denominadas «predictores», «covariables» o «características»).\n",
        "\n",
        "Más información: Análisis de regresión"
      ],
      "metadata": {
        "id": "MRR6qfPWdkng"
      }
    },
    {
      "cell_type": "markdown",
      "source": [
        "Implementacion de un sistema de aprendizaje, empleando un análisis de regresion lineal\n",
        "\n",
        "Los pasos principales para construir el sistema son:\n",
        "- Definir un modelo proponiendo un algoritmo que relacione las variables X y Y.\n",
        "- Inicializar las variables asociadas al modelo ω, β (pesos y biases).\n",
        "- Realizar lo siguiente en cada época:\n",
        "  - Calcular el costo (J).\n",
        "  - Calcular el gradiente del costo respecto a las variables asociadas al modelo.\n",
        "  - Actualizar los pesos y los biases empleando el algoritmo propuesto para optimización. Por ejemplo, gradiente descendente"
      ],
      "metadata": {
        "id": "se1RFoXKdsRX"
      }
    },
    {
      "cell_type": "markdown",
      "source": [
        "Si se tienen $m$ muestras.\n",
        "    \n",
        "Para una muestra $j\\in m$, con sus valores de la variable $x$, $x^{(j)}$, se genera la variable $z^{(j)}$ mediante la siguiente relación lineal:\n",
        "\n",
        "$$z^{(j)} = w^T x^{(j)} + b = \\sum_{i \\in j} w_{i} x_{i}^{(j)} + b $$\n",
        "\n",
        "$z^{(j)}$ es la combinacion lineal entre los pesos, $w_{i}$ y los valores $x^{(j)}$ + el bias b. Posteriormente esta sumatoria es transformada (activada) con una función, para generar la variable de salida $a^{(j)}$.\n",
        "    \n",
        "Dado que inicialmente nos interesa realizar un aprendizaje con con regresión lineal, la función de transformación es la identidad $f(z)=z$.\n",
        "\n",
        "$$F(x^{(j)}) = a^{(j)} = f(z^{(j)})=z^{(j)}$$\n",
        "\n",
        "Para realizar el aprendizaje, se genera una métrica definida por la función de perdida (*loss*), tambien llamada función de costo *cost*, $J$. Esta función se obtienes realizando el promedio, sobre todas las $m$ muestras, de la diferencia al cuadrado entre el valor ($y^{(j)}$) de la muestra $j$ y el valor de la función $F(x^{(j)})$.  \n",
        "\n",
        "$$ J = \\frac{1}{m} \\sum_{j=1}^m (y^{(j)} -F(x^{(j)}))^2$$\n"
      ],
      "metadata": {
        "id": "9HQlrwMehUG6"
      }
    },
    {
      "cell_type": "code",
      "source": [
        "# para evitar cualquier posible correlación en las muestras se vuelven a ordenar de manera aleatoria\n",
        "df = df.sample(frac=1)"
      ],
      "metadata": {
        "id": "2cEaJoSdc7L7"
      },
      "execution_count": 9,
      "outputs": []
    },
    {
      "cell_type": "code",
      "source": [
        "# para observar las dimensiones del conjunto con que estamos trabjando usamos shape\n",
        "print(df.shape)"
      ],
      "metadata": {
        "colab": {
          "base_uri": "https://localhost:8080/"
        },
        "id": "60xKFYaLdhAK",
        "outputId": "2280969e-0bc6-40d7-b2af-804952ee39d3"
      },
      "execution_count": 10,
      "outputs": [
        {
          "output_type": "stream",
          "name": "stdout",
          "text": [
            "(442, 11)\n"
          ]
        }
      ]
    },
    {
      "cell_type": "code",
      "source": [
        "print(len(df.values[:,:]))"
      ],
      "metadata": {
        "colab": {
          "base_uri": "https://localhost:8080/"
        },
        "id": "49Mhx8IpiA7Z",
        "outputId": "76c70854-2d47-4338-c3bb-f717f2747d10"
      },
      "execution_count": 11,
      "outputs": [
        {
          "output_type": "stream",
          "name": "stdout",
          "text": [
            "442\n"
          ]
        }
      ]
    },
    {
      "cell_type": "code",
      "source": [
        "# se divide el cjto original para entrenar el modelo y posteriormente para hacer pruebas\n",
        "test_ratio = 0.2 # usamos en esta ocasión una división de 80% / 20%\n",
        "\n",
        "train_ratio = int((1.0-test_ratio)*len(df.values[:,:]))\n",
        "\n",
        "df_train = df.iloc[0:train_ratio,:]\n",
        "df_test  = df.iloc[train_ratio:,:]"
      ],
      "metadata": {
        "id": "QUjMrmhjiurX"
      },
      "execution_count": 12,
      "outputs": []
    },
    {
      "cell_type": "code",
      "source": [
        "print(df_train.shape) # 80%\n",
        "print(df_test.shape) # 20%"
      ],
      "metadata": {
        "colab": {
          "base_uri": "https://localhost:8080/"
        },
        "id": "nP1VE9dXjSWN",
        "outputId": "e81bcf83-32cc-4808-ff48-85397ee2f057"
      },
      "execution_count": 13,
      "outputs": [
        {
          "output_type": "stream",
          "name": "stdout",
          "text": [
            "(353, 11)\n",
            "(89, 11)\n"
          ]
        }
      ]
    },
    {
      "cell_type": "markdown",
      "source": [
        "Para trabajar con los modelos de aprendizaje,es adecuado que todas las variables tengan el mismo orden de magnitud. Por ello, se normalizan sus valores en las muestras que se emplearán en el entrenamiento, tanto los rasgos (X) y las variables objetivo (Y):\n",
        "\n",
        "$$x_{i,norm} = \\dfrac{x_{i}-\\mu}{\\sigma}$$\n",
        "    \n",
        "$$y_{i,norm} = \\dfrac{y_{i}-\\mu}{\\sigma}$$"
      ],
      "metadata": {
        "id": "Fd3AnuAjkXRh"
      }
    },
    {
      "cell_type": "code",
      "source": [
        "df_train_norm = (df_train - df_train.mean()) / df_train.std()\n",
        "df_train_norm.head()"
      ],
      "metadata": {
        "colab": {
          "base_uri": "https://localhost:8080/",
          "height": 206
        },
        "id": "enGKzvIGjUdz",
        "outputId": "c0435f5e-378e-43ec-8f61-52112eb0fb05"
      },
      "execution_count": 14,
      "outputs": [
        {
          "output_type": "execute_result",
          "data": {
            "text/plain": [
              "          AGE      SEX       BMI        BP        S1        S2        S3  \\\n",
              "33   0.688240 -0.96246 -1.011848 -0.030894 -0.941563 -1.899195  2.427414   \n",
              "298  0.534426  1.03606 -0.746153 -0.965821 -1.933544 -1.596828 -0.684777   \n",
              "71  -0.003922 -0.96246  0.715168  2.630052  0.517232  0.539458 -0.229334   \n",
              "338 -1.311338 -0.96246 -0.657588 -0.678151  0.021241  0.493445 -0.532962   \n",
              "357 -1.234431  1.03606  1.047287  0.400611 -0.358045 -0.643716 -0.381148   \n",
              "\n",
              "           S4        S5        S6         Y  \n",
              "33  -1.564402 -0.340890  0.080588 -0.824755  \n",
              "298 -0.803760 -0.606009 -0.265280 -0.278260  \n",
              "71  -0.043117  0.599841  1.291129  1.556400  \n",
              "338 -0.043117 -0.433280 -1.216420  0.827741  \n",
              "357 -0.043117  1.083597 -1.216420  0.918823  "
            ],
            "text/html": [
              "\n",
              "  <div id=\"df-a9831421-5613-4b7b-9f58-fc824d72a97b\" class=\"colab-df-container\">\n",
              "    <div>\n",
              "<style scoped>\n",
              "    .dataframe tbody tr th:only-of-type {\n",
              "        vertical-align: middle;\n",
              "    }\n",
              "\n",
              "    .dataframe tbody tr th {\n",
              "        vertical-align: top;\n",
              "    }\n",
              "\n",
              "    .dataframe thead th {\n",
              "        text-align: right;\n",
              "    }\n",
              "</style>\n",
              "<table border=\"1\" class=\"dataframe\">\n",
              "  <thead>\n",
              "    <tr style=\"text-align: right;\">\n",
              "      <th></th>\n",
              "      <th>AGE</th>\n",
              "      <th>SEX</th>\n",
              "      <th>BMI</th>\n",
              "      <th>BP</th>\n",
              "      <th>S1</th>\n",
              "      <th>S2</th>\n",
              "      <th>S3</th>\n",
              "      <th>S4</th>\n",
              "      <th>S5</th>\n",
              "      <th>S6</th>\n",
              "      <th>Y</th>\n",
              "    </tr>\n",
              "  </thead>\n",
              "  <tbody>\n",
              "    <tr>\n",
              "      <th>33</th>\n",
              "      <td>0.688240</td>\n",
              "      <td>-0.96246</td>\n",
              "      <td>-1.011848</td>\n",
              "      <td>-0.030894</td>\n",
              "      <td>-0.941563</td>\n",
              "      <td>-1.899195</td>\n",
              "      <td>2.427414</td>\n",
              "      <td>-1.564402</td>\n",
              "      <td>-0.340890</td>\n",
              "      <td>0.080588</td>\n",
              "      <td>-0.824755</td>\n",
              "    </tr>\n",
              "    <tr>\n",
              "      <th>298</th>\n",
              "      <td>0.534426</td>\n",
              "      <td>1.03606</td>\n",
              "      <td>-0.746153</td>\n",
              "      <td>-0.965821</td>\n",
              "      <td>-1.933544</td>\n",
              "      <td>-1.596828</td>\n",
              "      <td>-0.684777</td>\n",
              "      <td>-0.803760</td>\n",
              "      <td>-0.606009</td>\n",
              "      <td>-0.265280</td>\n",
              "      <td>-0.278260</td>\n",
              "    </tr>\n",
              "    <tr>\n",
              "      <th>71</th>\n",
              "      <td>-0.003922</td>\n",
              "      <td>-0.96246</td>\n",
              "      <td>0.715168</td>\n",
              "      <td>2.630052</td>\n",
              "      <td>0.517232</td>\n",
              "      <td>0.539458</td>\n",
              "      <td>-0.229334</td>\n",
              "      <td>-0.043117</td>\n",
              "      <td>0.599841</td>\n",
              "      <td>1.291129</td>\n",
              "      <td>1.556400</td>\n",
              "    </tr>\n",
              "    <tr>\n",
              "      <th>338</th>\n",
              "      <td>-1.311338</td>\n",
              "      <td>-0.96246</td>\n",
              "      <td>-0.657588</td>\n",
              "      <td>-0.678151</td>\n",
              "      <td>0.021241</td>\n",
              "      <td>0.493445</td>\n",
              "      <td>-0.532962</td>\n",
              "      <td>-0.043117</td>\n",
              "      <td>-0.433280</td>\n",
              "      <td>-1.216420</td>\n",
              "      <td>0.827741</td>\n",
              "    </tr>\n",
              "    <tr>\n",
              "      <th>357</th>\n",
              "      <td>-1.234431</td>\n",
              "      <td>1.03606</td>\n",
              "      <td>1.047287</td>\n",
              "      <td>0.400611</td>\n",
              "      <td>-0.358045</td>\n",
              "      <td>-0.643716</td>\n",
              "      <td>-0.381148</td>\n",
              "      <td>-0.043117</td>\n",
              "      <td>1.083597</td>\n",
              "      <td>-1.216420</td>\n",
              "      <td>0.918823</td>\n",
              "    </tr>\n",
              "  </tbody>\n",
              "</table>\n",
              "</div>\n",
              "    <div class=\"colab-df-buttons\">\n",
              "\n",
              "  <div class=\"colab-df-container\">\n",
              "    <button class=\"colab-df-convert\" onclick=\"convertToInteractive('df-a9831421-5613-4b7b-9f58-fc824d72a97b')\"\n",
              "            title=\"Convert this dataframe to an interactive table.\"\n",
              "            style=\"display:none;\">\n",
              "\n",
              "  <svg xmlns=\"http://www.w3.org/2000/svg\" height=\"24px\" viewBox=\"0 -960 960 960\">\n",
              "    <path d=\"M120-120v-720h720v720H120Zm60-500h600v-160H180v160Zm220 220h160v-160H400v160Zm0 220h160v-160H400v160ZM180-400h160v-160H180v160Zm440 0h160v-160H620v160ZM180-180h160v-160H180v160Zm440 0h160v-160H620v160Z\"/>\n",
              "  </svg>\n",
              "    </button>\n",
              "\n",
              "  <style>\n",
              "    .colab-df-container {\n",
              "      display:flex;\n",
              "      gap: 12px;\n",
              "    }\n",
              "\n",
              "    .colab-df-convert {\n",
              "      background-color: #E8F0FE;\n",
              "      border: none;\n",
              "      border-radius: 50%;\n",
              "      cursor: pointer;\n",
              "      display: none;\n",
              "      fill: #1967D2;\n",
              "      height: 32px;\n",
              "      padding: 0 0 0 0;\n",
              "      width: 32px;\n",
              "    }\n",
              "\n",
              "    .colab-df-convert:hover {\n",
              "      background-color: #E2EBFA;\n",
              "      box-shadow: 0px 1px 2px rgba(60, 64, 67, 0.3), 0px 1px 3px 1px rgba(60, 64, 67, 0.15);\n",
              "      fill: #174EA6;\n",
              "    }\n",
              "\n",
              "    .colab-df-buttons div {\n",
              "      margin-bottom: 4px;\n",
              "    }\n",
              "\n",
              "    [theme=dark] .colab-df-convert {\n",
              "      background-color: #3B4455;\n",
              "      fill: #D2E3FC;\n",
              "    }\n",
              "\n",
              "    [theme=dark] .colab-df-convert:hover {\n",
              "      background-color: #434B5C;\n",
              "      box-shadow: 0px 1px 3px 1px rgba(0, 0, 0, 0.15);\n",
              "      filter: drop-shadow(0px 1px 2px rgba(0, 0, 0, 0.3));\n",
              "      fill: #FFFFFF;\n",
              "    }\n",
              "  </style>\n",
              "\n",
              "    <script>\n",
              "      const buttonEl =\n",
              "        document.querySelector('#df-a9831421-5613-4b7b-9f58-fc824d72a97b button.colab-df-convert');\n",
              "      buttonEl.style.display =\n",
              "        google.colab.kernel.accessAllowed ? 'block' : 'none';\n",
              "\n",
              "      async function convertToInteractive(key) {\n",
              "        const element = document.querySelector('#df-a9831421-5613-4b7b-9f58-fc824d72a97b');\n",
              "        const dataTable =\n",
              "          await google.colab.kernel.invokeFunction('convertToInteractive',\n",
              "                                                    [key], {});\n",
              "        if (!dataTable) return;\n",
              "\n",
              "        const docLinkHtml = 'Like what you see? Visit the ' +\n",
              "          '<a target=\"_blank\" href=https://colab.research.google.com/notebooks/data_table.ipynb>data table notebook</a>'\n",
              "          + ' to learn more about interactive tables.';\n",
              "        element.innerHTML = '';\n",
              "        dataTable['output_type'] = 'display_data';\n",
              "        await google.colab.output.renderOutput(dataTable, element);\n",
              "        const docLink = document.createElement('div');\n",
              "        docLink.innerHTML = docLinkHtml;\n",
              "        element.appendChild(docLink);\n",
              "      }\n",
              "    </script>\n",
              "  </div>\n",
              "\n",
              "\n",
              "    <div id=\"df-11002ad7-cfeb-441d-9411-e53981888a37\">\n",
              "      <button class=\"colab-df-quickchart\" onclick=\"quickchart('df-11002ad7-cfeb-441d-9411-e53981888a37')\"\n",
              "                title=\"Suggest charts\"\n",
              "                style=\"display:none;\">\n",
              "\n",
              "<svg xmlns=\"http://www.w3.org/2000/svg\" height=\"24px\"viewBox=\"0 0 24 24\"\n",
              "     width=\"24px\">\n",
              "    <g>\n",
              "        <path d=\"M19 3H5c-1.1 0-2 .9-2 2v14c0 1.1.9 2 2 2h14c1.1 0 2-.9 2-2V5c0-1.1-.9-2-2-2zM9 17H7v-7h2v7zm4 0h-2V7h2v10zm4 0h-2v-4h2v4z\"/>\n",
              "    </g>\n",
              "</svg>\n",
              "      </button>\n",
              "\n",
              "<style>\n",
              "  .colab-df-quickchart {\n",
              "      --bg-color: #E8F0FE;\n",
              "      --fill-color: #1967D2;\n",
              "      --hover-bg-color: #E2EBFA;\n",
              "      --hover-fill-color: #174EA6;\n",
              "      --disabled-fill-color: #AAA;\n",
              "      --disabled-bg-color: #DDD;\n",
              "  }\n",
              "\n",
              "  [theme=dark] .colab-df-quickchart {\n",
              "      --bg-color: #3B4455;\n",
              "      --fill-color: #D2E3FC;\n",
              "      --hover-bg-color: #434B5C;\n",
              "      --hover-fill-color: #FFFFFF;\n",
              "      --disabled-bg-color: #3B4455;\n",
              "      --disabled-fill-color: #666;\n",
              "  }\n",
              "\n",
              "  .colab-df-quickchart {\n",
              "    background-color: var(--bg-color);\n",
              "    border: none;\n",
              "    border-radius: 50%;\n",
              "    cursor: pointer;\n",
              "    display: none;\n",
              "    fill: var(--fill-color);\n",
              "    height: 32px;\n",
              "    padding: 0;\n",
              "    width: 32px;\n",
              "  }\n",
              "\n",
              "  .colab-df-quickchart:hover {\n",
              "    background-color: var(--hover-bg-color);\n",
              "    box-shadow: 0 1px 2px rgba(60, 64, 67, 0.3), 0 1px 3px 1px rgba(60, 64, 67, 0.15);\n",
              "    fill: var(--button-hover-fill-color);\n",
              "  }\n",
              "\n",
              "  .colab-df-quickchart-complete:disabled,\n",
              "  .colab-df-quickchart-complete:disabled:hover {\n",
              "    background-color: var(--disabled-bg-color);\n",
              "    fill: var(--disabled-fill-color);\n",
              "    box-shadow: none;\n",
              "  }\n",
              "\n",
              "  .colab-df-spinner {\n",
              "    border: 2px solid var(--fill-color);\n",
              "    border-color: transparent;\n",
              "    border-bottom-color: var(--fill-color);\n",
              "    animation:\n",
              "      spin 1s steps(1) infinite;\n",
              "  }\n",
              "\n",
              "  @keyframes spin {\n",
              "    0% {\n",
              "      border-color: transparent;\n",
              "      border-bottom-color: var(--fill-color);\n",
              "      border-left-color: var(--fill-color);\n",
              "    }\n",
              "    20% {\n",
              "      border-color: transparent;\n",
              "      border-left-color: var(--fill-color);\n",
              "      border-top-color: var(--fill-color);\n",
              "    }\n",
              "    30% {\n",
              "      border-color: transparent;\n",
              "      border-left-color: var(--fill-color);\n",
              "      border-top-color: var(--fill-color);\n",
              "      border-right-color: var(--fill-color);\n",
              "    }\n",
              "    40% {\n",
              "      border-color: transparent;\n",
              "      border-right-color: var(--fill-color);\n",
              "      border-top-color: var(--fill-color);\n",
              "    }\n",
              "    60% {\n",
              "      border-color: transparent;\n",
              "      border-right-color: var(--fill-color);\n",
              "    }\n",
              "    80% {\n",
              "      border-color: transparent;\n",
              "      border-right-color: var(--fill-color);\n",
              "      border-bottom-color: var(--fill-color);\n",
              "    }\n",
              "    90% {\n",
              "      border-color: transparent;\n",
              "      border-bottom-color: var(--fill-color);\n",
              "    }\n",
              "  }\n",
              "</style>\n",
              "\n",
              "      <script>\n",
              "        async function quickchart(key) {\n",
              "          const quickchartButtonEl =\n",
              "            document.querySelector('#' + key + ' button');\n",
              "          quickchartButtonEl.disabled = true;  // To prevent multiple clicks.\n",
              "          quickchartButtonEl.classList.add('colab-df-spinner');\n",
              "          try {\n",
              "            const charts = await google.colab.kernel.invokeFunction(\n",
              "                'suggestCharts', [key], {});\n",
              "          } catch (error) {\n",
              "            console.error('Error during call to suggestCharts:', error);\n",
              "          }\n",
              "          quickchartButtonEl.classList.remove('colab-df-spinner');\n",
              "          quickchartButtonEl.classList.add('colab-df-quickchart-complete');\n",
              "        }\n",
              "        (() => {\n",
              "          let quickchartButtonEl =\n",
              "            document.querySelector('#df-11002ad7-cfeb-441d-9411-e53981888a37 button');\n",
              "          quickchartButtonEl.style.display =\n",
              "            google.colab.kernel.accessAllowed ? 'block' : 'none';\n",
              "        })();\n",
              "      </script>\n",
              "    </div>\n",
              "\n",
              "    </div>\n",
              "  </div>\n"
            ],
            "application/vnd.google.colaboratory.intrinsic+json": {
              "type": "dataframe",
              "variable_name": "df_train_norm",
              "summary": "{\n  \"name\": \"df_train_norm\",\n  \"rows\": 353,\n  \"fields\": [\n    {\n      \"column\": \"AGE\",\n      \"properties\": {\n        \"dtype\": \"number\",\n        \"std\": 0.9999999999999996,\n        \"min\": -2.2342206920852257,\n        \"max\": 2.3801912297446206,\n        \"num_unique_values\": 58,\n        \"samples\": [\n          0.6882401917403437,\n          0.07298526882969754,\n          -1.9265932306299025\n        ],\n        \"semantic_type\": \"\",\n        \"description\": \"\"\n      }\n    },\n    {\n      \"column\": \"SEX\",\n      \"properties\": {\n        \"dtype\": \"number\",\n        \"std\": 0.9999999999999991,\n        \"min\": -0.9624604557847393,\n        \"max\": 1.0360603729918072,\n        \"num_unique_values\": 2,\n        \"samples\": [\n          1.0360603729918072,\n          -0.9624604557847393\n        ],\n        \"semantic_type\": \"\",\n        \"description\": \"\"\n      }\n    },\n    {\n      \"column\": \"BMI\",\n      \"properties\": {\n        \"dtype\": \"number\",\n        \"std\": 0.9999999999999994,\n        \"min\": -1.8310736872854154,\n        \"max\": 3.5271046708841447,\n        \"num_unique_values\": 148,\n        \"samples\": [\n          0.9144391904543586,\n          1.2908401494993282\n        ],\n        \"semantic_type\": \"\",\n        \"description\": \"\"\n      }\n    },\n    {\n      \"column\": \"BP\",\n      \"properties\": {\n        \"dtype\": \"number\",\n        \"std\": 1.0,\n        \"min\": -2.3322530293749253,\n        \"max\": 2.773887421864261,\n        \"num_unique_values\": 91,\n        \"samples\": [\n          1.1197855855473413,\n          -0.0071611872824904185\n        ],\n        \"semantic_type\": \"\",\n        \"description\": \"\"\n      }\n    },\n    {\n      \"column\": \"S1\",\n      \"properties\": {\n        \"dtype\": \"number\",\n        \"std\": 0.9999999999999999,\n        \"min\": -2.1961266034706557,\n        \"max\": 3.23058976138864,\n        \"num_unique_values\": 130,\n        \"samples\": [\n          1.334156623131359,\n          -2.0502471312970187\n        ],\n        \"semantic_type\": \"\",\n        \"description\": \"\"\n      }\n    },\n    {\n      \"column\": \"S2\",\n      \"properties\": {\n        \"dtype\": \"number\",\n        \"std\": 1.0000000000000007,\n        \"min\": -2.379037716267785,\n        \"max\": 4.161283994680469,\n        \"num_unique_values\": 260,\n        \"samples\": [\n          1.6240335620914979,\n          -1.9123413931749946\n        ],\n        \"semantic_type\": \"\",\n        \"description\": \"\"\n      }\n    },\n    {\n      \"column\": \"S3\",\n      \"properties\": {\n        \"dtype\": \"number\",\n        \"std\": 1.0,\n        \"min\": -2.0511044227853374,\n        \"max\": 3.717835080751385,\n        \"num_unique_values\": 60,\n        \"samples\": [\n          2.427414402328697,\n          -0.9884050405548884\n        ],\n        \"semantic_type\": \"\",\n        \"description\": \"\"\n      }\n    },\n    {\n      \"column\": \"S4\",\n      \"properties\": {\n        \"dtype\": \"number\",\n        \"std\": 0.9999999999999979,\n        \"min\": -1.5644016272305528,\n        \"max\": 3.828550894888717,\n        \"num_unique_values\": 50,\n        \"samples\": [\n          -0.19524583882227564,\n          -0.01269173370117185\n        ],\n        \"semantic_type\": \"\",\n        \"description\": \"\"\n      }\n    },\n    {\n      \"column\": \"S5\",\n      \"properties\": {\n        \"dtype\": \"number\",\n        \"std\": 1.0000000000000002,\n        \"min\": -2.6068325653081823,\n        \"max\": 2.8426383135074063,\n        \"num_unique_values\": 161,\n        \"samples\": [\n          -1.3946700829797618,\n          0.20369344902848954\n        ],\n        \"semantic_type\": \"\",\n        \"description\": \"\"\n      }\n    },\n    {\n      \"column\": \"S6\",\n      \"properties\": {\n        \"dtype\": \"number\",\n        \"std\": 0.9999999999999999,\n        \"min\": -2.8592964575798048,\n        \"max\": 2.8475388776976978,\n        \"num_unique_values\": 56,\n        \"samples\": [\n          0.08058841210860548,\n          1.6369980490024698\n        ],\n        \"semantic_type\": \"\",\n        \"description\": \"\"\n      }\n    },\n    {\n      \"column\": \"Y\",\n      \"properties\": {\n        \"dtype\": \"number\",\n        \"std\": 1.0000000000000002,\n        \"min\": -1.5534144873795408,\n        \"max\": 2.54529523722877,\n        \"num_unique_values\": 195,\n        \"samples\": [\n          0.021010517946191343,\n          -0.8507785345895446\n        ],\n        \"semantic_type\": \"\",\n        \"description\": \"\"\n      }\n    }\n  ]\n}"
            }
          },
          "metadata": {},
          "execution_count": 14
        }
      ]
    },
    {
      "cell_type": "markdown",
      "source": [
        "\\* Nota importante: La normalización de las muestras de prueba se realiza con los valores de μ y σ obtenidos con las muestras empleadas para el entrenamiento"
      ],
      "metadata": {
        "id": "-LzEFK2Ij_7J"
      }
    },
    {
      "cell_type": "code",
      "source": [
        "df_test_norm = (df_test - df_train.mean()) / df_train.std()\n",
        "df_test_norm.head()"
      ],
      "metadata": {
        "colab": {
          "base_uri": "https://localhost:8080/",
          "height": 206
        },
        "id": "SCnBb3j6kwNM",
        "outputId": "379ecacf-771d-4984-a93f-e6a80345d5ac"
      },
      "execution_count": 15,
      "outputs": [
        {
          "output_type": "execute_result",
          "data": {
            "text/plain": [
              "          AGE      SEX       BMI        BP        S1        S2        S3  \\\n",
              "48   1.457309  1.03606 -0.834718  0.256776  0.050417  0.112200  0.833365   \n",
              "311  2.072564 -0.96246  0.848015 -1.181573  0.954870  1.262508 -0.457055   \n",
              "127  0.765147  1.03606 -0.015493 -0.246646  0.808991  0.276530  1.592436   \n",
              "111  0.457520 -0.96246  0.117355 -0.534316  0.488056  0.204225  1.364715   \n",
              "177  1.072775 -0.96246  0.582321 -0.510583  0.488056  0.375128 -1.292033   \n",
              "\n",
              "           S4        S5        S6         Y  \n",
              "48  -0.803760 -1.208743 -0.438215 -0.980896  \n",
              "311  0.755557  0.302587  0.512924  0.385340  \n",
              "127 -0.803760  0.134640 -1.994624 -0.538496  \n",
              "111 -0.803760 -0.456999 -0.957018 -1.189085  \n",
              "177  1.660721  1.554728  0.685859  0.970870  "
            ],
            "text/html": [
              "\n",
              "  <div id=\"df-2a4aedd1-bb89-4286-89df-7f8485c3b002\" class=\"colab-df-container\">\n",
              "    <div>\n",
              "<style scoped>\n",
              "    .dataframe tbody tr th:only-of-type {\n",
              "        vertical-align: middle;\n",
              "    }\n",
              "\n",
              "    .dataframe tbody tr th {\n",
              "        vertical-align: top;\n",
              "    }\n",
              "\n",
              "    .dataframe thead th {\n",
              "        text-align: right;\n",
              "    }\n",
              "</style>\n",
              "<table border=\"1\" class=\"dataframe\">\n",
              "  <thead>\n",
              "    <tr style=\"text-align: right;\">\n",
              "      <th></th>\n",
              "      <th>AGE</th>\n",
              "      <th>SEX</th>\n",
              "      <th>BMI</th>\n",
              "      <th>BP</th>\n",
              "      <th>S1</th>\n",
              "      <th>S2</th>\n",
              "      <th>S3</th>\n",
              "      <th>S4</th>\n",
              "      <th>S5</th>\n",
              "      <th>S6</th>\n",
              "      <th>Y</th>\n",
              "    </tr>\n",
              "  </thead>\n",
              "  <tbody>\n",
              "    <tr>\n",
              "      <th>48</th>\n",
              "      <td>1.457309</td>\n",
              "      <td>1.03606</td>\n",
              "      <td>-0.834718</td>\n",
              "      <td>0.256776</td>\n",
              "      <td>0.050417</td>\n",
              "      <td>0.112200</td>\n",
              "      <td>0.833365</td>\n",
              "      <td>-0.803760</td>\n",
              "      <td>-1.208743</td>\n",
              "      <td>-0.438215</td>\n",
              "      <td>-0.980896</td>\n",
              "    </tr>\n",
              "    <tr>\n",
              "      <th>311</th>\n",
              "      <td>2.072564</td>\n",
              "      <td>-0.96246</td>\n",
              "      <td>0.848015</td>\n",
              "      <td>-1.181573</td>\n",
              "      <td>0.954870</td>\n",
              "      <td>1.262508</td>\n",
              "      <td>-0.457055</td>\n",
              "      <td>0.755557</td>\n",
              "      <td>0.302587</td>\n",
              "      <td>0.512924</td>\n",
              "      <td>0.385340</td>\n",
              "    </tr>\n",
              "    <tr>\n",
              "      <th>127</th>\n",
              "      <td>0.765147</td>\n",
              "      <td>1.03606</td>\n",
              "      <td>-0.015493</td>\n",
              "      <td>-0.246646</td>\n",
              "      <td>0.808991</td>\n",
              "      <td>0.276530</td>\n",
              "      <td>1.592436</td>\n",
              "      <td>-0.803760</td>\n",
              "      <td>0.134640</td>\n",
              "      <td>-1.994624</td>\n",
              "      <td>-0.538496</td>\n",
              "    </tr>\n",
              "    <tr>\n",
              "      <th>111</th>\n",
              "      <td>0.457520</td>\n",
              "      <td>-0.96246</td>\n",
              "      <td>0.117355</td>\n",
              "      <td>-0.534316</td>\n",
              "      <td>0.488056</td>\n",
              "      <td>0.204225</td>\n",
              "      <td>1.364715</td>\n",
              "      <td>-0.803760</td>\n",
              "      <td>-0.456999</td>\n",
              "      <td>-0.957018</td>\n",
              "      <td>-1.189085</td>\n",
              "    </tr>\n",
              "    <tr>\n",
              "      <th>177</th>\n",
              "      <td>1.072775</td>\n",
              "      <td>-0.96246</td>\n",
              "      <td>0.582321</td>\n",
              "      <td>-0.510583</td>\n",
              "      <td>0.488056</td>\n",
              "      <td>0.375128</td>\n",
              "      <td>-1.292033</td>\n",
              "      <td>1.660721</td>\n",
              "      <td>1.554728</td>\n",
              "      <td>0.685859</td>\n",
              "      <td>0.970870</td>\n",
              "    </tr>\n",
              "  </tbody>\n",
              "</table>\n",
              "</div>\n",
              "    <div class=\"colab-df-buttons\">\n",
              "\n",
              "  <div class=\"colab-df-container\">\n",
              "    <button class=\"colab-df-convert\" onclick=\"convertToInteractive('df-2a4aedd1-bb89-4286-89df-7f8485c3b002')\"\n",
              "            title=\"Convert this dataframe to an interactive table.\"\n",
              "            style=\"display:none;\">\n",
              "\n",
              "  <svg xmlns=\"http://www.w3.org/2000/svg\" height=\"24px\" viewBox=\"0 -960 960 960\">\n",
              "    <path d=\"M120-120v-720h720v720H120Zm60-500h600v-160H180v160Zm220 220h160v-160H400v160Zm0 220h160v-160H400v160ZM180-400h160v-160H180v160Zm440 0h160v-160H620v160ZM180-180h160v-160H180v160Zm440 0h160v-160H620v160Z\"/>\n",
              "  </svg>\n",
              "    </button>\n",
              "\n",
              "  <style>\n",
              "    .colab-df-container {\n",
              "      display:flex;\n",
              "      gap: 12px;\n",
              "    }\n",
              "\n",
              "    .colab-df-convert {\n",
              "      background-color: #E8F0FE;\n",
              "      border: none;\n",
              "      border-radius: 50%;\n",
              "      cursor: pointer;\n",
              "      display: none;\n",
              "      fill: #1967D2;\n",
              "      height: 32px;\n",
              "      padding: 0 0 0 0;\n",
              "      width: 32px;\n",
              "    }\n",
              "\n",
              "    .colab-df-convert:hover {\n",
              "      background-color: #E2EBFA;\n",
              "      box-shadow: 0px 1px 2px rgba(60, 64, 67, 0.3), 0px 1px 3px 1px rgba(60, 64, 67, 0.15);\n",
              "      fill: #174EA6;\n",
              "    }\n",
              "\n",
              "    .colab-df-buttons div {\n",
              "      margin-bottom: 4px;\n",
              "    }\n",
              "\n",
              "    [theme=dark] .colab-df-convert {\n",
              "      background-color: #3B4455;\n",
              "      fill: #D2E3FC;\n",
              "    }\n",
              "\n",
              "    [theme=dark] .colab-df-convert:hover {\n",
              "      background-color: #434B5C;\n",
              "      box-shadow: 0px 1px 3px 1px rgba(0, 0, 0, 0.15);\n",
              "      filter: drop-shadow(0px 1px 2px rgba(0, 0, 0, 0.3));\n",
              "      fill: #FFFFFF;\n",
              "    }\n",
              "  </style>\n",
              "\n",
              "    <script>\n",
              "      const buttonEl =\n",
              "        document.querySelector('#df-2a4aedd1-bb89-4286-89df-7f8485c3b002 button.colab-df-convert');\n",
              "      buttonEl.style.display =\n",
              "        google.colab.kernel.accessAllowed ? 'block' : 'none';\n",
              "\n",
              "      async function convertToInteractive(key) {\n",
              "        const element = document.querySelector('#df-2a4aedd1-bb89-4286-89df-7f8485c3b002');\n",
              "        const dataTable =\n",
              "          await google.colab.kernel.invokeFunction('convertToInteractive',\n",
              "                                                    [key], {});\n",
              "        if (!dataTable) return;\n",
              "\n",
              "        const docLinkHtml = 'Like what you see? Visit the ' +\n",
              "          '<a target=\"_blank\" href=https://colab.research.google.com/notebooks/data_table.ipynb>data table notebook</a>'\n",
              "          + ' to learn more about interactive tables.';\n",
              "        element.innerHTML = '';\n",
              "        dataTable['output_type'] = 'display_data';\n",
              "        await google.colab.output.renderOutput(dataTable, element);\n",
              "        const docLink = document.createElement('div');\n",
              "        docLink.innerHTML = docLinkHtml;\n",
              "        element.appendChild(docLink);\n",
              "      }\n",
              "    </script>\n",
              "  </div>\n",
              "\n",
              "\n",
              "    <div id=\"df-84fa047d-d951-426f-8481-13b5d2b3c375\">\n",
              "      <button class=\"colab-df-quickchart\" onclick=\"quickchart('df-84fa047d-d951-426f-8481-13b5d2b3c375')\"\n",
              "                title=\"Suggest charts\"\n",
              "                style=\"display:none;\">\n",
              "\n",
              "<svg xmlns=\"http://www.w3.org/2000/svg\" height=\"24px\"viewBox=\"0 0 24 24\"\n",
              "     width=\"24px\">\n",
              "    <g>\n",
              "        <path d=\"M19 3H5c-1.1 0-2 .9-2 2v14c0 1.1.9 2 2 2h14c1.1 0 2-.9 2-2V5c0-1.1-.9-2-2-2zM9 17H7v-7h2v7zm4 0h-2V7h2v10zm4 0h-2v-4h2v4z\"/>\n",
              "    </g>\n",
              "</svg>\n",
              "      </button>\n",
              "\n",
              "<style>\n",
              "  .colab-df-quickchart {\n",
              "      --bg-color: #E8F0FE;\n",
              "      --fill-color: #1967D2;\n",
              "      --hover-bg-color: #E2EBFA;\n",
              "      --hover-fill-color: #174EA6;\n",
              "      --disabled-fill-color: #AAA;\n",
              "      --disabled-bg-color: #DDD;\n",
              "  }\n",
              "\n",
              "  [theme=dark] .colab-df-quickchart {\n",
              "      --bg-color: #3B4455;\n",
              "      --fill-color: #D2E3FC;\n",
              "      --hover-bg-color: #434B5C;\n",
              "      --hover-fill-color: #FFFFFF;\n",
              "      --disabled-bg-color: #3B4455;\n",
              "      --disabled-fill-color: #666;\n",
              "  }\n",
              "\n",
              "  .colab-df-quickchart {\n",
              "    background-color: var(--bg-color);\n",
              "    border: none;\n",
              "    border-radius: 50%;\n",
              "    cursor: pointer;\n",
              "    display: none;\n",
              "    fill: var(--fill-color);\n",
              "    height: 32px;\n",
              "    padding: 0;\n",
              "    width: 32px;\n",
              "  }\n",
              "\n",
              "  .colab-df-quickchart:hover {\n",
              "    background-color: var(--hover-bg-color);\n",
              "    box-shadow: 0 1px 2px rgba(60, 64, 67, 0.3), 0 1px 3px 1px rgba(60, 64, 67, 0.15);\n",
              "    fill: var(--button-hover-fill-color);\n",
              "  }\n",
              "\n",
              "  .colab-df-quickchart-complete:disabled,\n",
              "  .colab-df-quickchart-complete:disabled:hover {\n",
              "    background-color: var(--disabled-bg-color);\n",
              "    fill: var(--disabled-fill-color);\n",
              "    box-shadow: none;\n",
              "  }\n",
              "\n",
              "  .colab-df-spinner {\n",
              "    border: 2px solid var(--fill-color);\n",
              "    border-color: transparent;\n",
              "    border-bottom-color: var(--fill-color);\n",
              "    animation:\n",
              "      spin 1s steps(1) infinite;\n",
              "  }\n",
              "\n",
              "  @keyframes spin {\n",
              "    0% {\n",
              "      border-color: transparent;\n",
              "      border-bottom-color: var(--fill-color);\n",
              "      border-left-color: var(--fill-color);\n",
              "    }\n",
              "    20% {\n",
              "      border-color: transparent;\n",
              "      border-left-color: var(--fill-color);\n",
              "      border-top-color: var(--fill-color);\n",
              "    }\n",
              "    30% {\n",
              "      border-color: transparent;\n",
              "      border-left-color: var(--fill-color);\n",
              "      border-top-color: var(--fill-color);\n",
              "      border-right-color: var(--fill-color);\n",
              "    }\n",
              "    40% {\n",
              "      border-color: transparent;\n",
              "      border-right-color: var(--fill-color);\n",
              "      border-top-color: var(--fill-color);\n",
              "    }\n",
              "    60% {\n",
              "      border-color: transparent;\n",
              "      border-right-color: var(--fill-color);\n",
              "    }\n",
              "    80% {\n",
              "      border-color: transparent;\n",
              "      border-right-color: var(--fill-color);\n",
              "      border-bottom-color: var(--fill-color);\n",
              "    }\n",
              "    90% {\n",
              "      border-color: transparent;\n",
              "      border-bottom-color: var(--fill-color);\n",
              "    }\n",
              "  }\n",
              "</style>\n",
              "\n",
              "      <script>\n",
              "        async function quickchart(key) {\n",
              "          const quickchartButtonEl =\n",
              "            document.querySelector('#' + key + ' button');\n",
              "          quickchartButtonEl.disabled = true;  // To prevent multiple clicks.\n",
              "          quickchartButtonEl.classList.add('colab-df-spinner');\n",
              "          try {\n",
              "            const charts = await google.colab.kernel.invokeFunction(\n",
              "                'suggestCharts', [key], {});\n",
              "          } catch (error) {\n",
              "            console.error('Error during call to suggestCharts:', error);\n",
              "          }\n",
              "          quickchartButtonEl.classList.remove('colab-df-spinner');\n",
              "          quickchartButtonEl.classList.add('colab-df-quickchart-complete');\n",
              "        }\n",
              "        (() => {\n",
              "          let quickchartButtonEl =\n",
              "            document.querySelector('#df-84fa047d-d951-426f-8481-13b5d2b3c375 button');\n",
              "          quickchartButtonEl.style.display =\n",
              "            google.colab.kernel.accessAllowed ? 'block' : 'none';\n",
              "        })();\n",
              "      </script>\n",
              "    </div>\n",
              "\n",
              "    </div>\n",
              "  </div>\n"
            ],
            "application/vnd.google.colaboratory.intrinsic+json": {
              "type": "dataframe",
              "variable_name": "df_test_norm",
              "summary": "{\n  \"name\": \"df_test_norm\",\n  \"rows\": 89,\n  \"fields\": [\n    {\n      \"column\": \"AGE\",\n      \"properties\": {\n        \"dtype\": \"number\",\n        \"std\": 1.0334008920613555,\n        \"min\": -2.2342206920852257,\n        \"max\": 2.0725637682892977,\n        \"num_unique_values\": 42,\n        \"samples\": [\n          -1.6189657691745793,\n          -0.7729902501724409,\n          -2.1573138267213947\n        ],\n        \"semantic_type\": \"\",\n        \"description\": \"\"\n      }\n    },\n    {\n      \"column\": \"SEX\",\n      \"properties\": {\n        \"dtype\": \"number\",\n        \"std\": 0.9905465126652213,\n        \"min\": -0.9624604557847393,\n        \"max\": 1.0360603729918072,\n        \"num_unique_values\": 2,\n        \"samples\": [\n          -0.9624604557847393,\n          1.0360603729918072\n        ],\n        \"semantic_type\": \"\",\n        \"description\": \"\"\n      }\n    },\n    {\n      \"column\": \"BMI\",\n      \"properties\": {\n        \"dtype\": \"number\",\n        \"std\": 0.8857619650450281,\n        \"min\": -1.7203675228604245,\n        \"max\": 2.5971728897142206,\n        \"num_unique_values\": 70,\n        \"samples\": [\n          0.16163727236442083,\n          -0.8347182074604973\n        ],\n        \"semantic_type\": \"\",\n        \"description\": \"\"\n      }\n    },\n    {\n      \"column\": \"BP\",\n      \"properties\": {\n        \"dtype\": \"number\",\n        \"std\": 0.9765353781316911,\n        \"min\": -2.2603355582307114,\n        \"max\": 2.2704651238547635,\n        \"num_unique_values\": 45,\n        \"samples\": [\n          1.2154358221691457,\n          -1.5411608467885727\n        ],\n        \"semantic_type\": \"\",\n        \"description\": \"\"\n      }\n    },\n    {\n      \"column\": \"S1\",\n      \"properties\": {\n        \"dtype\": \"number\",\n        \"std\": 1.0530777175106845,\n        \"min\": -2.6921168088610217,\n        \"max\": 3.259765655823367,\n        \"num_unique_values\": 67,\n        \"samples\": [\n          -2.2253024979053833,\n          -0.41639704295228464\n        ],\n        \"semantic_type\": \"\",\n        \"description\": \"\"\n      }\n    },\n    {\n      \"column\": \"S2\",\n      \"properties\": {\n        \"dtype\": \"number\",\n        \"std\": 1.0021517778068947,\n        \"min\": -2.4381964051105323,\n        \"max\": 3.2607572867408603,\n        \"num_unique_values\": 85,\n        \"samples\": [\n          -1.3273276923967083,\n          0.11220040277682665\n        ],\n        \"semantic_type\": \"\",\n        \"description\": \"\"\n      }\n    },\n    {\n      \"column\": \"S3\",\n      \"properties\": {\n        \"dtype\": \"number\",\n        \"std\": 0.9079470256964081,\n        \"min\": -2.1270115215160836,\n        \"max\": 2.0478789086749654,\n        \"num_unique_values\": 44,\n        \"samples\": [\n          -0.38114825070891767,\n          -0.6847766456319031\n        ],\n        \"semantic_type\": \"\",\n        \"description\": \"\"\n      }\n    },\n    {\n      \"column\": \"S4\",\n      \"properties\": {\n        \"dtype\": \"number\",\n        \"std\": 0.9089728984363763,\n        \"min\": -1.5644016272305528,\n        \"max\": 3.2124307901049916,\n        \"num_unique_values\": 23,\n        \"samples\": [\n          0.687099002596392,\n          0.816408160390507\n        ],\n        \"semantic_type\": \"\",\n        \"description\": \"\"\n      }\n    },\n    {\n      \"column\": \"S5\",\n      \"properties\": {\n        \"dtype\": \"number\",\n        \"std\": 0.9864995200453985,\n        \"min\": -1.7827839659913394,\n        \"max\": 2.8384300801775613,\n        \"num_unique_values\": 73,\n        \"samples\": [\n          1.554727631241782,\n          -1.3560308496784614\n        ],\n        \"semantic_type\": \"\",\n        \"description\": \"\"\n      }\n    },\n    {\n      \"column\": \"S6\",\n      \"properties\": {\n        \"dtype\": \"number\",\n        \"std\": 0.9728632302009008,\n        \"min\": -2.6863620534804866,\n        \"max\": 2.8475388776976978,\n        \"num_unique_values\": 34,\n        \"samples\": [\n          -2.1675588411825317,\n          0.8587932305555376\n        ],\n        \"semantic_type\": \"\",\n        \"description\": \"\"\n      }\n    },\n    {\n      \"column\": \"Y\",\n      \"properties\": {\n        \"dtype\": \"number\",\n        \"std\": 1.0160436107144597,\n        \"min\": -1.6314851488006514,\n        \"max\": 2.4802363527111777,\n        \"num_unique_values\": 71,\n        \"samples\": [\n          -1.0849905188528766,\n          -0.980896303624729\n        ],\n        \"semantic_type\": \"\",\n        \"description\": \"\"\n      }\n    }\n  ]\n}"
            }
          },
          "metadata": {},
          "execution_count": 15
        }
      ]
    },
    {
      "cell_type": "code",
      "source": [
        "plt.figure(figsize=(15,8))\n",
        "\n",
        "ax1 = plt.subplot(2,3,1)\n",
        "ax2 = plt.subplot(2,3,2)\n",
        "ax3 = plt.subplot(2,3,3)\n",
        "\n",
        "ax1.hist(df_train_norm.S5, bins=30, color='green',edgecolor='purple', alpha=0.5)\n",
        "ax1.set_xlabel('Serum Concentration of Lamorigine', size=15)\n",
        "ax1.set_ylabel('Frequency', size=15)\n",
        "\n",
        "ax2.hist(df_train_norm.S6, bins=30, color='orange',edgecolor='purple', alpha=0.5)\n",
        "ax2.set_xlabel('Glucose', size=15)\n",
        "\n",
        "ax3.hist(df_train_norm.Y, bins=30, color='purple',edgecolor='black', alpha=0.5)\n",
        "ax3.set_xlabel('Y(Diabetes Mellitus Disease Progression)', size=15)"
      ],
      "metadata": {
        "colab": {
          "base_uri": "https://localhost:8080/",
          "height": 384
        },
        "id": "DrFYjB-6r88Y",
        "outputId": "7772e5ed-1910-407e-82f8-0bfe1649dcce"
      },
      "execution_count": 16,
      "outputs": [
        {
          "output_type": "execute_result",
          "data": {
            "text/plain": [
              "Text(0.5, 0, 'Y(Diabetes Mellitus Disease Progression)')"
            ]
          },
          "metadata": {},
          "execution_count": 16
        },
        {
          "output_type": "display_data",
          "data": {
            "text/plain": [
              "<Figure size 1500x800 with 3 Axes>"
            ],
            "image/png": "[encoded data removed]"
          },
          "metadata": {}
        }
      ]
    },
    {
      "cell_type": "code",
      "source": [
        "# Histogramas de las variables que se emplearán en el entrenamiento:\n",
        "plt.figure(figsize=(20,8))\n",
        "\n",
        "ax1 = plt.subplot(2,4,1)\n",
        "ax2 = plt.subplot(2,4,2)\n",
        "ax3 = plt.subplot(2,4,3)\n",
        "ax4 = plt.subplot(2,4,4)\n",
        "\n",
        "ax1.hist(df_train_norm.AGE, bins=30, color='green',edgecolor='purple', alpha=0.5)\n",
        "ax1.set_xlabel('x1(Age)', size=15)\n",
        "ax1.set_ylabel('Frequency', size=15)\n",
        "\n",
        "ax2.hist(df_train_norm.SEX, bins=30, color='orange',edgecolor='purple', alpha=0.5)\n",
        "ax2.set_xlabel('x2(Sex)', size=15)\n",
        "\n",
        "ax3.hist(df_train_norm.BMI, bins=30, color='red',edgecolor='purple', alpha=0.5)\n",
        "ax3.set_xlabel('x3(Body_mass_index)', size=15)\n",
        "\n",
        "ax4.hist(df_train_norm.BP, bins=30, color='blue',edgecolor='purple', alpha=0.5)\n",
        "ax4.set_xlabel('x4(Mean_Arterial_Pressure)', size=15);"
      ],
      "metadata": {
        "colab": {
          "base_uri": "https://localhost:8080/",
          "height": 300
        },
        "id": "m2TA6DOrlMYX",
        "outputId": "34fbeb81-64fb-4ddc-e43e-b5c02c5cd7a1"
      },
      "execution_count": 17,
      "outputs": [
        {
          "output_type": "display_data",
          "data": {
            "text/plain": [
              "<Figure size 2000x800 with 4 Axes>"
            ],
            "image/png": "[encoded data removed]"
          },
          "metadata": {}
        }
      ]
    },
    {
      "cell_type": "code",
      "source": [
        "plt.figure(figsize=(20,8))\n",
        "\n",
        "ax1 = plt.subplot(2,4,1)\n",
        "ax2 = plt.subplot(2,4,2)\n",
        "ax3 = plt.subplot(2,4,3)\n",
        "ax4 = plt.subplot(2,4,4)\n",
        "\n",
        "ax1.hist(df_train_norm.S1, bins=30, color='green',edgecolor='purple', alpha=0.5)\n",
        "ax1.set_xlabel('x5(Total Cholesterol)', size=15)\n",
        "ax1.set_ylabel('Frequency', size=15)\n",
        "\n",
        "ax2.hist(df_train_norm.S2, bins=30, color='orange',edgecolor='purple', alpha=0.5)\n",
        "ax2.set_xlabel('x6(Low Density lipoproteins)', size=15)\n",
        "\n",
        "ax3.hist(df_train_norm.S3, bins=30, color='red',edgecolor='purple', alpha=0.5)\n",
        "ax3.set_xlabel('x7(High Density lipoproteins)', size=15)\n",
        "\n",
        "ax4.hist(df_train_norm.S4, bins=30, color='blue',edgecolor='purple', alpha=0.5)\n",
        "ax4.set_xlabel('x8(Triglyceride)', size=15);"
      ],
      "metadata": {
        "colab": {
          "base_uri": "https://localhost:8080/",
          "height": 300
        },
        "id": "rrwd_og1lVrP",
        "outputId": "937e0abb-211b-4dcc-cd57-506a63bbdc54"
      },
      "execution_count": 18,
      "outputs": [
        {
          "output_type": "display_data",
          "data": {
            "text/plain": [
              "<Figure size 2000x800 with 4 Axes>"
            ],
            "image/png": "[encoded data removed]"
          },
          "metadata": {}
        }
      ]
    },
    {
      "cell_type": "code",
      "source": [
        "plt.figure(figsize=(20,8))\n",
        "\n",
        "ax1 = plt.subplot(2,3,1)\n",
        "ax2 = plt.subplot(2,3,2)\n",
        "ax3 = plt.subplot(2,3,3)\n",
        "\n",
        "ax1.hist(df_train_norm.S5, bins=30, color='green',edgecolor='purple', alpha=0.5)\n",
        "ax1.set_xlabel('x9(Serum Concentration of Lamorigine)', size=15)\n",
        "ax1.set_ylabel('Frequency', size=15)\n",
        "\n",
        "ax2.hist(df_train_norm.S6, bins=30, color='orange',edgecolor='purple', alpha=0.5)\n",
        "ax2.set_xlabel('x10(Glucose)', size=15)\n",
        "\n",
        "ax3.hist(df_train_norm.Y, bins=30, color='purple',edgecolor='black', alpha=0.5)\n",
        "ax3.set_xlabel('Y(Diabetes Mellitus Disease Progression)', size=15)"
      ],
      "metadata": {
        "colab": {
          "base_uri": "https://localhost:8080/",
          "height": 318
        },
        "id": "xWTR-w1Mm_GD",
        "outputId": "e2434eeb-d1db-4f22-ce9d-acf314859956"
      },
      "execution_count": 19,
      "outputs": [
        {
          "output_type": "execute_result",
          "data": {
            "text/plain": [
              "Text(0.5, 0, 'Y(Diabetes Mellitus Disease Progression)')"
            ]
          },
          "metadata": {},
          "execution_count": 19
        },
        {
          "output_type": "display_data",
          "data": {
            "text/plain": [
              "<Figure size 2000x800 with 3 Axes>"
            ],
            "image/png": "[encoded data removed]"
          },
          "metadata": {}
        }
      ]
    },
    {
      "cell_type": "code",
      "source": [
        "x_train = df_train_norm.values[:,:-1] # toma todas las muestras y no incliuye la ultima columna\n",
        "y_train = df_train_norm.values[:,-1:] # tomo la todas las muestras y la ultima col\n",
        "print(type(x_train), type(y_train))\n",
        "print(x_train.shape)\n",
        "print(y_train.shape)"
      ],
      "metadata": {
        "colab": {
          "base_uri": "https://localhost:8080/"
        },
        "id": "QYmO994EnCBI",
        "outputId": "0d112a6f-e076-49dc-e04e-56e2633f8b7e"
      },
      "execution_count": 20,
      "outputs": [
        {
          "output_type": "stream",
          "name": "stdout",
          "text": [
            "<class 'numpy.ndarray'> <class 'numpy.ndarray'>\n",
            "(353, 10)\n",
            "(353, 1)\n"
          ]
        }
      ]
    },
    {
      "cell_type": "code",
      "source": [
        "x_test = df_test_norm.values[:,:-1]\n",
        "y_test = df_test_norm.values[:,-1:]\n",
        "print(type(x_test), type(y_test))\n",
        "print(x_test.shape)\n",
        "print(y_test.shape)"
      ],
      "metadata": {
        "colab": {
          "base_uri": "https://localhost:8080/"
        },
        "id": "iC10CnRonM_B",
        "outputId": "0a59af7a-8368-43d1-b4bf-8434929a36b4"
      },
      "execution_count": 21,
      "outputs": [
        {
          "output_type": "stream",
          "name": "stdout",
          "text": [
            "<class 'numpy.ndarray'> <class 'numpy.ndarray'>\n",
            "(89, 10)\n",
            "(89, 1)\n"
          ]
        }
      ]
    },
    {
      "cell_type": "code",
      "source": [
        "train_x = x_train.T\n",
        "test_x = x_test.T\n",
        "\n",
        "train_y = y_train\n",
        "test_y =  y_test"
      ],
      "metadata": {
        "id": "RNT4ujUknPaI"
      },
      "execution_count": 22,
      "outputs": []
    },
    {
      "cell_type": "code",
      "source": [
        "print(train_x.shape)\n",
        "print(train_y.shape)\n",
        "print(test_x.shape)\n",
        "print(test_y.shape)"
      ],
      "metadata": {
        "colab": {
          "base_uri": "https://localhost:8080/"
        },
        "id": "HOvNhC2CnUME",
        "outputId": "4564eca2-2c0f-466a-a434-bd491bf3a6c6"
      },
      "execution_count": 23,
      "outputs": [
        {
          "output_type": "stream",
          "name": "stdout",
          "text": [
            "(10, 353)\n",
            "(353, 1)\n",
            "(10, 89)\n",
            "(89, 1)\n"
          ]
        }
      ]
    },
    {
      "cell_type": "code",
      "source": [
        "train_x[:,1:3]"
      ],
      "metadata": {
        "colab": {
          "base_uri": "https://localhost:8080/"
        },
        "id": "XrpnXgi8nW6Z",
        "outputId": "e8a06889-c456-4ebf-f394-418d6668d8f2"
      },
      "execution_count": 24,
      "outputs": [
        {
          "output_type": "execute_result",
          "data": {
            "text/plain": [
              "array([[ 0.53442646, -0.0039216 ],\n",
              "       [ 1.03606037, -0.96246046],\n",
              "       [-0.74615328,  0.71516809],\n",
              "       [-0.96582108,  2.63005248],\n",
              "       [-1.93354355,  0.51723158],\n",
              "       [-1.59682839,  0.5394576 ],\n",
              "       [-0.68477665, -0.22933405],\n",
              "       [-0.80375952, -0.04311742],\n",
              "       [-0.6060089 ,  0.59984123],\n",
              "       [-0.2652804 ,  1.29112924]])"
            ]
          },
          "metadata": {},
          "execution_count": 24
        }
      ]
    },
    {
      "cell_type": "markdown",
      "source": [
        "Se inicializan los parámetros de la función, $F(X)$ que define la relación entre X y Y.\n",
        "\n",
        "\n",
        "Debido a que las variables X y Y fueron normalizadas a distribuciones con un deviación estándard de 1, los valores de los parámetros $w$ se inicializan con valores pequeños, mientras que el bias se inicializa con cero."
      ],
      "metadata": {
        "id": "8dQCihytn2R8"
      }
    },
    {
      "cell_type": "code",
      "source": [
        "def initialize_params(dim):\n",
        "    \"\"\"\n",
        "    This function creates a vector of zeros of shape (dim, 1) for w and initializes b to 0.\n",
        "\n",
        "    Argument:\n",
        "    dim -- size of the w vector we want (or number of parameters in this case)\n",
        "\n",
        "    Returns:\n",
        "    w -- initialized vector of shape (dim, 1)\n",
        "    b -- initialized scalar (corresponds to the bias)\n",
        "    \"\"\"\n",
        "\n",
        "    w = np.reshape(np.random.uniform(-0.1, 0.1, dim), (dim, 1))\n",
        "    b = 0\n",
        "\n",
        "    assert(w.shape == (dim, 1))\n",
        "    assert(isinstance(b, float) or isinstance(b, int))\n",
        "\n",
        "    return w, b"
      ],
      "metadata": {
        "id": "-jCEnqIgnZc_"
      },
      "execution_count": 25,
      "outputs": []
    },
    {
      "cell_type": "code",
      "source": [
        "#Testing the function initialize_params (dim)\n",
        "\n",
        "dim = train_x.shape[0]\n",
        "w, b = initialize_params(dim)\n",
        "print (\"w = \" + str(w))\n",
        "print (\"b = \" + str(b))"
      ],
      "metadata": {
        "colab": {
          "base_uri": "https://localhost:8080/"
        },
        "id": "dOxd2ZfQoLgV",
        "outputId": "ee6d69fa-2323-412f-d01c-9b1d4758d54a"
      },
      "execution_count": 26,
      "outputs": [
        {
          "output_type": "stream",
          "name": "stdout",
          "text": [
            "w = [[ 0.0143119 ]\n",
            " [-0.07417947]\n",
            " [-0.08038612]\n",
            " [-0.04714089]\n",
            " [ 0.05912918]\n",
            " [-0.03477222]\n",
            " [-0.05316274]\n",
            " [ 0.01544852]\n",
            " [ 0.09158503]\n",
            " [-0.08088712]]\n",
            "b = 0\n"
          ]
        }
      ]
    },
    {
      "cell_type": "markdown",
      "source": [
        "Una vez inicializados los pesos y el bias, se calcula la función de costo, y sus derivadas parciales respecto a cada uno de los pesos $w_{i}$ y el bias $b$. Estas derivadas se emplean para proponer nuevos valores tanto para los pesos como para el bias.\n",
        "\n",
        "La funcion *propagate( )* calcula la función de costo y su gradiente:\n",
        "\n",
        "- Se tiene X $$ $$\n",
        "- Se calcula $$A = (w^T X + b) = (a^{(1)}, a^{(2)}, ..., a^{(m-1)}, a^{(m)})$$ $$ $$\n",
        "- Se calcula la función de costo: $$J = \\frac{1}{m}\\sum_{i=1}^m(y^{(i)} -F(x^{(i)}))^2$$\n",
        "\n",
        "\n",
        "Las derivadas de la funcion de costo respecto a los pesos $ w_k$ y el bias $ b$ son:\n",
        "\n",
        "\n",
        "$$ \\frac{\\partial J}{\\partial w_k} = \\frac{1}{m}X(A-Y)^T$$ $$ $$\n",
        "$$ \\frac{\\partial J}{\\partial b} = \\frac{1}{m} \\sum_{i=1}^m (F(x^{(i)})-y^{(i)}))$$"
      ],
      "metadata": {
        "id": "Io-Vf2yWoiHy"
      }
    },
    {
      "cell_type": "code",
      "source": [
        "#Función para transformar los efectos no lineales. En el presente caso se considera un modelo completamente\n",
        "#lineal. Por ello la función es la identidad.\n",
        "\n",
        "def identity(z):\n",
        "    \"\"\"\n",
        "    Arguments:\n",
        "    z -- A scalar or numpy array of any size.\n",
        "\n",
        "    Return:\n",
        "    s -- z\n",
        "    \"\"\"\n",
        "    s = 1.0 * z\n",
        "\n",
        "    return s"
      ],
      "metadata": {
        "id": "LrHFlbHAoVmW"
      },
      "execution_count": 27,
      "outputs": []
    },
    {
      "cell_type": "code",
      "source": [
        "def propagate(w, b, X, Y,X_val,Y_val):\n",
        "\n",
        "    m = X.shape[1]\n",
        "    m_val = X_val.shape[1]\n",
        "\n",
        "    A = identity(np.dot(w.T, X)+b)\n",
        "    A_val = identity(np.dot(w.T,X_val)+b)\n",
        "\n",
        "    cost = (1/m)*np.sum((Y-A)**2)\n",
        "    cost_val = (1/m_val)*np.sum((Y_val-A_val)**2)\n",
        "\n",
        "    dw = (1/m)*np.dot(X, (A-Y).T)\n",
        "\n",
        "    db = (1/m)*np.sum(A-Y)\n",
        "\n",
        "\n",
        "    assert(dw.shape == w.shape)\n",
        "    assert(db.dtype == float)\n",
        "    cost = np.squeeze(cost)\n",
        "    cost_val = np.squeeze(cost_val)\n",
        "    assert(cost.shape == ())\n",
        "\n",
        "    grads = {\"dw\": dw,\n",
        "             \"db\": db}\n",
        "\n",
        "    return grads, cost, cost_val"
      ],
      "metadata": {
        "id": "IE3bi2LeoWvL"
      },
      "execution_count": 28,
      "outputs": []
    },
    {
      "cell_type": "markdown",
      "source": [
        "Actualizacion de los pesos y el bias\n",
        "\n",
        "Para monitorear el aprendizaje, las muestras para el aprendizaje se dividen en dos grupos:\n",
        "\n",
        "El 90% de ellas se emplean para realizar el aprendizaje y el 10% restante para evaluar, \"validar\", la calidad del aprendizaje.\n",
        "\n",
        "La función optimize( ) actualiza los pesos ω y el bias $b$ usando el método de gradiente descendente.\n",
        "\n",
        "Se calcula la función de costo para las muestras empleadas en el entrenamiento y para las asignadas a la validación.\n",
        "\n",
        "Los pesos  y el bias  son modificados en cada época hasta que la función de costo  llega a su valor mínimo.\n",
        "\n",
        "Los pesos y el bias  se actualizan mediante la siguientes relaciones:\n",
        "\n",
        "Los pesos $ w_{k} $ y el bias $b$ se actualizan mediante la siguientes relaciones: $$ $$ $$ w_{k} := w_{k} - \\alpha \\frac{\\partial J}{\\partial w_{k}} $$\n",
        "\n",
        "$$ b := b - \\alpha \\frac{\\partial J}{\\partial b} $$ $$ $$ $ \\alpha $ es el hyperparámetro que define la relación de aprendizaje."
      ],
      "metadata": {
        "id": "DWzLgnbnpE1_"
      }
    },
    {
      "cell_type": "code",
      "source": [
        "def optimize(w, b, X, Y, X_val, Y_val, epochs, learning_rate, print_cost = False):\n",
        "\n",
        "    costs = []\n",
        "    costs_val = []\n",
        "\n",
        "    for i in range(epochs):\n",
        "\n",
        "\n",
        "        grads, cost, cost_val = propagate(w, b, X, Y,X_val,Y_val)\n",
        "\n",
        "        dw = grads[\"dw\"]\n",
        "        db = grads[\"db\"]\n",
        "\n",
        "        w = w-learning_rate*dw\n",
        "        b = b-learning_rate*db\n",
        "\n",
        "        if i % 100 == 0:\n",
        "            costs.append(cost)\n",
        "            costs_val.append(cost_val)\n",
        "\n",
        "        # Print the cost every 100 training iterations\n",
        "        if print_cost and i % 100 == 0:\n",
        "            print (\"Cost and Cost_val after epoch %i: %f %f\" %(i, cost, cost_val))\n",
        "\n",
        "    params = {\"w\": w,\n",
        "              \"b\": b}\n",
        "\n",
        "    grads = {\"dw\": dw,\n",
        "             \"db\": db}\n",
        "\n",
        "    return params, grads, costs, costs_val"
      ],
      "metadata": {
        "id": "DAL-jyeXo4tx"
      },
      "execution_count": 29,
      "outputs": []
    },
    {
      "cell_type": "markdown",
      "source": [
        "\n",
        "Una vez que se encuentran los valores de los pesos $w$ y del bias $b$ que minimizan la función de costo, la función, $F(X)$ que se genera con estos valores se emplea para inferir valores de Y asociados a las muestras de prueba, los cuales se comparan con los valores Y conocidos de estas muestras.\n",
        "\n",
        "La función `predic()` calcula $F(X)=w ^ T X + b$ empleando los valores de $w$ y $b$ para los cuales el costo es mínimo."
      ],
      "metadata": {
        "id": "zIxOOmZZquZb"
      }
    },
    {
      "cell_type": "code",
      "source": [
        "def predict(w, b, X):\n",
        "\n",
        "    w = w.reshape(X.shape[0], 1)\n",
        "\n",
        "    A = identity(np.dot(w.T, X)+b)\n",
        "\n",
        "    return A"
      ],
      "metadata": {
        "id": "B4S6_Vn4qBZK"
      },
      "execution_count": 30,
      "outputs": []
    },
    {
      "cell_type": "markdown",
      "source": [
        "Para calcular la precision del modelo, a manera de ejemplo, se usa el error cuadático medio, MSE: $$ $$\n",
        "\n",
        "$$100-MSE*100$$\n",
        "\n",
        "es decir\n",
        "\n",
        "$$100-(\\dfrac{1}{m_{test}}\\sum_{i}^{m_{test}} (y^{(i)}-a^{(i)})^2)*100$$"
      ],
      "metadata": {
        "id": "MaXCdwy_q5vI"
      }
    },
    {
      "cell_type": "code",
      "source": [
        "def model(X_train, Y_train, val_ratio, epochs = 2000, learning_rate = 0.5, print_cost = False):\n",
        "\n",
        "\n",
        "    train_ratio = int((1-val_ratio)*X_train.shape[1])\n",
        "    X_val = X_train[:,train_ratio:]\n",
        "    Y_val = Y_train[:,train_ratio:]\n",
        "\n",
        "    X_train = X_train[:,:train_ratio]\n",
        "    Y_train = Y_train[:,:train_ratio]\n",
        "\n",
        "    print(\"Train\",X_train.shape,Y_train.shape)\n",
        "    print(\"val\",X_val.shape,Y_val.shape)\n",
        "\n",
        "    # 1. inicializacion de parametros\n",
        "    w, b = initialize_params(X_train.shape[0])\n",
        "\n",
        "    # 2. y 3. Actualizacion de parametros\n",
        "    parameters, grads, costs, costs_val = optimize(w, b, X_train, Y_train, X_val, Y_val, epochs, learning_rate, print_cost = print_cost)\n",
        "\n",
        "    w = parameters[\"w\"]\n",
        "    b = parameters[\"b\"]\n",
        "\n",
        "    # 4. Predicciones\n",
        "    Y_prediction_val = predict(w, b, X_val)\n",
        "    Y_prediction_train = predict(w, b, X_train)\n",
        "\n",
        "    # Print train/test Errors\n",
        "    print(\"train accuracy: {} %\".format(100 - np.mean(np.power(Y_prediction_train - Y_train, 2)) * 100))\n",
        "    print(\"test accuracy: {} %\".format(100 - np.mean(np.power(Y_prediction_val - Y_val, 2)) * 100))\n",
        "\n",
        "\n",
        "    d = {\"costs\": costs, \"costs_val\": costs_val,\n",
        "         \"Y_prediction_val\": Y_prediction_val,\n",
        "         \"Y_prediction_train\" : Y_prediction_train,\n",
        "         \"w\" : w,\n",
        "         \"b\" : b,\n",
        "         \"learning_rate\" : learning_rate,\n",
        "         \"epochs\": epochs}\n",
        "\n",
        "    return d"
      ],
      "metadata": {
        "id": "diH-g-4Lq1-z"
      },
      "execution_count": 31,
      "outputs": []
    },
    {
      "cell_type": "code",
      "source": [
        "print(train_x.shape[1])"
      ],
      "metadata": {
        "colab": {
          "base_uri": "https://localhost:8080/"
        },
        "id": "6T2VL6KcrGWj",
        "outputId": "c40183ed-f2ea-4b7e-e0a6-83e923707a77"
      },
      "execution_count": 32,
      "outputs": [
        {
          "output_type": "stream",
          "name": "stdout",
          "text": [
            "353\n"
          ]
        }
      ]
    },
    {
      "cell_type": "code",
      "source": [
        "epochs = 2000\n",
        "learning_rate = 0.02\n",
        "val_ratio = 0.2\n",
        "d = model(train_x, train_y.T, val_ratio=val_ratio, epochs = epochs,\n",
        "          learning_rate = learning_rate, print_cost = False)"
      ],
      "metadata": {
        "colab": {
          "base_uri": "https://localhost:8080/"
        },
        "id": "VBTej9UZrJDd",
        "outputId": "8b9b33be-f72a-4901-88cb-787fcac99739"
      },
      "execution_count": 33,
      "outputs": [
        {
          "output_type": "stream",
          "name": "stdout",
          "text": [
            "Train (10, 282) (1, 282)\n",
            "val (10, 71) (1, 71)\n",
            "train accuracy: 55.31873424274124 %\n",
            "test accuracy: 49.198988055433965 %\n"
          ]
        }
      ]
    },
    {
      "cell_type": "code",
      "source": [
        "costs = np.squeeze(d['costs'])\n",
        "costs_val = np.squeeze(d['costs_val'])\n",
        "\n",
        "plt.plot(costs)\n",
        "plt.plot(costs_val)\n",
        "plt.ylabel('cost', size=16)\n",
        "plt.xlabel('epochs (x100)', size=16)\n",
        "plt.title(\"Learning rate =\" + str(d[\"learning_rate\"]))\n",
        "plt.legend(['Train', 'Val'], loc='upper right')\n",
        "plt.show()"
      ],
      "metadata": {
        "colab": {
          "base_uri": "https://localhost:8080/",
          "height": 478
        },
        "id": "N8_EDuHfrZq_",
        "outputId": "7bb4b4b6-8e58-4fa5-80ab-e66cc714d84a"
      },
      "execution_count": 34,
      "outputs": [
        {
          "output_type": "display_data",
          "data": {
            "text/plain": [
              "<Figure size 640x480 with 1 Axes>"
            ],
            "image/png": "[encoded data removed]"
          },
          "metadata": {}
        }
      ]
    },
    {
      "cell_type": "code",
      "source": [
        "learning_rates = [0.01, 0.005, 0.001]\n",
        "val_ratio = 0.1\n",
        "models = {}\n",
        "for i in learning_rates:\n",
        "    print (\"learning rate is: \", i)\n",
        "    models[str(i)] = model(train_x, train_y.T, val_ratio=val_ratio, epochs = 2000, learning_rate = i, print_cost = False)\n",
        "    print ('\\n' + \"-------------------------------------------------------\" + '\\n')\n",
        "\n",
        "for i in learning_rates:\n",
        "    plt.plot(np.squeeze(models[str(i)][\"costs\"]), label= str(models[str(i)][\"learning_rate\"]))\n",
        "    plt.plot(np.squeeze(models[str(i)][\"costs_val\"]), label= str(models[str(i)][\"learning_rate\"]))\n",
        "\n",
        "plt.ylabel('cost')\n",
        "plt.xlabel('epocs (x100)')\n",
        "\n",
        "legend = plt.legend(loc='upper center', shadow=True)\n",
        "frame = legend.get_frame()\n",
        "frame.set_facecolor('0.90')\n",
        "plt.show()"
      ],
      "metadata": {
        "colab": {
          "base_uri": "https://localhost:8080/",
          "height": 878
        },
        "id": "_r5q72wergjW",
        "outputId": "fac6bd6b-09a1-4dae-e7b7-8bc56943743d"
      },
      "execution_count": 35,
      "outputs": [
        {
          "output_type": "stream",
          "name": "stdout",
          "text": [
            "learning rate is:  0.01\n",
            "Train (10, 317) (1, 317)\n",
            "val (10, 36) (1, 36)\n",
            "train accuracy: 54.49863353441213 %\n",
            "test accuracy: 53.39361742098285 %\n",
            "\n",
            "-------------------------------------------------------\n",
            "\n",
            "learning rate is:  0.005\n",
            "Train (10, 317) (1, 317)\n",
            "val (10, 36) (1, 36)\n",
            "train accuracy: 54.46624940814976 %\n",
            "test accuracy: 53.494265140387064 %\n",
            "\n",
            "-------------------------------------------------------\n",
            "\n",
            "learning rate is:  0.001\n",
            "Train (10, 317) (1, 317)\n",
            "val (10, 36) (1, 36)\n",
            "train accuracy: 53.69178188657836 %\n",
            "test accuracy: 51.21717500752749 %\n",
            "\n",
            "-------------------------------------------------------\n",
            "\n"
          ]
        },
        {
          "output_type": "display_data",
          "data": {
            "text/plain": [
              "<Figure size 640x480 with 1 Axes>"
            ],
            "image/png": "[encoded data removed]"
          },
          "metadata": {}
        }
      ]
    },
    {
      "cell_type": "markdown",
      "source": [
        "## Non-Linear Regression Analysis"
      ],
      "metadata": {
        "id": "qSinJAHyGrmw"
      }
    },
    {
      "cell_type": "markdown",
      "source": [
        "Para nuestro nuevo sistema de aprendizaje, la función $F(X)$ ya no varía linealmente con X. La relación (2) de las siguientes ecuaciones ya no es válida:\n",
        "    \n",
        "$$z^{(j)} = w^T x^{(j)} + b = \\sum_{i \\in j} w_{i} x_{i}^{(j)} + b $$\n",
        "    \n",
        "$$F(x^{(j)}) = a^{(j)} = f(z^{(j)})=z^{(j)}$$\n",
        "\n",
        "\n",
        "Para tomar en cuenta la no linealidad, la función $f(z)=z$ se cambia por una función ligeramente no lineal alrededor de cero. Esto se logra empleando en su lugar una función del tipo sigmoid, por ejemplo $f(z)=tanh(z)$. Con este cambio, la ecuación (2) se transforma entonces en: $$ $$\n",
        "$$F(x^{(j)}) = a^{(j)} = f(z^{(j)}) = tanh(z^{(j)})$$     "
      ],
      "metadata": {
        "id": "vlwdYnChGu1m"
      }
    },
    {
      "cell_type": "code",
      "source": [
        "def tanh(x):\n",
        "    return (np.exp(x)-np.exp(-x))/(np.exp(x)+np.exp(-x))"
      ],
      "metadata": {
        "id": "-SEuaI3BsKwl"
      },
      "execution_count": 36,
      "outputs": []
    },
    {
      "cell_type": "code",
      "source": [
        "#The following arrays are generated for plotting the Function F(x, weight_0, bias_0)\n",
        "x_ = np.arange(-2, 2.0, 0.1)\n",
        "y_ = 1.7159*tanh((2/3*x_))\n",
        "\n",
        "#Samples and function F are plotted\n",
        "plt.figure(figsize=(13,8))\n",
        "plt.figure(figsize=(13,8))\n",
        "plt.rc('xtick', labelsize=16)\n",
        "plt.rc('ytick', labelsize=16)\n",
        "plt.rc('legend', fontsize=16)\n",
        "plt.ylabel('Y', fontsize=16)\n",
        "plt.xlabel('X', fontsize=16)\n",
        "plt.grid(True)\n",
        "plt.title('Sigmoid-type = 1.7159*tanh((2/3*x)', size=20)\n",
        "\n",
        "#Plotting function\n",
        "plt.plot(x_, y_, color='green', lw=4)\n",
        "\n",
        "plt.show()"
      ],
      "metadata": {
        "colab": {
          "base_uri": "https://localhost:8080/",
          "height": 756
        },
        "id": "Pp94KXmTG3dc",
        "outputId": "5dd64729-8f20-4bcb-affc-138381479a3e"
      },
      "execution_count": 37,
      "outputs": [
        {
          "output_type": "display_data",
          "data": {
            "text/plain": [
              "<Figure size 1300x800 with 0 Axes>"
            ]
          },
          "metadata": {}
        },
        {
          "output_type": "display_data",
          "data": {
            "text/plain": [
              "<Figure size 1300x800 with 1 Axes>"
            ],
            "image/png": "[encoded data removed]"
          },
          "metadata": {}
        }
      ]
    },
    {
      "cell_type": "markdown",
      "source": [
        "## Sistema de aprendizaje que relaciona las variables X y Y"
      ],
      "metadata": {
        "id": "PshmqhQWG9TQ"
      }
    },
    {
      "cell_type": "markdown",
      "source": [
        "Se tienen $m$ muestras.\n",
        "    \n",
        "Para una muestra $j \\in m$ $x^{(j)}$:\n",
        "\n",
        "$$z^{(j)} = w^T x^{(j)} + b $$\n",
        "\n",
        "$z^{(j)}$ es la combinacion lineal entre los pesos ($w$) y la muestra $x^{(j)}$ + el bias b. Posteriormente esta sumatoria es transformada, para generar el valor de salida $a^{(j)}$, mediante una función. En el presente caso la función es del tipo sigmoide (*tanh*), porque la relación es ligeramente no-lineal.\n",
        "\n",
        "$$ a^{(j)} = tanh(z^{(j)})$$\n",
        "\n",
        "La funcion de perdida (*loss*), tambien llamada costo *cost*, $\\textbf {J}$, es el promedio, sobre todas las muestras, de la diferencia al cuadrado entre el valor medido ($y^{(j)}$) y el valor que predice la funcion de activacion ($a^{(j)}$).  \n",
        "\n",
        "$$ J = \\frac{1}{m} \\sum_{j=1}^m (a^{(j)} - y^{(j)})^2$$\n",
        "\n",
        "\n"
      ],
      "metadata": {
        "id": "DFeBCTBLG-6X"
      }
    },
    {
      "cell_type": "markdown",
      "source": [
        "En lugar de emplear la función $f(z^{(j)})=tanh(z^{(j)})$ para la activación, empleamos la función\n",
        "\n",
        "$$ f(z^{(j)}) = 1.7159*tanh(2*z^{(j)}/3) $$\n",
        "\n",
        "[Activation-function](./Literatura/Efficient-backprop_Lecun_1998.pdf)$$ $$\n",
        "Con ello, la varianza es cercana a 1, el valor de la función es ligeramente no lineal entre -1 y +1, y la derivada es máxima para $z^{(j)} = 1$\n",
        "$$ $$\n",
        "Con esto, la función de costo, $J$ está dada por:\n",
        "\n",
        "$$ J = \\dfrac{1}{m}\\sum_{i=0}^{m}(1.7159*tanh(2*z^{(j)}/3)-y^{(j)})^2 $$"
      ],
      "metadata": {
        "id": "4O583RgaHE9m"
      }
    },
    {
      "cell_type": "markdown",
      "source": [
        "## Se inicializan las variables del sistema de aprendizaje que define la relación entre X y Y."
      ],
      "metadata": {
        "id": "Q59HOxlVIwT1"
      }
    },
    {
      "cell_type": "code",
      "source": [
        "def initialize_params_1(dim):\n",
        "    \"\"\"\n",
        "    This function creates a vector of zeros of shape (dim, 1) for w and initializes b to 0.\n",
        "\n",
        "    Argument:\n",
        "    dim -- size of the w vector we want (or number of parameters in this case)\n",
        "\n",
        "    Returns:\n",
        "    w -- initialized vector of shape (dim, 1)\n",
        "    b -- initialized scalar (corresponds to the bias)\n",
        "    \"\"\"\n",
        "\n",
        "    w = np.reshape(np.random.uniform(-0.1, 0.1, dim), (dim, 1))\n",
        "    b = 0\n",
        "\n",
        "    assert(w.shape == (dim, 1))\n",
        "    assert(isinstance(b, float) or isinstance(b, int))\n",
        "\n",
        "    return w, b"
      ],
      "metadata": {
        "id": "KodCTZ4zG432"
      },
      "execution_count": 38,
      "outputs": []
    },
    {
      "cell_type": "code",
      "source": [
        "def atanh(x):\n",
        "    return 1.7159*tanh(2*x/3)"
      ],
      "metadata": {
        "id": "I3tjX-vMHEVI"
      },
      "execution_count": 39,
      "outputs": []
    },
    {
      "cell_type": "code",
      "source": [
        "def d_atanh(z):\n",
        "    return 1.7159*(1-np.square(atanh(z)))*(2/3)"
      ],
      "metadata": {
        "id": "IwYPXvbJI4Vn"
      },
      "execution_count": 40,
      "outputs": []
    },
    {
      "cell_type": "code",
      "source": [
        "# Probando el código\n",
        "\n",
        "dim = train_x.shape[0]\n",
        "w, b = initialize_params(dim)\n",
        "print (\"w = \" + str(w))\n",
        "print (\"b = \" + str(b))"
      ],
      "metadata": {
        "colab": {
          "base_uri": "https://localhost:8080/"
        },
        "id": "716uu6V9I5-c",
        "outputId": "f56cb59c-3d08-48d7-aa33-c21c272d2399"
      },
      "execution_count": 41,
      "outputs": [
        {
          "output_type": "stream",
          "name": "stdout",
          "text": [
            "w = [[-0.02642711]\n",
            " [-0.09813236]\n",
            " [-0.00855309]\n",
            " [ 0.02762734]\n",
            " [-0.04286377]\n",
            " [ 0.07022251]\n",
            " [ 0.04410821]\n",
            " [ 0.04706651]\n",
            " [-0.08823105]\n",
            " [ 0.07361305]]\n",
            "b = 0\n"
          ]
        }
      ]
    },
    {
      "cell_type": "code",
      "source": [
        "def propagate_1(w, b, X, Y, X_val, Y_val):\n",
        "\n",
        "    m = X.shape[1]\n",
        "    m_val = X.shape[1]\n",
        "\n",
        "    A = atanh(np.dot(w.T, X)+b)\n",
        "    A_val = atanh(np.dot(w.T,X_val)+b)\n",
        "\n",
        "    cost = (1/m)*np.sum((Y-A)**2)\n",
        "    cost_val = (1/m_val)*np.sum((Y_val-A_val)**2)\n",
        "\n",
        "    dA = A-Y\n",
        "    dZ = d_atanh(np.dot(w.T, X)+b)\n",
        "\n",
        "    dw = (1/m)*np.dot(dA, (dZ*X).T).T\n",
        "    db = (1/m)*np.sum((A-Y)*(1-np.power(A, 2)), axis=1, keepdims=True)\n",
        "\n",
        "\n",
        "    assert(dw.shape == w.shape)\n",
        "    assert(db.dtype == float)\n",
        "    cost = np.squeeze(cost)\n",
        "    assert(cost.shape == ())\n",
        "\n",
        "    grads = {\"dw\": dw,\n",
        "             \"db\": db}\n",
        "\n",
        "    return grads, cost, cost_val"
      ],
      "metadata": {
        "id": "bS7kYtfDI8EF"
      },
      "execution_count": 42,
      "outputs": []
    },
    {
      "cell_type": "code",
      "source": [
        "x1_val = np.array([[1.,2.,-2.],[2.,4.,-3.2]])\n",
        "y1_val = np.array([[1,0,2]])\n",
        "\n",
        "w, b, X, Y = np.array([[1.],[2.]]), 2., np.array([[1.,2.,-1.],[3.,4.,-3.2]]), np.array([[1,0,1]])\n",
        "grads, cost, cost_val = propagate_1(w, b, X, Y,x1_val, y1_val)\n",
        "print (\"dw = \" + str(grads[\"dw\"]))\n",
        "print (\"db = \" + str(grads[\"db\"]))\n",
        "print (\"cost = \" + str(cost))\n"
      ],
      "metadata": {
        "colab": {
          "base_uri": "https://localhost:8080/"
        },
        "id": "qLnSN_pvI98m",
        "outputId": "70ecc25c-a4b9-4bf6-d60b-615f23192248"
      },
      "execution_count": 43,
      "outputs": [
        {
          "output_type": "stream",
          "name": "stdout",
          "text": [
            "dw = [[ -5.07757178]\n",
            " [-13.08893287]]\n",
            "db = [[0.17455838]]\n",
            "cost = 3.6063356189939464\n"
          ]
        }
      ]
    },
    {
      "cell_type": "markdown",
      "source": [
        "    \n",
        "La función *optimize_1(  )*  actualiza los pesos $w$ y el bias $b$ usando el método de gradiente descendente.\n",
        "\n",
        "Se calcula la función de costo para las muestras empleadas en el entrenamiento y para las asignadas a la validación.\n",
        "    \n",
        "Los pesos $ w $ y el bias $ b $ son modificados en cada época hasta que la función de costo $ J $ llega a su valor mínimo.\n",
        "\n",
        "Los pesos $ w_{i} $ y el bias $b$ se actualizan mediante la siguientes relaciones: $$ $$ $$ w_{i} := w_{i} - \\alpha \\frac{\\partial J}{\\partial w_{i}} $$\n",
        "\n",
        "$$ b := b - \\alpha \\frac{\\partial J}{\\partial b} $$ $$ $$ $ \\alpha $ es el hyperparámetro que define la relación de aprendizaje."
      ],
      "metadata": {
        "id": "xjNyhJn6JHac"
      }
    },
    {
      "cell_type": "code",
      "source": [
        "def optimize_1(w, b, X, Y, X_val, Y_val, epochs, learning_rate, print_cost = False):\n",
        "\n",
        "    costs = []\n",
        "    costs_val = []\n",
        "\n",
        "    for i in range(epochs):\n",
        "\n",
        "        grads, cost, cost_val = propagate_1(w, b, X, Y, X_val, Y_val)\n",
        "\n",
        "        # Retrieve derivatives from grads\n",
        "        dw = grads[\"dw\"]\n",
        "        db = grads[\"db\"]\n",
        "\n",
        "        # update parameters\n",
        "        w = w-learning_rate*dw\n",
        "        b = b-learning_rate*db\n",
        "\n",
        "        # Record the costs\n",
        "        if i % 100 == 0:\n",
        "            costs.append(cost)\n",
        "            costs_val.append(cost_val)\n",
        "\n",
        "        # Print the cost every 100 training iterations\n",
        "        if print_cost and i % 100 == 0:\n",
        "            print (\"Cost and Cost_val after iteration %i: %f %f\" %(i, cost, cost_val))\n",
        "\n",
        "    params = {\"w\": w,\n",
        "              \"b\": b}\n",
        "\n",
        "    grads = {\"dw\": dw,\n",
        "             \"db\": db}\n",
        "\n",
        "    return params, grads, costs, costs_val"
      ],
      "metadata": {
        "id": "DEOa0pCJJCc3"
      },
      "execution_count": 44,
      "outputs": []
    },
    {
      "cell_type": "code",
      "source": [
        "epochs = 100\n",
        "params, grads, costs, costs_val = optimize_1(w, b, X, Y, x1_val, y1_val, epochs=epochs, learning_rate = 0.009, print_cost = False)\n",
        "\n",
        "print (\"w = \" + str(params[\"w\"]))\n",
        "print (\"b = \" + str(params[\"b\"]))\n",
        "print (\"dw = \" + str(grads[\"dw\"]))\n",
        "print (\"db = \" + str(grads[\"db\"]))"
      ],
      "metadata": {
        "colab": {
          "base_uri": "https://localhost:8080/"
        },
        "id": "M9WKq4_VJOTi",
        "outputId": "7022059d-7046-4f5c-8a08-5d5444ea0df9"
      },
      "execution_count": 45,
      "outputs": [
        {
          "output_type": "stream",
          "name": "stdout",
          "text": [
            "w = [[ 5.57950249]\n",
            " [13.81103216]]\n",
            "b = [[1.83448553]]\n",
            "dw = [[ -5.08859121]\n",
            " [-13.12418521]]\n",
            "db = [[0.18412642]]\n"
          ]
        }
      ]
    },
    {
      "cell_type": "markdown",
      "source": [
        "Una vez que se encuentran los valores de los pesos 𝑤 y del bias 𝑏 que minimizan la función de costo, la función, 𝐹(𝑋) que se genera con estos valores se emplea para inferir valores de Y asociados a las muestras de prueba, los cuales se comparan con los valores Y conocidos de estas muestras.\n",
        "$$ $$\n",
        "\n",
        "    \n",
        "La función *predic()_1* calcula $𝐹(𝑋)$ empleando los valores de 𝑤 y 𝑏\n",
        "para los cuales el costo es mínimo.\n",
        "\n"
      ],
      "metadata": {
        "id": "iqW5Aj54JTP1"
      }
    },
    {
      "cell_type": "code",
      "source": [
        "def predict_1(w, b, X):\n",
        "\n",
        "    #m = X.shape[1]\n",
        "    #Y_prediction = np.zeros((1,m))\n",
        "    w = w.reshape(X.shape[0], 1)\n",
        "\n",
        "    # Compute vector \"A\" predicting the probabilities of a cat being present in the picture\n",
        "    #A = sigmoid(np.dot(w.T, X)+b)\n",
        "    A = atanh(np.dot(w.T, X)+b)\n",
        "\n",
        "    return A"
      ],
      "metadata": {
        "id": "MUWpGDfsJQPk"
      },
      "execution_count": 46,
      "outputs": []
    },
    {
      "cell_type": "code",
      "source": [
        "w = np.array([[0.1124579],[0.23106775]])\n",
        "b = 0.0\n",
        "X = np.array([[1.,-1.1,-3.2],[1.2,2.,0.1]])\n",
        "print (\"predictions = \" + str(predict_1(w, b, X)))"
      ],
      "metadata": {
        "colab": {
          "base_uri": "https://localhost:8080/"
        },
        "id": "3uV341FhJX6Q",
        "outputId": "c3b1d532-057d-4e05-c648-42e710c4ddc3"
      },
      "execution_count": 47,
      "outputs": [
        {
          "output_type": "stream",
          "name": "stdout",
          "text": [
            "predictions = [[ 0.43606665  0.38070532 -0.37888495]]\n"
          ]
        }
      ]
    },
    {
      "cell_type": "markdown",
      "source": [
        "Para estructurar el sistema de aprendizaje, se juntan todos las funciones implementadas en las partes anteriores, en el orden correcto.\n"
      ],
      "metadata": {
        "id": "3CGkQEYCJc8l"
      }
    },
    {
      "cell_type": "code",
      "source": [
        "def model_1(X_train, Y_train, val_ratio, epochs = 2000, learning_rate = 0.5, print_cost = False):\n",
        "    \"\"\"\n",
        "    Builds the logistic regression model by calling the function you've implemented previously\n",
        "\n",
        "    Arguments:\n",
        "    X_train -- training set represented by a numpy array of shape (num_px * num_px * 3, m_train)\n",
        "    Y_train -- training labels represented by a numpy array (vector) of shape (1, m_train)\n",
        "    X_test -- test set represented by a numpy array of shape (num_px * num_px * 3, m_test)\n",
        "    Y_test -- test labels represented by a numpy array (vector) of shape (1, m_test)\n",
        "    epochs -- hyperparameter representing the number of iterations to optimize the parameters\n",
        "    learning_rate -- hyperparameter representing the learning rate used in the update rule of optimize()\n",
        "    print_cost -- Set to true to print the cost every 100 iterations\n",
        "\n",
        "    Returns:\n",
        "    d -- dictionary containing information about the model.\n",
        "    \"\"\"\n",
        "\n",
        "    train_ratio = int((1-val_ratio)*X_train.shape[1])\n",
        "    X_val = X_train[:,train_ratio:]\n",
        "    Y_val = Y_train[:,train_ratio:]\n",
        "\n",
        "    X_train = X_train[:,:train_ratio]\n",
        "    Y_train = Y_train[:,:train_ratio]\n",
        "\n",
        "    print(\"Train\",X_train.shape,Y_train.shape)\n",
        "    print(\"val\",X_val.shape,Y_val.shape)\n",
        "\n",
        "\n",
        "    # initialize parameters\n",
        "    w, b = initialize_params_1(X_train.shape[0])\n",
        "\n",
        "    # Gradient descent\n",
        "    parameters, grads, costs, costs_val = optimize_1(w, b, X_train, Y_train, X_val, Y_val, epochs, learning_rate, print_cost = print_cost)\n",
        "\n",
        "    # Retrieve parameters w and b from dictionary \"parameters\"\n",
        "    w = parameters[\"w\"]\n",
        "    b = parameters[\"b\"]\n",
        "\n",
        "    print(w.shape)\n",
        "\n",
        "    # Predict test/train set examples\n",
        "    Y_prediction_val = predict_1(w, b, X_val)\n",
        "    Y_prediction_train = predict_1(w, b, X_train)\n",
        "\n",
        "    # Print train/test Errors\n",
        "    print(\"train accuracy: {} %\".format(100 - np.mean(np.power(Y_prediction_train - Y_train, 2)) * 100))\n",
        "    print(\"test accuracy: {} %\".format(100 - np.mean(np.power(Y_prediction_val - Y_val, 2)) * 100))\n",
        "\n",
        "\n",
        "    d = {\"costs\": costs,\"costs_val\": costs_val,\n",
        "         \"Y_prediction_val\": Y_prediction_val,\n",
        "         \"Y_prediction_train\" : Y_prediction_train,\n",
        "         \"w\" : w,\n",
        "         \"b\" : b,\n",
        "         \"learning_rate\" : learning_rate,\n",
        "         \"num_iterations\": epochs}\n",
        "\n",
        "    return d"
      ],
      "metadata": {
        "id": "Mjis9KwpJZp9"
      },
      "execution_count": 48,
      "outputs": []
    },
    {
      "cell_type": "code",
      "source": [
        "\n",
        "epochs = 1000\n",
        "learning_rate = 0.005\n",
        "val_ratio = 0.1\n",
        "\n",
        "d = model_1(train_x, train_y.T, val_ratio=val_ratio, epochs = epochs,\n",
        "          learning_rate = learning_rate, print_cost = True)"
      ],
      "metadata": {
        "colab": {
          "base_uri": "https://localhost:8080/"
        },
        "id": "d7rMehnBJfkP",
        "outputId": "ea33f91c-fb9e-4728-ac3e-6362ef86a138"
      },
      "execution_count": 49,
      "outputs": [
        {
          "output_type": "stream",
          "name": "stdout",
          "text": [
            "Train (10, 317) (1, 317)\n",
            "val (10, 36) (1, 36)\n",
            "Cost and Cost_val after iteration 0: 0.927784 0.143198\n",
            "Cost and Cost_val after iteration 100: 0.553583 0.078039\n",
            "Cost and Cost_val after iteration 200: 0.503367 0.068525\n",
            "Cost and Cost_val after iteration 300: 0.482402 0.064417\n",
            "Cost and Cost_val after iteration 400: 0.471411 0.062141\n",
            "Cost and Cost_val after iteration 500: 0.464853 0.060703\n",
            "Cost and Cost_val after iteration 600: 0.460615 0.059704\n",
            "Cost and Cost_val after iteration 700: 0.457741 0.058954\n",
            "Cost and Cost_val after iteration 800: 0.455747 0.058352\n",
            "Cost and Cost_val after iteration 900: 0.454370 0.057840\n",
            "(10, 1)\n",
            "train accuracy: 54.65354709989507 %\n",
            "test accuracy: 49.469536484955135 %\n"
          ]
        }
      ]
    },
    {
      "cell_type": "code",
      "source": [
        "costs = np.squeeze(d['costs'])\n",
        "costs_val = np.squeeze(d['costs_val'])\n",
        "\n",
        "plt.plot(costs, color='red')\n",
        "plt.plot(costs_val, color='green')\n",
        "plt.ylabel('cost', size=16)\n",
        "plt.xlabel('epoch x 100', size=16)\n",
        "plt.title(\"Learning rate =\" + str(d[\"learning_rate\"]))\n",
        "plt.legend(['Train', 'Val'], loc='upper right')\n",
        "plt.show()"
      ],
      "metadata": {
        "colab": {
          "base_uri": "https://localhost:8080/",
          "height": 484
        },
        "id": "iGqjP3FtJiVi",
        "outputId": "c63872ab-9f0a-40d4-abee-d99237813358"
      },
      "execution_count": 50,
      "outputs": [
        {
          "output_type": "display_data",
          "data": {
            "text/plain": [
              "<Figure size 640x480 with 1 Axes>"
            ],
            "image/png": "[encoded data removed]"
          },
          "metadata": {}
        }
      ]
    },
    {
      "cell_type": "code",
      "source": [
        "learning_rates = [0.005, 0.003, 0.001]\n",
        "val_ratio = 0.1\n",
        "models = {}\n",
        "for i in learning_rates:\n",
        "    print (\"learning rate is: \", i)\n",
        "    models[str(i)] = model_1(train_x, train_y.T, val_ratio=val_ratio, epochs = 1000, learning_rate = i, print_cost = False)\n",
        "    print ('\\n' + \"-------------------------------------------------------\" + '\\n')\n",
        "\n",
        "for i in learning_rates:\n",
        "    plt.plot(np.squeeze(models[str(i)][\"costs\"]), label= str(models[str(i)][\"learning_rate\"]))\n",
        "    plt.plot(np.squeeze(models[str(i)][\"costs_val\"]), label= str(models[str(i)][\"learning_rate\"]))\n",
        "plt.ylabel('cost')\n",
        "plt.xlabel('epochx100')\n",
        "\n",
        "legend = plt.legend(loc='upper center', shadow=True)\n",
        "frame = legend.get_frame()\n",
        "frame.set_facecolor('0.90')\n",
        "plt.show()"
      ],
      "metadata": {
        "colab": {
          "base_uri": "https://localhost:8080/",
          "height": 937
        },
        "id": "XY2M0HwPJmAB",
        "outputId": "cfaaeadc-999e-4d26-e21d-1894227f2bde"
      },
      "execution_count": 51,
      "outputs": [
        {
          "output_type": "stream",
          "name": "stdout",
          "text": [
            "learning rate is:  0.005\n",
            "Train (10, 317) (1, 317)\n",
            "val (10, 36) (1, 36)\n",
            "(10, 1)\n",
            "train accuracy: 54.59512643829145 %\n",
            "test accuracy: 49.48714975984383 %\n",
            "\n",
            "-------------------------------------------------------\n",
            "\n",
            "learning rate is:  0.003\n",
            "Train (10, 317) (1, 317)\n",
            "val (10, 36) (1, 36)\n",
            "(10, 1)\n",
            "train accuracy: 53.99941756952014 %\n",
            "test accuracy: 47.963395270372644 %\n",
            "\n",
            "-------------------------------------------------------\n",
            "\n",
            "learning rate is:  0.001\n",
            "Train (10, 317) (1, 317)\n",
            "val (10, 36) (1, 36)\n",
            "(10, 1)\n",
            "train accuracy: 49.63700142738416 %\n",
            "test accuracy: 37.768969569186716 %\n",
            "\n",
            "-------------------------------------------------------\n",
            "\n"
          ]
        },
        {
          "output_type": "display_data",
          "data": {
            "text/plain": [
              "<Figure size 640x480 with 1 Axes>"
            ],
            "image/png": "[encoded data removed]"
          },
          "metadata": {}
        }
      ]
    },
    {
      "cell_type": "markdown",
      "source": [
        "# Artificial Neural Networks"
      ],
      "metadata": {
        "id": "ylk0BjDKJw_e"
      }
    },
    {
      "cell_type": "markdown",
      "source": [
        "Inspirandose en modelos que intentan describir las conecciones entre las neuronas en nuestro cerebro, se propusieron (y se siguen proponiendo) modelos de redes neuronales para generar sistemas de aprendizaje. Se les conoce con el nombre de redes neuronales artificiales, o simplemente como redes neuronales."
      ],
      "metadata": {
        "id": "C3SLtrFUJz7-"
      }
    },
    {
      "cell_type": "markdown",
      "source": [
        "## Implementación de una red neuronal del tipo \"Full Feed-forward (FFF)\"."
      ],
      "metadata": {
        "id": "mt9OGyMJJ3n6"
      }
    },
    {
      "cell_type": "markdown",
      "source": [
        "\n",
        "<p>En nuestro primer modelo, la red neuronal tiene 3 capas: la capa de entrada, la capa de salida y una capa interior (en la literatura, a esta capa interna se le da el nombre de capa oculta). </p>\n",
        "<p>El objetivo del modelo es encontrar una función que describa la evolución de la Diabetes Mellitus en una año, a partir de su linea base, con los rasgos de la persona que se consideran importantes para su evolución. Los rasgos propuestos son: edad, sexo, índice de masa corporal, presión arterial promedio y las seis mediciones de suero sanguíneo descritas al inicio: el colesterol total, la densidad baja de lipoproteinas, la densidad alta de lipoproteinas, los trigliceridos, la concentración de lamorigina y la glucosa</p>\n",
        "<p>Esta función se genera mediante una red de neuronas artificiales. Se entiende como neurona un modelo matemático simple de una neurona biológica.</p>\n"
      ],
      "metadata": {
        "id": "7BX1lyMCJ5d3"
      }
    },
    {
      "cell_type": "markdown",
      "source": [
        "## Adecuando lo datos de alimentación al sistema de aprendizaje"
      ],
      "metadata": {
        "id": "Qpd-J9lfJ5bT"
      }
    },
    {
      "cell_type": "markdown",
      "source": [
        "Antes de inciar el desarrollo del sistema, transformamos los datos de entrada para que sean compatibles con el modelo que desarrollaremos. El fomato de entrada de las variables X y Y, tanto para el entrenamiento como para la prueba es un poco diferente al empleado en los sistemas de aprendizaje anteriores."
      ],
      "metadata": {
        "id": "uQa3kTEpKGKn"
      }
    },
    {
      "cell_type": "code",
      "source": [
        "print(train_x.shape)\n",
        "print(train_y.shape)\n",
        "print(test_x.shape)\n",
        "print(test_y.shape)"
      ],
      "metadata": {
        "colab": {
          "base_uri": "https://localhost:8080/"
        },
        "id": "xYQA0akPKFau",
        "outputId": "64a809fe-8f2f-4a6a-d8ee-466bad4d68a5"
      },
      "execution_count": 52,
      "outputs": [
        {
          "output_type": "stream",
          "name": "stdout",
          "text": [
            "(10, 353)\n",
            "(353, 1)\n",
            "(10, 89)\n",
            "(89, 1)\n"
          ]
        }
      ]
    },
    {
      "cell_type": "code",
      "source": [
        "train_y = train_y.T\n",
        "test_y = test_y.T"
      ],
      "metadata": {
        "id": "D6Do7qZcJrl4"
      },
      "execution_count": 53,
      "outputs": []
    },
    {
      "cell_type": "code",
      "source": [
        "print(train_x.shape)\n",
        "print(train_y.shape)\n",
        "print(test_x.shape)\n",
        "print(test_y.shape)"
      ],
      "metadata": {
        "colab": {
          "base_uri": "https://localhost:8080/"
        },
        "id": "Vy-YP3Y4KUw9",
        "outputId": "ec61c76a-b992-4334-a5de-3616b6a2d11a"
      },
      "execution_count": 54,
      "outputs": [
        {
          "output_type": "stream",
          "name": "stdout",
          "text": [
            "(10, 353)\n",
            "(1, 353)\n",
            "(10, 89)\n",
            "(1, 89)\n"
          ]
        }
      ]
    },
    {
      "cell_type": "markdown",
      "source": [
        "Definición de la arquitectura de la red neuronal.\n",
        "\n",
        "Se emplea indistintamente la palabra neurona o nodo para referirse al modelo matematico de la neurona.\n",
        "\n",
        "El número de nodos en la capa de entrada depende del numero de rasgos del sistema que definen la variable objetivo, la evolución de la diabetes en un año. En el presente caso el número de rasgos es diez.\n",
        "\n",
        "El número de nodos en la capa de salida depende del tipo de problema. En el presente caso, se tiene una sola neurona, cuya salida nos da un número que cuantifica la evolución de la diabetes en un año.\n",
        "\n",
        "En el presente modelo, sólo tenemos una capa interna, el número de nodos en ella es variable. Se hacen pruebas con diferentes números y se adopta el que de los mejores resultados.\n",
        "\n",
        "La función layer_sizes() genera la arquitectura de la red neuronal partiendo de los datos con que se van a alimentar a la red.\n"
      ],
      "metadata": {
        "id": "BgsVwETqKYz2"
      }
    },
    {
      "cell_type": "code",
      "source": [
        "def layer_sizes(X, Y, n_h):\n",
        "    \"\"\"\n",
        "    Arguments:\n",
        "    X -- input dataset of shape (input size, number of examples)\n",
        "    Y -- labels of shape (output size, number of examples)\n",
        "\n",
        "    Returns:\n",
        "    n_x -- the size of the input layer\n",
        "    n_h -- the size of the hidden layer\n",
        "    n_y -- the size of the output layer\n",
        "    \"\"\"\n",
        "\n",
        "    n_x = X.shape[0]\n",
        "\n",
        "    n_h = n_h\n",
        "\n",
        "    n_y = Y.shape[0]\n",
        "\n",
        "    return (n_x, n_h, n_y)"
      ],
      "metadata": {
        "id": "puO967DTKWU7"
      },
      "execution_count": 55,
      "outputs": []
    },
    {
      "cell_type": "code",
      "source": [
        "train_y.shape"
      ],
      "metadata": {
        "colab": {
          "base_uri": "https://localhost:8080/"
        },
        "id": "zz_yMNuouLAX",
        "outputId": "475f3e94-d67d-4b9d-978d-2673808acce1"
      },
      "execution_count": 56,
      "outputs": [
        {
          "output_type": "execute_result",
          "data": {
            "text/plain": [
              "(1, 353)"
            ]
          },
          "metadata": {},
          "execution_count": 56
        }
      ]
    },
    {
      "cell_type": "code",
      "source": [
        "n_h = 4\n",
        "n_x, n_h, n_y = layer_sizes(train_x, train_y, n_h = n_h)"
      ],
      "metadata": {
        "id": "eDz7g_syKj4D"
      },
      "execution_count": 57,
      "outputs": []
    },
    {
      "cell_type": "code",
      "source": [
        "print(n_x, n_h, n_y)"
      ],
      "metadata": {
        "colab": {
          "base_uri": "https://localhost:8080/"
        },
        "id": "G5nDhPwPKlr9",
        "outputId": "5b8653ab-1223-4cb5-b7ff-b4a8075ac3a1"
      },
      "execution_count": 58,
      "outputs": [
        {
          "output_type": "stream",
          "name": "stdout",
          "text": [
            "10 4 1\n"
          ]
        }
      ]
    },
    {
      "cell_type": "markdown",
      "source": [
        "# Network Visualization     \n"
      ],
      "metadata": {
        "id": "UGYlhOUZtiYh"
      }
    },
    {
      "cell_type": "markdown",
      "source": [
        "Utilizaremos NetworkX, que es un paquete de Python para la creación, manipulación y estudio de la estructura, dinámica y funciones de redes complejas."
      ],
      "metadata": {
        "id": "Is1wKTQltlGz"
      }
    },
    {
      "cell_type": "code",
      "source": [
        "import networkx as nx\n",
        "\n",
        "class Network(object):\n",
        "\n",
        "    def  __init__ (self,sizes):\n",
        "        self.num_layers = len(sizes)\n",
        "        print(\"It has\", self.num_layers, \"layers,\")\n",
        "        self.sizes = sizes\n",
        "        print(\"with the following number of nodes per layer\",self.sizes)\n",
        "        self.biases = [np.random.randn(y, 1) for y in sizes[1:]]\n",
        "        self.weights = [np.random.randn(y, x)\n",
        "                        for x, y in zip(sizes[:-1], sizes[1:])]\n",
        "\n",
        "    def feedforward(self, x_of_sample):\n",
        "        \"\"\"Return the output of the network F(x_of_sample) \"\"\"\n",
        "        for b, w in zip(self.biases, self.weights):\n",
        "            x_of_sample = sigmoid(np.dot(w, x_of_sample)+b)\n",
        "        return x_of_sample\n",
        "\n",
        "    def graph(self,sizes):\n",
        "        a=[]\n",
        "        ps={}\n",
        "        Q = nx.Graph()\n",
        "        for i in range(len(sizes)):\n",
        "            Qi=nx.Graph()\n",
        "            n=sizes[i]\n",
        "            nodos=np.arange(n)\n",
        "            Qi.add_nodes_from(nodos)\n",
        "            l_i=Qi.nodes\n",
        "            Q = nx.union(Q, Qi, rename = (None, 'Q%i-'%i))\n",
        "            if len(l_i)==1:\n",
        "                ps['Q%i-0'%i]=[i/(len(sizes)), 1/2]\n",
        "            else:\n",
        "                for j in range(len(l_i)+1):\n",
        "                    ps['Q%i-%i'%(i,j)]=[i/(len(sizes)),(1/(len(l_i)*len(l_i)))+(j/(len(l_i)))]\n",
        "            a.insert(i,Qi)\n",
        "        for i in range(len(a)-1):\n",
        "            for j in range(len(a[i])):\n",
        "                for k in range(len(a[i+1])):\n",
        "                    Q.add_edge('Q%i-%i' %(i,j),'Q%i-%i' %(i+1,k))\n",
        "        nx.draw(Q, pos = ps)\n",
        ""
      ],
      "metadata": {
        "id": "e1zOEj8FKrSc"
      },
      "execution_count": 59,
      "outputs": []
    },
    {
      "cell_type": "code",
      "source": [
        "layers = [n_x, n_h, n_y]\n",
        "net = Network(layers)\n",
        "net.graph(layers)"
      ],
      "metadata": {
        "colab": {
          "base_uri": "https://localhost:8080/",
          "height": 552
        },
        "id": "pbOKNpWct-CA",
        "outputId": "67f264ce-1c68-4198-d8d5-17771c2b1557"
      },
      "execution_count": 83,
      "outputs": [
        {
          "output_type": "stream",
          "name": "stdout",
          "text": [
            "It has 3 layers,\n",
            "with the following number of nodes per layer [10, 4, 1]\n"
          ]
        },
        {
          "output_type": "display_data",
          "data": {
            "text/plain": [
              "<Figure size 640x480 with 1 Axes>"
            ],
            "image/png": "[encoded data removed]"
          },
          "metadata": {}
        }
      ]
    },
    {
      "cell_type": "markdown",
      "source": [
        "La funcion initialize_parameters() inicializa a los pesos $W$ y el bias $b$.\n",
        "\n",
        "Dado que se tiene un conjunto de variables independientes, se debe definir un peso para cada variable, esto para una sola neurona de la siguiente capa.\n",
        "\n",
        "Entonces $W_1$ ahora es una matriz de tamaño $(n_h, n_x)$, en donde $n_h$ es el numero de nodos en la capa intera y $n_x$ es el numero de nodos en la capa de entrada, es decir, es el numero de variables independientes (rasgos).\n",
        "\n",
        "Para cada neurona en la capa interna hay un bias, por lo que ahora $b_1$ es un vector de tamaño $(n_h, 1)$.\n",
        "\n",
        "En general para cada par de capas consecutivas debe haber un $W$ y un $b$.\n",
        "\n",
        "Generalizando:\n",
        "\n",
        "$W_i$ y $b_i$ son los parametros a definir entre la capa $i$ y la capa $i+1$. Si la capa $i$ tiene $n_i$ neuronas y la capa $i+1$ tiene $n_{i+1}$ neuronas, entonces las dimensiones de $W_{i}$ son $(n_{i+1}, n_i)$ y las de $b_i$ son $(n_{i+1}, 1)$."
      ],
      "metadata": {
        "id": "OxqtxGPHwge5"
      }
    },
    {
      "cell_type": "code",
      "source": [
        "def initialize_parameters(n_x, n_h, n_y):\n",
        "    \"\"\"\n",
        "    Argument:\n",
        "    n_x -- size of the input layer\n",
        "    n_h -- size of the hidden layer\n",
        "    n_y -- size of the output layer\n",
        "\n",
        "    Returns:\n",
        "    params -- python dictionary containing your parameters:\n",
        "                    W1 -- weight matrix of shape (n_h, n_x)\n",
        "                    b1 -- bias vector of shape (n_h, 1)\n",
        "                    W2 -- weight matrix of shape (n_y, n_h)\n",
        "                    b2 -- bias vector of shape (n_y, 1)\n",
        "    \"\"\"\n",
        "\n",
        "    np.random.seed(2)\n",
        "\n",
        "    W1 = np.reshape(np.random.uniform(-0.1, 0.1, n_h*n_x), (n_h, n_x))\n",
        "\n",
        "    b1 = np.zeros((n_h, 1))\n",
        "\n",
        "    W2 = np.reshape(np.random.uniform(-0.1, 0.1, n_y*n_h), (n_y, n_h))\n",
        "\n",
        "    b2 = np.zeros((n_y, 1))\n",
        "\n",
        "\n",
        "    assert (W1.shape == (n_h, n_x))\n",
        "    assert (b1.shape == (n_h, 1))\n",
        "    assert (W2.shape == (n_y, n_h))\n",
        "    assert (b2.shape == (n_y, 1))\n",
        "\n",
        "    parameters = {\"W1\": W1,\n",
        "                  \"b1\": b1,\n",
        "                  \"W2\": W2,\n",
        "                  \"b2\": b2}\n",
        "\n",
        "    return parameters"
      ],
      "metadata": {
        "id": "bMM1pD_luBFz"
      },
      "execution_count": 61,
      "outputs": []
    },
    {
      "cell_type": "code",
      "source": [
        "initialize_parameters(n_x, n_h, n_y)"
      ],
      "metadata": {
        "colab": {
          "base_uri": "https://localhost:8080/"
        },
        "id": "UpQD1tPWy1Wx",
        "outputId": "fa1395f2-c471-40cb-e41d-5673332289d8"
      },
      "execution_count": 62,
      "outputs": [
        {
          "output_type": "execute_result",
          "data": {
            "text/plain": [
              "{'W1': array([[-0.01280102, -0.09481475,  0.0099325 , -0.01293552, -0.01592644,\n",
              "         -0.03393304, -0.05907027,  0.02385419, -0.04006907, -0.04663454],\n",
              "        [ 0.02422677,  0.00582842, -0.07308401,  0.00271562, -0.06311203,\n",
              "          0.05706703,  0.07079506, -0.00115263,  0.0693123 , -0.0840709 ],\n",
              "        [ 0.00104922, -0.0869427 , -0.01437553, -0.08069382, -0.07456801,\n",
              "          0.01934906, -0.0547976 , -0.07861086, -0.05593876, -0.03003474],\n",
              "        [-0.0064425 , -0.05965135,  0.02808135, -0.00338603,  0.00104734,\n",
              "         -0.02262147,  0.05872749,  0.01600084, -0.06754028,  0.04015047]]),\n",
              " 'b1': array([[0.],\n",
              "        [0.],\n",
              "        [0.],\n",
              "        [0.]]),\n",
              " 'W2': array([[ 9.29102160e-02,  1.67223404e-06,  7.79040128e-02,\n",
              "         -3.16772695e-02]]),\n",
              " 'b2': array([[0.]])}"
            ]
          },
          "metadata": {},
          "execution_count": 62
        }
      ]
    },
    {
      "cell_type": "markdown",
      "source": [
        "La funcion *propagate()* realiza la combinacion lineal entre los valores de salida de los nodos de una capa con los pesos y bias definidos entre esa capa y la siguiente.\n",
        "\n",
        "La función de activación que se aplica a esta sumatoria, es para considerar efectos no lineales.\n",
        "\n",
        "\n",
        "___\n",
        "\n",
        "Funciones de activación disponibles en la presente notebook:"
      ],
      "metadata": {
        "id": "pH9BCYnpzlK8"
      }
    },
    {
      "cell_type": "code",
      "source": [
        "#Función para considerar los efectos no lineales.\n",
        "#En el presente caso se considera un modelo completamente lineal.\n",
        "#Por ello la función es la identidad.\n",
        "\n",
        "def identity(z):\n",
        "    \"\"\"\n",
        "    Arguments:\n",
        "    z -- A scalar or numpy array of any size.\n",
        "\n",
        "    Return:\n",
        "    s -- z\n",
        "    \"\"\"\n",
        "    s = 1.0 * z\n",
        "\n",
        "    return s"
      ],
      "metadata": {
        "id": "7fRBbEzQzBei"
      },
      "execution_count": 63,
      "outputs": []
    },
    {
      "cell_type": "code",
      "source": [
        "def identity_derivative(z):\n",
        "    return 1.0 * z * (1/z)"
      ],
      "metadata": {
        "id": "PHtfLjxVzyZV"
      },
      "execution_count": 64,
      "outputs": []
    },
    {
      "cell_type": "code",
      "source": [
        "def tanh(z):\n",
        "    return (np.exp(z)-np.exp(-z))/(np.exp(z)+np.exp(-z))"
      ],
      "metadata": {
        "id": "Jgwv-uP1z2eD"
      },
      "execution_count": 65,
      "outputs": []
    },
    {
      "cell_type": "code",
      "source": [
        "def tanh_derivative(z):\n",
        "    return 1-np.power(tanh(z), 2)"
      ],
      "metadata": {
        "id": "h8soRhf4z5mR"
      },
      "execution_count": 66,
      "outputs": []
    },
    {
      "cell_type": "code",
      "source": [
        "def sigmoid(z):\n",
        "    \"\"\"\n",
        "    Compute the sigmoid of z\n",
        "\n",
        "    Arguments:\n",
        "    z -- A scalar or numpy array of any size.\n",
        "\n",
        "    Return:\n",
        "    s -- sigmoid(z)\n",
        "    \"\"\"\n",
        "    s = 1/(1+np.exp(-z))\n",
        "\n",
        "    return s"
      ],
      "metadata": {
        "id": "-jYZU5J5z7E0"
      },
      "execution_count": 67,
      "outputs": []
    },
    {
      "cell_type": "code",
      "source": [
        "def sigmoid_derivative(z):\n",
        "    return sigmoid(z)*(1-sigmoid(z))"
      ],
      "metadata": {
        "id": "b-KHO_b0z9U7"
      },
      "execution_count": 68,
      "outputs": []
    },
    {
      "cell_type": "code",
      "source": [
        "def propagate(X, Y, parameters):\n",
        "    \"\"\"\n",
        "    Argument:\n",
        "    X -- input data of size (n_x, m)\n",
        "    parameters -- python dictionary containing your parameters (output of initialization function)\n",
        "\n",
        "    Returns:\n",
        "    A2 -- The sigmoid output of the second activation\n",
        "    cache -- a dictionary containing \"Z1\", \"A1\", \"Z2\" and \"A2\"\n",
        "    \"\"\"\n",
        "    # Retrieve each parameter from the dictionary \"parameters\"\n",
        "    W1 = parameters[\"W1\"]\n",
        "    b1 = parameters[\"b1\"]\n",
        "    W2 = parameters[\"W2\"]\n",
        "    b2 = parameters[\"b2\"]\n",
        "\n",
        "    # Zi es la combinacion lineal entre x y w\n",
        "    # Ai es la aplicacion de una funcion de activacion a Zi\n",
        "\n",
        "    Z1 = np.dot(W1, X) + b1\n",
        "    A1 = tanh(Z1)\n",
        "    Z2 = np.dot(W2, A1) + b2\n",
        "    A2 = Z2\n",
        "\n",
        "\n",
        "    assert(A2.shape == (1, X.shape[1]))\n",
        "\n",
        "    cache = {\"Z1\": Z1,\n",
        "             \"A1\": A1,\n",
        "             \"Z2\": Z2,\n",
        "             \"A2\": A2}\n",
        "\n",
        "    m = Y.shape[1] # number of samples\n",
        "\n",
        "    cost = (1/m)*np.sum((Y-A2)**2)\n",
        "\n",
        "    cost = np.squeeze(cost)     # makes sure cost is the dimension we expect.\n",
        "                                # E.g., turns [[17]] into 17\n",
        "    assert(isinstance(cost, float))\n",
        "\n",
        "\n",
        "    m = X.shape[1]\n",
        "\n",
        "    W1 = parameters[\"W1\"]\n",
        "    W2 = parameters[\"W2\"]\n",
        "\n",
        "    A1 = cache[\"A1\"]\n",
        "    A2 = cache[\"A2\"]\n",
        "\n",
        "    # Calculo de derivadas\n",
        "\n",
        "    dZ2 = 2*(A2-Y)\n",
        "    dW2 = (1/m)*np.dot(dZ2, A1.T)\n",
        "    db2 = (1/m)*np.sum(dZ2, axis = 1, keepdims = True)\n",
        "    dZ1 = np.dot(W2.T, dZ2)*tanh_derivative(A1)\n",
        "    dW1 = (1/m)*np.dot(dZ1, X.T)\n",
        "    db1 = (1/m)*np.sum(dZ1, axis = 1, keepdims = True)\n",
        "\n",
        "    grads = {\"dW1\": dW1,\n",
        "             \"db1\": db1,\n",
        "             \"dW2\": dW2,\n",
        "             \"db2\": db2}\n",
        "\n",
        "\n",
        "    return A2, cache, cost, grads"
      ],
      "metadata": {
        "id": "uBwe6AGPz_Pu"
      },
      "execution_count": 69,
      "outputs": []
    },
    {
      "cell_type": "code",
      "source": [
        "def validation(X, Y, parameters):\n",
        "    \"\"\"\n",
        "    Argument:\n",
        "    X -- input data of size (n_x, m)\n",
        "    Y -- output data of size (n_y, m)\n",
        "    parameters -- python dictionary containing your parameters (output of initialization function)\n",
        "\n",
        "    Returns:\n",
        "    A2 -- The sigmoid output of the second activation\n",
        "    cache -- a dictionary containing \"Z1\", \"A1\", \"Z2\" and \"A2\"\n",
        "    cost -- the value of cost\n",
        "    grads -- a dictionary contains derivatives to update parameters\n",
        "    \"\"\"\n",
        "    # Regresa cada parametro del diccionario \"parameters\"\n",
        "\n",
        "    W1 = parameters[\"W1\"]\n",
        "    b1 = parameters[\"b1\"]\n",
        "    W2 = parameters[\"W2\"]\n",
        "    b2 = parameters[\"b2\"]\n",
        "\n",
        "    # Pasos 1 y 2:\n",
        "\n",
        "    # Zi es la combinacion lineal entre x y w\n",
        "    # Ai es la aplicacion de una funcion de activacion a Zi:\n",
        "\n",
        "    Z1 = np.dot(W1, X) + b1\n",
        "    A1 = tanh(Z1)\n",
        "    Z2 = np.dot(W2, A1) + b2\n",
        "    A2 = Z2\n",
        "\n",
        "    # se verifican las dimensiones de A2:\n",
        "\n",
        "    assert(A2.shape == (1, X.shape[1]))\n",
        "\n",
        "    # Paso 3:\n",
        "\n",
        "    # numero de muestras:\n",
        "\n",
        "    m = Y.shape[1]\n",
        "\n",
        "    # se calcula el costo:\n",
        "\n",
        "    cost = (1/m)*np.sum((Y-A2)**2)\n",
        "\n",
        "    # Asegura que cost sea un escalar:\n",
        "\n",
        "    cost = np.squeeze(cost)\n",
        "\n",
        "    assert(isinstance(cost, float))\n",
        "\n",
        "    return cost"
      ],
      "metadata": {
        "id": "VxK1qx2S0Bkg"
      },
      "execution_count": 70,
      "outputs": []
    },
    {
      "cell_type": "markdown",
      "source": [
        "Recordemos que la funcion de costo, $J$, nos permite saber qué tan bien se esta ajustando el modelo a la variable objetivo de las muestras.\n",
        "\n",
        "Para ello se buscan los parámetros que minimizen a esta función.\n",
        "\n",
        "En el presente caso, la función de costo está definida por la relación siguiente:\n",
        "\n",
        "$$J = \\dfrac{1}{m} \\sum_{i=1}^{m}(y_i-a_i)^2$$"
      ],
      "metadata": {
        "id": "PgVy6t-O0pi4"
      }
    },
    {
      "cell_type": "code",
      "source": [
        "def compute_cost(A2, Y, parameters):\n",
        "    \"\"\"\n",
        "    Computes the cross-entropy cost given in equation (13)\n",
        "\n",
        "    Arguments:\n",
        "    A2 -- The sigmoid output of the second activation, of shape (1, number of examples)\n",
        "    Y -- \"true\" labels vector of shape (1, number of examples)\n",
        "    parameters -- python dictionary containing your parameters W1, b1, W2 and b2\n",
        "\n",
        "    Returns:\n",
        "    cost -- cross-entropy cost given equation (13)\n",
        "    \"\"\"\n",
        "\n",
        "    m = Y.shape[1] # number of samples\n",
        "\n",
        "    cost = (1/m)*np.sum((Y-A2)**2)\n",
        "\n",
        "    cost = np.squeeze(cost)     # makes sure cost is the dimension we expect.\n",
        "                                # E.g., turns [[17]] into 17\n",
        "    assert(isinstance(cost, float))\n",
        "\n",
        "    return cost\n",
        ""
      ],
      "metadata": {
        "id": "rnp3_7nc0TT9"
      },
      "execution_count": 71,
      "outputs": []
    },
    {
      "cell_type": "markdown",
      "source": [
        "Para encontrar a los valores optimos de los parametros, estos se acualizan en cada época empleando el algoritmo de gradiente descendente. El cual esta definido por la siguientes relaciones:\n",
        "\n",
        "$$ \\omega_k := \\omega_k - \\alpha \\dfrac{\\partial J(\\omega, b)}{\\partial \\omega_k}$$\n",
        "\n",
        "$$ b_l := b_l - \\alpha \\dfrac{\\partial J(\\omega, b)}{\\partial b_l}$$\n",
        "\n",
        "Es por ello necesario calcular las derivadas del costo respecto a cada uno de los parametros que definen al sistema de aprendizaje. $\\alpha$ es la relación de aprendizaje."
      ],
      "metadata": {
        "id": "Kc_CkMDU1jWA"
      }
    },
    {
      "cell_type": "code",
      "source": [
        "def calculation_of_derivatives(parameters, cache, X, Y):\n",
        "    \"\"\"\n",
        "    Implement the backward propagation using the instructions above.\n",
        "\n",
        "    Arguments:\n",
        "    parameters -- python dictionary containing our parameters\n",
        "    cache -- a dictionary containing \"Z1\", \"A1\", \"Z2\" and \"A2\".\n",
        "    X -- input data of shape (2, number of examples)\n",
        "    Y -- \"true\" labels vector of shape (1, number of examples)\n",
        "\n",
        "    Returns:\n",
        "    grads -- python dictionary containing your gradients with respect to different parameters\n",
        "    \"\"\"\n",
        "    m = X.shape[1]\n",
        "\n",
        "    W1 = parameters[\"W1\"]\n",
        "    W2 = parameters[\"W2\"]\n",
        "\n",
        "    A1 = cache[\"A1\"]\n",
        "    A2 = cache[\"A2\"]\n",
        "\n",
        "    # Calculo de derivadas\n",
        "\n",
        "    dZ2 = 2*(A2-Y)\n",
        "    dW2 = (1/m)*np.dot(dZ2, A1.T)\n",
        "    db2 = (1/m)*np.sum(dZ2, axis = 1, keepdims = True)\n",
        "    dZ1 = np.dot(W2.T, dZ2)*(1-np.power(A1, 2))\n",
        "    dW1 = (1/m)*np.dot(dZ1, X.T)\n",
        "    db1 = (1/m)*np.sum(dZ1, axis = 1, keepdims = True)\n",
        "\n",
        "    grads = {\"dW1\": dW1,\n",
        "             \"db1\": db1,\n",
        "             \"dW2\": dW2,\n",
        "             \"db2\": db2}\n",
        "\n",
        "    return grads"
      ],
      "metadata": {
        "id": "SNE5E4JA1g8F"
      },
      "execution_count": 72,
      "outputs": []
    },
    {
      "cell_type": "markdown",
      "source": [
        "Optimizacion de los pesos y los bias"
      ],
      "metadata": {
        "id": "nfmH3LiP2oaj"
      }
    },
    {
      "cell_type": "code",
      "source": [
        "def optimize(parameters, grads, learning_rate = 0.1):\n",
        "    \"\"\"\n",
        "    Updates parameters using the gradient descent update rule given above\n",
        "\n",
        "    Arguments:\n",
        "    parameters -- python dictionary containing your parameters\n",
        "    grads -- python dictionary containing your gradients\n",
        "\n",
        "    Returns:\n",
        "    parameters -- python dictionary containing your updated parameters\n",
        "    \"\"\"\n",
        "    # Retrieve each parameter from the dictionary \"parameters\"\n",
        "    W1 = parameters[\"W1\"]\n",
        "    b1 = parameters[\"b1\"]\n",
        "    W2 = parameters[\"W2\"]\n",
        "    b2 = parameters[\"b2\"]\n",
        "\n",
        "    # Retrieve each gradient from the dictionary \"grads\"\n",
        "    dW1 = grads[\"dW1\"]\n",
        "    db1 = grads[\"db1\"]\n",
        "    dW2 = grads[\"dW2\"]\n",
        "    db2 = grads[\"db2\"]\n",
        "\n",
        "    # Update rule for each parameter\n",
        "    W1 = W1-learning_rate*dW1\n",
        "    b1 = b1-learning_rate*db1\n",
        "    W2 = W2-learning_rate*dW2\n",
        "    b2 = b2-learning_rate*db2\n",
        "\n",
        "    parameters = {\"W1\": W1,\n",
        "                  \"b1\": b1,\n",
        "                  \"W2\": W2,\n",
        "                  \"b2\": b2}\n",
        "\n",
        "    return parameters"
      ],
      "metadata": {
        "id": "UzKNGzmB2ZOT"
      },
      "execution_count": 73,
      "outputs": []
    },
    {
      "cell_type": "code",
      "source": [
        "def predict(parameters, X, Y):\n",
        "    \"\"\"\n",
        "    Using the learned parameters, predicts a class for each example in X\n",
        "\n",
        "    Arguments:\n",
        "    parameters -- python dictionary containing your parameters\n",
        "    X -- input data of size (n_x, m)\n",
        "\n",
        "    Returns\n",
        "    predictions -- vector of predictions of our model (red: 0 / blue: 1)\n",
        "    \"\"\"\n",
        "    predictions =  []\n",
        "    A2, cache, cost, grads = propagate(X, Y, parameters)\n",
        "    predictions = identity(A2)\n",
        "\n",
        "    return predictions"
      ],
      "metadata": {
        "id": "EXykvuVb3CUo"
      },
      "execution_count": 74,
      "outputs": []
    },
    {
      "cell_type": "code",
      "source": [
        "def nn_model(X, Y, val_ratio, n_h, epochs, alpha, print_cost=False):\n",
        "    \"\"\"\n",
        "    Arguments:\n",
        "    X -- dataset of shape (2, number of examples)\n",
        "    Y -- labels of shape (1, number of examples)\n",
        "    n_h -- size of the hidden layer\n",
        "    num_iterations -- Number of iterations in gradient descent loop\n",
        "    print_cost -- if True, print the cost every 1000 iterations\n",
        "\n",
        "    Returns:\n",
        "    parameters -- parameters learnt by the model. They can then be used to predict.\n",
        "    \"\"\"\n",
        "\n",
        "    train_ratio = int((1-val_ratio)*X.shape[1])\n",
        "    X_val = X[:,train_ratio:]\n",
        "    Y_val = Y[:,train_ratio:]\n",
        "\n",
        "    X = X[:,:train_ratio]\n",
        "    Y = Y[:,:train_ratio]\n",
        "\n",
        "    print(\"Train\",X.shape,Y.shape)\n",
        "    print(\"val\",X_val.shape,Y_val.shape)\n",
        "\n",
        "    np.random.seed(3)\n",
        "\n",
        "    n_x, n_h, n_y = layer_sizes(X, Y, n_h = n_h)\n",
        "\n",
        "    # Initialize parameters, then retrieve W1, b1, W2, b2. Inputs: \"n_x, n_h, n_y\". Outputs = \"W1, b1, W2, b2, parameters\".\n",
        "    parameters = initialize_parameters(n_x, n_h, n_y)\n",
        "    W1 = parameters[\"W1\"]\n",
        "    b1 = parameters[\"b1\"]\n",
        "    W2 = parameters[\"W2\"]\n",
        "    b2 = parameters[\"b2\"]\n",
        "\n",
        "    # Loop (gradient descent)\n",
        "\n",
        "    costs=[]\n",
        "    costs_val = []\n",
        "    params = []\n",
        "\n",
        "\n",
        "    for i in range(0, epochs):\n",
        "\n",
        "        A2, cache, cost, grads = propagate(X, Y, parameters)\n",
        "\n",
        "        cost_val = validation(X_val, Y_val, parameters)\n",
        "\n",
        "        parameters = optimize(parameters, grads, alpha)\n",
        "\n",
        "        params.append(parameters)\n",
        "\n",
        "        costs.append(cost)\n",
        "\n",
        "        costs_val.append(cost_val)\n",
        "\n",
        "        # Print the cost every 1000 iterations\n",
        "        if print_cost and i % 100 == 0:\n",
        "            print (\"Cost and Cost_val in epoch %i: %f %f\" %(i, cost, cost_val))\n",
        "\n",
        "    return parameters, costs, params, costs_val"
      ],
      "metadata": {
        "id": "qa-DFA3N3eKa"
      },
      "execution_count": 75,
      "outputs": []
    },
    {
      "cell_type": "markdown",
      "source": [
        "Para monitorear el aprendizaje, las muestras para el aprendizaje se dividen en dos grupos:\n",
        "\n",
        "El (1.0 - val_ratio) (90% en el presente caso) de ellas se emplean para realizar el aprendizaje y el (val_ratio) (el 10% en el presente caso) restante para evaluar, \"validar\", la calidad del aprendizaje."
      ],
      "metadata": {
        "id": "nDuePEtt30Y_"
      }
    },
    {
      "cell_type": "code",
      "source": [
        "epochs = 2000\n",
        "learning_rate = 0.008\n",
        "val_ratio = 0.1\n",
        "n_h = 4\n",
        "\n",
        "opt_parameters, costs, params, costs_val = nn_model(train_x, train_y, val_ratio=val_ratio, n_h = n_h, epochs = epochs, alpha=learning_rate, print_cost=True)\n"
      ],
      "metadata": {
        "colab": {
          "base_uri": "https://localhost:8080/"
        },
        "id": "ukor5JEc394O",
        "outputId": "24ffd3a1-83bf-42ce-d0ec-d875316d3f45"
      },
      "execution_count": 76,
      "outputs": [
        {
          "output_type": "stream",
          "name": "stdout",
          "text": [
            "Train (10, 317) (1, 317)\n",
            "val (10, 36) (1, 36)\n",
            "Cost and Cost_val in epoch 0: 0.974337 1.389790\n",
            "Cost and Cost_val in epoch 100: 0.796315 1.129754\n",
            "Cost and Cost_val in epoch 200: 0.539345 0.688013\n",
            "Cost and Cost_val in epoch 300: 0.476044 0.545057\n",
            "Cost and Cost_val in epoch 400: 0.456886 0.489263\n",
            "Cost and Cost_val in epoch 500: 0.452101 0.469730\n",
            "Cost and Cost_val in epoch 600: 0.450552 0.464229\n",
            "Cost and Cost_val in epoch 700: 0.449777 0.463237\n",
            "Cost and Cost_val in epoch 800: 0.449276 0.463455\n",
            "Cost and Cost_val in epoch 900: 0.448903 0.463869\n",
            "Cost and Cost_val in epoch 1000: 0.448596 0.464211\n",
            "Cost and Cost_val in epoch 1100: 0.448326 0.464437\n",
            "Cost and Cost_val in epoch 1200: 0.448077 0.464560\n",
            "Cost and Cost_val in epoch 1300: 0.447842 0.464604\n",
            "Cost and Cost_val in epoch 1400: 0.447615 0.464592\n",
            "Cost and Cost_val in epoch 1500: 0.447394 0.464538\n",
            "Cost and Cost_val in epoch 1600: 0.447176 0.464453\n",
            "Cost and Cost_val in epoch 1700: 0.446960 0.464346\n",
            "Cost and Cost_val in epoch 1800: 0.446745 0.464220\n",
            "Cost and Cost_val in epoch 1900: 0.446530 0.464080\n"
          ]
        }
      ]
    },
    {
      "cell_type": "code",
      "source": [
        "costs = np.squeeze(costs)\n",
        "plt.plot(costs, color='red')\n",
        "plt.plot(costs_val, color='green')\n",
        "\n",
        "plt.ylabel('Cost', size=16)\n",
        "plt.xlabel('epochs', size=16)\n",
        "plt.legend(['Train', 'Val'], loc='upper right')\n",
        "plt.show()"
      ],
      "metadata": {
        "colab": {
          "base_uri": "https://localhost:8080/",
          "height": 461
        },
        "id": "NARG-HjB4ENr",
        "outputId": "46573bf5-b649-4bc4-8882-a35b30d2cc5c"
      },
      "execution_count": 77,
      "outputs": [
        {
          "output_type": "display_data",
          "data": {
            "text/plain": [
              "<Figure size 640x480 with 1 Axes>"
            ],
            "image/png": "[encoded data removed]"
          },
          "metadata": {}
        }
      ]
    },
    {
      "cell_type": "code",
      "source": [],
      "metadata": {
        "id": "5Z8URDJW4haQ"
      },
      "execution_count": null,
      "outputs": []
    }
  ]
}